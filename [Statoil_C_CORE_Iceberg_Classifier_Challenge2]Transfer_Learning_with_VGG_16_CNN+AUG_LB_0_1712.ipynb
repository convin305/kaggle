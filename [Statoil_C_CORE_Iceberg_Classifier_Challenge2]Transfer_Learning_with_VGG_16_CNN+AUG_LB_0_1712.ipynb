{
  "nbformat": 4,
  "nbformat_minor": 0,
  "metadata": {
    "colab": {
      "name": "[Statoil/C-CORE Iceberg Classifier Challenge2]Transfer Learning with VGG-16 CNN+AUG LB 0.1712.ipynb",
      "provenance": [],
      "authorship_tag": "ABX9TyMNVbwmranxsZvytedEW7KE",
      "include_colab_link": true
    },
    "kernelspec": {
      "name": "python3",
      "display_name": "Python 3"
    },
    "language_info": {
      "name": "python"
    },
    "accelerator": "GPU",
    "gpuClass": "standard"
  },
  "cells": [
    {
      "cell_type": "markdown",
      "metadata": {
        "id": "view-in-github",
        "colab_type": "text"
      },
      "source": [
        "<a href=\"https://colab.research.google.com/github/convin305/kaggle/blob/main/%5BStatoil_C_CORE_Iceberg_Classifier_Challenge2%5DTransfer_Learning_with_VGG_16_CNN%2BAUG_LB_0_1712.ipynb\" target=\"_parent\"><img src=\"https://colab.research.google.com/assets/colab-badge.svg\" alt=\"Open In Colab\"/></a>"
      ]
    },
    {
      "cell_type": "code",
      "execution_count": 1,
      "metadata": {
        "id": "kp2wLkSlThQ6"
      },
      "outputs": [],
      "source": [
        "import numpy as np\n",
        "import pandas as pd\n",
        "from sklearn.model_selection import train_test_split\n",
        "from sklearn.metrics import log_loss\n",
        "from sklearn.model_selection import StratifiedKFold, StratifiedShuffleSplit\n",
        "from os.path import join as opj\n",
        "from matplotlib import pyplot as plt\n",
        "from mpl_toolkits.mplot3d import Axes3D\n",
        "import pylab\n",
        "plt.rcParams['figure.figsize'] = 10, 10\n",
        "%matplotlib inline"
      ]
    },
    {
      "cell_type": "code",
      "source": [
        "pd.options.display.max_columns = 150\n",
        "\n",
        "!pip install kaggle\n",
        "from google.colab import files\n",
        "files.upload()\n",
        "\n",
        "!mkdir -p ~/.kaggle\n",
        "!cp kaggle.json ~/.kaggle/\n",
        "# Permission Warning이 발생하지 않도록 해줍니다.\n",
        "!chmod 600 ~/.kaggle/kaggle.json\n",
        "\n",
        "!kaggle competitions download -c statoil-iceberg-classifier-challenge"
      ],
      "metadata": {
        "colab": {
          "resources": {
            "http://localhost:8080/nbextensions/google.colab/files.js": {
              "data": "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",
              "ok": true,
              "headers": [
                [
                  "content-type",
                  "application/javascript"
                ]
              ],
              "status": 200,
              "status_text": ""
            }
          },
          "base_uri": "https://localhost:8080/",
          "height": 352
        },
        "id": "8dWN7NiaT32i",
        "outputId": "4e451dcd-f981-4c0f-932c-79eaa93587a2"
      },
      "execution_count": 2,
      "outputs": [
        {
          "output_type": "stream",
          "name": "stdout",
          "text": [
            "Looking in indexes: https://pypi.org/simple, https://us-python.pkg.dev/colab-wheels/public/simple/\n",
            "Requirement already satisfied: kaggle in /usr/local/lib/python3.7/dist-packages (1.5.12)\n",
            "Requirement already satisfied: python-slugify in /usr/local/lib/python3.7/dist-packages (from kaggle) (6.1.2)\n",
            "Requirement already satisfied: tqdm in /usr/local/lib/python3.7/dist-packages (from kaggle) (4.64.0)\n",
            "Requirement already satisfied: python-dateutil in /usr/local/lib/python3.7/dist-packages (from kaggle) (2.8.2)\n",
            "Requirement already satisfied: certifi in /usr/local/lib/python3.7/dist-packages (from kaggle) (2022.6.15)\n",
            "Requirement already satisfied: six>=1.10 in /usr/local/lib/python3.7/dist-packages (from kaggle) (1.15.0)\n",
            "Requirement already satisfied: urllib3 in /usr/local/lib/python3.7/dist-packages (from kaggle) (1.24.3)\n",
            "Requirement already satisfied: requests in /usr/local/lib/python3.7/dist-packages (from kaggle) (2.23.0)\n",
            "Requirement already satisfied: text-unidecode>=1.3 in /usr/local/lib/python3.7/dist-packages (from python-slugify->kaggle) (1.3)\n",
            "Requirement already satisfied: idna<3,>=2.5 in /usr/local/lib/python3.7/dist-packages (from requests->kaggle) (2.10)\n",
            "Requirement already satisfied: chardet<4,>=3.0.2 in /usr/local/lib/python3.7/dist-packages (from requests->kaggle) (3.0.4)\n"
          ]
        },
        {
          "output_type": "display_data",
          "data": {
            "text/plain": [
              "<IPython.core.display.HTML object>"
            ],
            "text/html": [
              "\n",
              "     <input type=\"file\" id=\"files-402755f1-42df-42e9-9b31-16d68dfa009c\" name=\"files[]\" multiple disabled\n",
              "        style=\"border:none\" />\n",
              "     <output id=\"result-402755f1-42df-42e9-9b31-16d68dfa009c\">\n",
              "      Upload widget is only available when the cell has been executed in the\n",
              "      current browser session. Please rerun this cell to enable.\n",
              "      </output>\n",
              "      <script src=\"/nbextensions/google.colab/files.js\"></script> "
            ]
          },
          "metadata": {}
        },
        {
          "output_type": "stream",
          "name": "stdout",
          "text": [
            "Saving kaggle.json to kaggle.json\n",
            "Downloading statoil-iceberg-classifier-challenge.zip to /content\n",
            "100% 288M/288M [00:08<00:00, 45.3MB/s]\n",
            "100% 288M/288M [00:08<00:00, 34.1MB/s]\n"
          ]
        }
      ]
    },
    {
      "cell_type": "code",
      "source": [
        "!unzip statoil-iceberg-classifier-challenge.zip"
      ],
      "metadata": {
        "colab": {
          "base_uri": "https://localhost:8080/"
        },
        "id": "3GwAbyH0UAcl",
        "outputId": "c5b12ec3-5d82-4136-9b98-fbb99ca2a283"
      },
      "execution_count": 3,
      "outputs": [
        {
          "output_type": "stream",
          "name": "stdout",
          "text": [
            "Archive:  statoil-iceberg-classifier-challenge.zip\n",
            "  inflating: sample_submission.csv.7z  \n",
            "  inflating: test.json.7z            \n",
            "  inflating: train.json.7z           \n"
          ]
        }
      ]
    },
    {
      "cell_type": "code",
      "source": [
        "!pip install pyunpack\n",
        "!pip install patool"
      ],
      "metadata": {
        "colab": {
          "base_uri": "https://localhost:8080/"
        },
        "id": "hwGaqUOlUAUW",
        "outputId": "8f017831-674d-45a6-d569-7f09746503a2"
      },
      "execution_count": 4,
      "outputs": [
        {
          "output_type": "stream",
          "name": "stdout",
          "text": [
            "Looking in indexes: https://pypi.org/simple, https://us-python.pkg.dev/colab-wheels/public/simple/\n",
            "Collecting pyunpack\n",
            "  Downloading pyunpack-0.3-py2.py3-none-any.whl (4.1 kB)\n",
            "Collecting easyprocess\n",
            "  Downloading EasyProcess-1.1-py3-none-any.whl (8.7 kB)\n",
            "Collecting entrypoint2\n",
            "  Downloading entrypoint2-1.1-py2.py3-none-any.whl (9.9 kB)\n",
            "Installing collected packages: entrypoint2, easyprocess, pyunpack\n",
            "Successfully installed easyprocess-1.1 entrypoint2-1.1 pyunpack-0.3\n",
            "Looking in indexes: https://pypi.org/simple, https://us-python.pkg.dev/colab-wheels/public/simple/\n",
            "Collecting patool\n",
            "  Downloading patool-1.12-py2.py3-none-any.whl (77 kB)\n",
            "\u001b[K     |████████████████████████████████| 77 kB 5.0 MB/s \n",
            "\u001b[?25hInstalling collected packages: patool\n",
            "Successfully installed patool-1.12\n"
          ]
        }
      ]
    },
    {
      "cell_type": "code",
      "source": [
        "from pyunpack import Archive\n",
        "import shutil\n",
        "import os\n",
        "\n",
        " \n",
        "\n",
        "if not os.path.exists('train/') :\n",
        "    os.makedirs('train/')\n",
        "\n",
        "Archive('/content/train.json.7z').extractall('train/')\n",
        "\n",
        "if not os.path.exists('test/') :\n",
        "    os.makedirs('test/')\n",
        "\n",
        "Archive('/content/test.json.7z').extractall('test/')\n",
        "\n",
        "for dirname, _, filenames in os.walk('/kaggle/'):\n",
        "    for filename in filenames:\n",
        "        print(os.path.join(dirname, filename))"
      ],
      "metadata": {
        "id": "HPWrCsQeUAPe"
      },
      "execution_count": 5,
      "outputs": []
    },
    {
      "cell_type": "code",
      "source": [
        "train = pd.read_json('train.json')\n",
        "test = pd.read_json('test.json')"
      ],
      "metadata": {
        "id": "jL_aXSHEUf2e"
      },
      "execution_count": 6,
      "outputs": []
    },
    {
      "cell_type": "code",
      "source": [
        "target_train=train['is_iceberg']\n",
        "test['inc_angle']=pd.to_numeric(test['inc_angle'], errors='coerce')\n",
        "train['inc_angle']=pd.to_numeric(train['inc_angle'], errors='coerce')#We have only 133 NAs.\n",
        "train['inc_angle']=train['inc_angle'].fillna(method='pad')\n",
        "X_angle=train['inc_angle']\n",
        "test['inc_angle']=pd.to_numeric(test['inc_angle'], errors='coerce')\n",
        "X_test_angle=test['inc_angle']\n",
        "\n",
        "#Generate the training data\n",
        "X_band_1=np.array([np.array(band).astype(np.float32).reshape(75, 75) for band in train[\"band_1\"]])\n",
        "X_band_2=np.array([np.array(band).astype(np.float32).reshape(75, 75) for band in train[\"band_2\"]])\n",
        "X_band_3=(X_band_1+X_band_2)/2\n",
        "#X_band_3=np.array([np.full((75, 75), angel).astype(np.float32) for angel in train[\"inc_angle\"]])\n",
        "X_train = np.concatenate([X_band_1[:, :, :, np.newaxis]\n",
        "                          , X_band_2[:, :, :, np.newaxis]\n",
        "                         , X_band_3[:, :, :, np.newaxis]], axis=-1)"
      ],
      "metadata": {
        "id": "kyMysAjmU4N0"
      },
      "execution_count": 22,
      "outputs": []
    },
    {
      "cell_type": "code",
      "source": [
        "X_band_test_1=np.array([np.array(band).astype(np.float32).reshape(75, 75) for band in test[\"band_1\"]])\n",
        "X_band_test_2=np.array([np.array(band).astype(np.float32).reshape(75, 75) for band in test[\"band_2\"]])\n",
        "X_band_test_3=(X_band_test_1+X_band_test_2)/2\n",
        "#X_band_test_3=np.array([np.full((75, 75), angel).astype(np.float32) for angel in test[\"inc_angle\"]])\n",
        "X_test = np.concatenate([X_band_test_1[:, :, :, np.newaxis]\n",
        "                          , X_band_test_2[:, :, :, np.newaxis]\n",
        "                         , X_band_test_3[:, :, :, np.newaxis]], axis=-1)"
      ],
      "metadata": {
        "id": "Zj8pijOKVJtH"
      },
      "execution_count": 7,
      "outputs": []
    },
    {
      "cell_type": "code",
      "source": [
        "from matplotlib import pyplot\n",
        "from tensorflow.keras.optimizers import RMSprop # 두개들어감\n",
        "from keras.preprocessing.image import ImageDataGenerator\n",
        "from keras.models import Sequential\n",
        "from keras.layers import Conv2D, MaxPooling2D, Dense, Dropout, Input, Flatten, Activation\n",
        "from keras.layers import GlobalMaxPooling2D\n",
        "from tensorflow.keras.layers import BatchNormalization\n",
        "from keras.layers.merge import Concatenate\n",
        "from keras.models import Model\n",
        "from keras import initializers\n",
        "from tensorflow.keras.optimizers import Adam\n",
        "from keras.layers.advanced_activations import LeakyReLU, PReLU\n",
        "from tensorflow.keras.optimizers import SGD\n",
        "from keras.callbacks import ModelCheckpoint, Callback, EarlyStopping\n",
        "\n",
        "from keras.datasets import cifar10\n",
        "from keras.applications.inception_v3 import InceptionV3\n",
        "from keras.applications.vgg16 import VGG16\n",
        "from keras.applications.xception import Xception\n",
        "from keras.applications.mobilenet import MobileNet\n",
        "from keras.applications.vgg19 import VGG19\n",
        "from keras.layers import Concatenate, Dense, LSTM, Input, concatenate\n",
        "from keras.preprocessing import image\n",
        "from keras.applications.vgg16 import preprocess_input\t"
      ],
      "metadata": {
        "id": "8zBQ9431VKMV"
      },
      "execution_count": 17,
      "outputs": []
    },
    {
      "cell_type": "code",
      "source": [
        "from keras.preprocessing.image import ImageDataGenerator\n",
        "batch_size=64\n",
        "# Define the image transformations here\n",
        "gen = ImageDataGenerator(horizontal_flip = True,\n",
        "                         vertical_flip = True,\n",
        "                         width_shift_range = 0.,\n",
        "                         height_shift_range = 0.,\n",
        "                         channel_shift_range=0,\n",
        "                         zoom_range = 0.2,\n",
        "                         rotation_range = 10)"
      ],
      "metadata": {
        "id": "OciUvy7XVNX0"
      },
      "execution_count": 18,
      "outputs": []
    },
    {
      "cell_type": "code",
      "source": [
        "def gen_flow_for_two_inputs(X1, X2, y):\n",
        "    genX1 = gen.flow(X1,y,  batch_size=batch_size,seed=55)\n",
        "    genX2 = gen.flow(X1,X2, batch_size=batch_size,seed=55)\n",
        "    while True:\n",
        "            X1i = genX1.next()\n",
        "            X2i = genX2.next()\n",
        "            #Assert arrays are equal - this was for peace of mind, but slows down training\n",
        "            #np.testing.assert_array_equal(X1i[0],X2i[0])\n",
        "            yield [X1i[0], X2i[1]], X1i[1]\n",
        "\n",
        "# Finally create generator\n",
        "def get_callbacks(filepath, patience=2):\n",
        "   es = EarlyStopping('val_loss', patience=10, mode=\"min\")\n",
        "   msave = ModelCheckpoint(filepath, save_best_only=True)\n",
        "   return [es, msave]\n",
        "\n",
        "\n",
        "def getVggAngleModel():\n",
        "    input_2 = Input(shape=[1], name=\"angle\")\n",
        "    angle_layer = Dense(1, )(input_2)\n",
        "    base_model = VGG16(weights='imagenet', include_top=False, \n",
        "                 input_shape=X_train.shape[1:], classes=1)\n",
        "    x = base_model.get_layer('block5_pool').output\n",
        "    \n",
        "\n",
        "    x = GlobalMaxPooling2D()(x)\n",
        "    merge_one = concatenate([x, angle_layer])\n",
        "    merge_one = Dense(512, activation='relu', name='fc2')(merge_one)\n",
        "    merge_one = Dropout(0.3)(merge_one)\n",
        "    merge_one = Dense(512, activation='relu', name='fc3')(merge_one)\n",
        "    merge_one = Dropout(0.3)(merge_one)\n",
        "    \n",
        "    predictions = Dense(1, activation='sigmoid')(merge_one)\n",
        "    \n",
        "    ### https://github.com/keras-team/keras/issues/13743\n",
        "    model = Model([base_model.input, input_2], predictions)\n",
        "    \n",
        "    sgd = SGD(lr=1e-3, decay=1e-6, momentum=0.9, nesterov=True)\n",
        "    model.compile(loss='binary_crossentropy',\n",
        "                  optimizer=sgd,\n",
        "                  metrics=['accuracy'])\n",
        "    return model"
      ],
      "metadata": {
        "id": "6PZyccQ7VRWx"
      },
      "execution_count": 24,
      "outputs": []
    },
    {
      "cell_type": "code",
      "source": [
        "def myAngleCV(X_train, X_angle, X_test):\n",
        "    K=3\n",
        "    folds = list(StratifiedKFold(n_splits=K, shuffle=True, random_state=16).split(X_train, target_train))\n",
        "    y_test_pred_log = 0\n",
        "    y_train_pred_log=0\n",
        "    y_valid_pred_log = 0.0*target_train\n",
        "    for j, (train_idx, test_idx) in enumerate(folds):\n",
        "        print('\\n===================FOLD=',j)\n",
        "        X_train_cv = X_train[train_idx]\n",
        "        y_train_cv = target_train[train_idx]\n",
        "        X_holdout = X_train[test_idx]\n",
        "        Y_holdout= target_train[test_idx]\n",
        "        \n",
        "        #Angle\n",
        "        X_angle_cv=X_angle[train_idx]\n",
        "        X_angle_hold=X_angle[test_idx]\n",
        "\n",
        "        #define file path and get callbacks\n",
        "        file_path = \"%s_aug_model_weights.hdf5\"%j\n",
        "        callbacks = get_callbacks(filepath=file_path, patience=5)\n",
        "        gen_flow = gen_flow_for_two_inputs(X_train_cv, X_angle_cv, y_train_cv)\n",
        "        galaxyModel= getVggAngleModel()\n",
        "        galaxyModel.fit_generator(\n",
        "                gen_flow,\n",
        "                steps_per_epoch=24,\n",
        "                epochs=100,\n",
        "                shuffle=True,\n",
        "                verbose=1,\n",
        "                validation_data=([X_holdout,X_angle_hold], Y_holdout),\n",
        "                callbacks=callbacks)\n",
        "\n",
        "        #Getting the Best Model\n",
        "        galaxyModel.load_weights(filepath=file_path)\n",
        "        #Getting Training Score\n",
        "        score = galaxyModel.evaluate([X_train_cv,X_angle_cv], y_train_cv, verbose=0)\n",
        "        print('Train loss:', score[0])\n",
        "        print('Train accuracy:', score[1])\n",
        "        #Getting Test Score\n",
        "        score = galaxyModel.evaluate([X_holdout,X_angle_hold], Y_holdout, verbose=0)\n",
        "        print('Test loss:', score[0])\n",
        "        print('Test accuracy:', score[1])\n",
        "\n",
        "        #Getting validation Score.\n",
        "        pred_valid=galaxyModel.predict([X_holdout,X_angle_hold])\n",
        "        y_valid_pred_log[test_idx] = pred_valid.reshape(pred_valid.shape[0])\n",
        "\n",
        "        #Getting Test Scores\n",
        "        temp_test=galaxyModel.predict([X_test, X_test_angle])\n",
        "        y_test_pred_log+=temp_test.reshape(temp_test.shape[0])\n",
        "\n",
        "        #Getting Train Scores\n",
        "        temp_train=galaxyModel.predict([X_train, X_angle])\n",
        "        y_train_pred_log+=temp_train.reshape(temp_train.shape[0])\n",
        "\n",
        "    y_test_pred_log=y_test_pred_log/K\n",
        "    y_train_pred_log=y_train_pred_log/K\n",
        "\n",
        "    print('\\n Train Log Loss Validation= ',log_loss(target_train, y_train_pred_log))\n",
        "    print(' Test Log Loss Validation= ',log_loss(target_train, y_valid_pred_log))\n",
        "    return y_test_pred_log"
      ],
      "metadata": {
        "id": "NkYGUp6zYU6u"
      },
      "execution_count": 25,
      "outputs": []
    },
    {
      "cell_type": "code",
      "source": [
        "preds=myAngleCV(X_train, X_angle, X_test)"
      ],
      "metadata": {
        "colab": {
          "base_uri": "https://localhost:8080/"
        },
        "id": "ysEiXgrvYXB9",
        "outputId": "9832a440-86e1-4b03-baa5-978719e0ed41"
      },
      "execution_count": 26,
      "outputs": [
        {
          "output_type": "stream",
          "name": "stdout",
          "text": [
            "\n",
            "===================FOLD= 0\n"
          ]
        },
        {
          "output_type": "stream",
          "name": "stderr",
          "text": [
            "/usr/local/lib/python3.7/dist-packages/keras/optimizer_v2/gradient_descent.py:102: UserWarning: The `lr` argument is deprecated, use `learning_rate` instead.\n",
            "  super(SGD, self).__init__(name, **kwargs)\n",
            "/usr/local/lib/python3.7/dist-packages/ipykernel_launcher.py:30: UserWarning: `Model.fit_generator` is deprecated and will be removed in a future version. Please use `Model.fit`, which supports generators.\n"
          ]
        },
        {
          "output_type": "stream",
          "name": "stdout",
          "text": [
            "Epoch 1/100\n",
            "24/24 [==============================] - 28s 369ms/step - loss: 0.8958 - accuracy: 0.5570 - val_loss: 0.6094 - val_accuracy: 0.6262\n",
            "Epoch 2/100\n",
            "24/24 [==============================] - 8s 338ms/step - loss: 0.5615 - accuracy: 0.7080 - val_loss: 0.3813 - val_accuracy: 0.8168\n",
            "Epoch 3/100\n",
            "24/24 [==============================] - 6s 241ms/step - loss: 0.3872 - accuracy: 0.8131 - val_loss: 0.2904 - val_accuracy: 0.8748\n",
            "Epoch 4/100\n",
            "24/24 [==============================] - 6s 245ms/step - loss: 0.3506 - accuracy: 0.8352 - val_loss: 0.2695 - val_accuracy: 0.8785\n",
            "Epoch 5/100\n",
            "24/24 [==============================] - 5s 227ms/step - loss: 0.2916 - accuracy: 0.8798 - val_loss: 0.2842 - val_accuracy: 0.8673\n",
            "Epoch 6/100\n",
            "24/24 [==============================] - 6s 272ms/step - loss: 0.2917 - accuracy: 0.8688 - val_loss: 0.2379 - val_accuracy: 0.9047\n",
            "Epoch 7/100\n",
            "24/24 [==============================] - 6s 238ms/step - loss: 0.2543 - accuracy: 0.8972 - val_loss: 0.2379 - val_accuracy: 0.9065\n",
            "Epoch 8/100\n",
            "24/24 [==============================] - 6s 250ms/step - loss: 0.2340 - accuracy: 0.9039 - val_loss: 0.2369 - val_accuracy: 0.9084\n",
            "Epoch 9/100\n",
            "24/24 [==============================] - 5s 229ms/step - loss: 0.2324 - accuracy: 0.9057 - val_loss: 0.2558 - val_accuracy: 0.8972\n",
            "Epoch 10/100\n",
            "24/24 [==============================] - 5s 227ms/step - loss: 0.2115 - accuracy: 0.9126 - val_loss: 0.2692 - val_accuracy: 0.9009\n",
            "Epoch 11/100\n",
            "24/24 [==============================] - 6s 239ms/step - loss: 0.1951 - accuracy: 0.9169 - val_loss: 0.2417 - val_accuracy: 0.9028\n",
            "Epoch 12/100\n",
            "24/24 [==============================] - 5s 229ms/step - loss: 0.2175 - accuracy: 0.9084 - val_loss: 0.2427 - val_accuracy: 0.9047\n",
            "Epoch 13/100\n",
            "24/24 [==============================] - 6s 246ms/step - loss: 0.1946 - accuracy: 0.9252 - val_loss: 0.2352 - val_accuracy: 0.8991\n",
            "Epoch 14/100\n",
            "24/24 [==============================] - 6s 241ms/step - loss: 0.1652 - accuracy: 0.9341 - val_loss: 0.2868 - val_accuracy: 0.8935\n",
            "Epoch 15/100\n",
            "24/24 [==============================] - 6s 252ms/step - loss: 0.1726 - accuracy: 0.9292 - val_loss: 0.2307 - val_accuracy: 0.9196\n",
            "Epoch 16/100\n",
            "24/24 [==============================] - 6s 241ms/step - loss: 0.1812 - accuracy: 0.9334 - val_loss: 0.2942 - val_accuracy: 0.8991\n",
            "Epoch 17/100\n",
            "24/24 [==============================] - 6s 263ms/step - loss: 0.1676 - accuracy: 0.9319 - val_loss: 0.2400 - val_accuracy: 0.9047\n",
            "Epoch 18/100\n",
            "24/24 [==============================] - 5s 232ms/step - loss: 0.1604 - accuracy: 0.9321 - val_loss: 0.2456 - val_accuracy: 0.9178\n",
            "Epoch 19/100\n",
            "24/24 [==============================] - 5s 229ms/step - loss: 0.1614 - accuracy: 0.9407 - val_loss: 0.2330 - val_accuracy: 0.9196\n",
            "Epoch 20/100\n",
            "24/24 [==============================] - 6s 237ms/step - loss: 0.1454 - accuracy: 0.9386 - val_loss: 0.2416 - val_accuracy: 0.9234\n",
            "Epoch 21/100\n",
            "24/24 [==============================] - 5s 230ms/step - loss: 0.1472 - accuracy: 0.9433 - val_loss: 0.2667 - val_accuracy: 0.9178\n",
            "Epoch 22/100\n",
            "24/24 [==============================] - 5s 227ms/step - loss: 0.1447 - accuracy: 0.9433 - val_loss: 0.2633 - val_accuracy: 0.9159\n",
            "Epoch 23/100\n",
            "24/24 [==============================] - 5s 227ms/step - loss: 0.1248 - accuracy: 0.9479 - val_loss: 0.2670 - val_accuracy: 0.9084\n",
            "Epoch 24/100\n",
            "24/24 [==============================] - 5s 228ms/step - loss: 0.1397 - accuracy: 0.9407 - val_loss: 0.2767 - val_accuracy: 0.9103\n",
            "Epoch 25/100\n",
            "24/24 [==============================] - 5s 224ms/step - loss: 0.1263 - accuracy: 0.9466 - val_loss: 0.3149 - val_accuracy: 0.9009\n",
            "Train loss: 0.1275119036436081\n",
            "Train accuracy: 0.9476146101951599\n",
            "Test loss: 0.23065434396266937\n",
            "Test accuracy: 0.9196261763572693\n",
            "\n",
            "===================FOLD= 1\n",
            "Epoch 1/100\n",
            "24/24 [==============================] - 7s 255ms/step - loss: 0.6835 - accuracy: 0.6328 - val_loss: 0.3322 - val_accuracy: 0.8710\n",
            "Epoch 2/100\n",
            "24/24 [==============================] - 6s 244ms/step - loss: 0.4639 - accuracy: 0.7719 - val_loss: 0.2822 - val_accuracy: 0.8561\n",
            "Epoch 3/100\n",
            "24/24 [==============================] - 6s 240ms/step - loss: 0.3330 - accuracy: 0.8371 - val_loss: 0.2455 - val_accuracy: 0.8879\n",
            "Epoch 4/100\n",
            "24/24 [==============================] - 7s 284ms/step - loss: 0.2928 - accuracy: 0.8609 - val_loss: 0.2295 - val_accuracy: 0.9065\n",
            "Epoch 5/100\n",
            "24/24 [==============================] - 5s 225ms/step - loss: 0.2829 - accuracy: 0.8845 - val_loss: 0.2333 - val_accuracy: 0.9009\n",
            "Epoch 6/100\n",
            "24/24 [==============================] - 5s 228ms/step - loss: 0.2510 - accuracy: 0.8886 - val_loss: 0.2363 - val_accuracy: 0.8822\n",
            "Epoch 7/100\n",
            "24/24 [==============================] - 6s 245ms/step - loss: 0.2430 - accuracy: 0.8926 - val_loss: 0.2025 - val_accuracy: 0.9084\n",
            "Epoch 8/100\n",
            "24/24 [==============================] - 5s 226ms/step - loss: 0.2406 - accuracy: 0.8965 - val_loss: 0.2226 - val_accuracy: 0.8991\n",
            "Epoch 9/100\n",
            "24/24 [==============================] - 5s 228ms/step - loss: 0.2388 - accuracy: 0.9018 - val_loss: 0.2198 - val_accuracy: 0.9047\n",
            "Epoch 10/100\n",
            "24/24 [==============================] - 5s 228ms/step - loss: 0.2267 - accuracy: 0.9099 - val_loss: 0.2049 - val_accuracy: 0.9103\n",
            "Epoch 11/100\n",
            "24/24 [==============================] - 5s 234ms/step - loss: 0.2113 - accuracy: 0.9130 - val_loss: 0.2155 - val_accuracy: 0.8897\n",
            "Epoch 12/100\n",
            "24/24 [==============================] - 6s 246ms/step - loss: 0.1982 - accuracy: 0.9229 - val_loss: 0.1985 - val_accuracy: 0.9252\n",
            "Epoch 13/100\n",
            "24/24 [==============================] - 5s 233ms/step - loss: 0.1940 - accuracy: 0.9206 - val_loss: 0.2146 - val_accuracy: 0.9121\n",
            "Epoch 14/100\n",
            "24/24 [==============================] - 5s 230ms/step - loss: 0.1870 - accuracy: 0.9268 - val_loss: 0.2208 - val_accuracy: 0.9065\n",
            "Epoch 15/100\n",
            "24/24 [==============================] - 6s 258ms/step - loss: 0.1668 - accuracy: 0.9306 - val_loss: 0.2199 - val_accuracy: 0.9140\n",
            "Epoch 16/100\n",
            "24/24 [==============================] - 5s 233ms/step - loss: 0.1671 - accuracy: 0.9347 - val_loss: 0.2749 - val_accuracy: 0.9178\n",
            "Epoch 17/100\n",
            "24/24 [==============================] - 5s 227ms/step - loss: 0.1798 - accuracy: 0.9306 - val_loss: 0.2699 - val_accuracy: 0.9121\n",
            "Epoch 18/100\n",
            "24/24 [==============================] - 5s 230ms/step - loss: 0.1805 - accuracy: 0.9288 - val_loss: 0.2011 - val_accuracy: 0.9140\n",
            "Epoch 19/100\n",
            "24/24 [==============================] - 6s 247ms/step - loss: 0.1562 - accuracy: 0.9387 - val_loss: 0.1947 - val_accuracy: 0.9121\n",
            "Epoch 20/100\n",
            "24/24 [==============================] - 5s 226ms/step - loss: 0.1671 - accuracy: 0.9312 - val_loss: 0.2240 - val_accuracy: 0.9009\n",
            "Epoch 21/100\n",
            "24/24 [==============================] - 5s 228ms/step - loss: 0.1468 - accuracy: 0.9407 - val_loss: 0.2268 - val_accuracy: 0.8972\n",
            "Epoch 22/100\n",
            "24/24 [==============================] - 5s 224ms/step - loss: 0.1601 - accuracy: 0.9346 - val_loss: 0.2420 - val_accuracy: 0.9103\n",
            "Epoch 23/100\n",
            "24/24 [==============================] - 5s 226ms/step - loss: 0.1583 - accuracy: 0.9308 - val_loss: 0.2312 - val_accuracy: 0.9196\n",
            "Epoch 24/100\n",
            "24/24 [==============================] - 5s 228ms/step - loss: 0.1478 - accuracy: 0.9334 - val_loss: 0.2342 - val_accuracy: 0.9009\n",
            "Epoch 25/100\n",
            "24/24 [==============================] - 5s 227ms/step - loss: 0.1239 - accuracy: 0.9479 - val_loss: 0.2480 - val_accuracy: 0.8991\n",
            "Epoch 26/100\n",
            "24/24 [==============================] - 5s 230ms/step - loss: 0.1264 - accuracy: 0.9499 - val_loss: 0.2196 - val_accuracy: 0.9140\n",
            "Epoch 27/100\n",
            "24/24 [==============================] - 6s 258ms/step - loss: 0.1291 - accuracy: 0.9479 - val_loss: 0.2006 - val_accuracy: 0.9290\n",
            "Epoch 28/100\n",
            "24/24 [==============================] - 5s 224ms/step - loss: 0.1191 - accuracy: 0.9539 - val_loss: 0.2948 - val_accuracy: 0.8991\n",
            "Epoch 29/100\n",
            "24/24 [==============================] - 5s 227ms/step - loss: 0.1239 - accuracy: 0.9512 - val_loss: 0.2427 - val_accuracy: 0.9234\n",
            "Train loss: 0.11202792823314667\n",
            "Train accuracy: 0.9532273411750793\n",
            "Test loss: 0.19468431174755096\n",
            "Test accuracy: 0.9121495485305786\n",
            "\n",
            "===================FOLD= 2\n",
            "Epoch 1/100\n",
            "24/24 [==============================] - 9s 356ms/step - loss: 0.7294 - accuracy: 0.5988 - val_loss: 0.4114 - val_accuracy: 0.7921\n",
            "Epoch 2/100\n",
            "24/24 [==============================] - 6s 243ms/step - loss: 0.4304 - accuracy: 0.7780 - val_loss: 0.3166 - val_accuracy: 0.8446\n",
            "Epoch 3/100\n",
            "24/24 [==============================] - 6s 245ms/step - loss: 0.3294 - accuracy: 0.8407 - val_loss: 0.3105 - val_accuracy: 0.8502\n",
            "Epoch 4/100\n",
            "24/24 [==============================] - 6s 245ms/step - loss: 0.2873 - accuracy: 0.8656 - val_loss: 0.2645 - val_accuracy: 0.8801\n",
            "Epoch 5/100\n",
            "24/24 [==============================] - 5s 228ms/step - loss: 0.2773 - accuracy: 0.8740 - val_loss: 0.2744 - val_accuracy: 0.8727\n",
            "Epoch 6/100\n",
            "24/24 [==============================] - 6s 247ms/step - loss: 0.2596 - accuracy: 0.8841 - val_loss: 0.2486 - val_accuracy: 0.9026\n",
            "Epoch 7/100\n",
            "24/24 [==============================] - 5s 232ms/step - loss: 0.2533 - accuracy: 0.8854 - val_loss: 0.2614 - val_accuracy: 0.8914\n",
            "Epoch 8/100\n",
            "24/24 [==============================] - 6s 236ms/step - loss: 0.2490 - accuracy: 0.8933 - val_loss: 0.2703 - val_accuracy: 0.8858\n",
            "Epoch 9/100\n",
            "24/24 [==============================] - 6s 260ms/step - loss: 0.2114 - accuracy: 0.9078 - val_loss: 0.2889 - val_accuracy: 0.8858\n",
            "Epoch 10/100\n",
            "24/24 [==============================] - 5s 230ms/step - loss: 0.2269 - accuracy: 0.9027 - val_loss: 0.2567 - val_accuracy: 0.8951\n",
            "Epoch 11/100\n",
            "24/24 [==============================] - 5s 229ms/step - loss: 0.2008 - accuracy: 0.9216 - val_loss: 0.2622 - val_accuracy: 0.9007\n",
            "Epoch 12/100\n",
            "24/24 [==============================] - 5s 229ms/step - loss: 0.1801 - accuracy: 0.9295 - val_loss: 0.2805 - val_accuracy: 0.8914\n",
            "Epoch 13/100\n",
            "24/24 [==============================] - 5s 227ms/step - loss: 0.1887 - accuracy: 0.9200 - val_loss: 0.2640 - val_accuracy: 0.8951\n",
            "Epoch 14/100\n",
            "24/24 [==============================] - 5s 228ms/step - loss: 0.1885 - accuracy: 0.9209 - val_loss: 0.2841 - val_accuracy: 0.8858\n",
            "Epoch 15/100\n",
            "24/24 [==============================] - 6s 235ms/step - loss: 0.1700 - accuracy: 0.9233 - val_loss: 0.2652 - val_accuracy: 0.9082\n",
            "Epoch 16/100\n",
            "24/24 [==============================] - 6s 237ms/step - loss: 0.1566 - accuracy: 0.9374 - val_loss: 0.2508 - val_accuracy: 0.9082\n",
            "Train loss: 0.1859864890575409\n",
            "Train accuracy: 0.9214953184127808\n",
            "Test loss: 0.248615562915802\n",
            "Test accuracy: 0.9026217460632324\n",
            "\n",
            " Train Log Loss Validation=  0.14780668549903436\n",
            " Test Log Loss Validation=  0.22463646998690368\n"
          ]
        }
      ]
    },
    {
      "cell_type": "code",
      "source": [
        ""
      ],
      "metadata": {
        "id": "ipQq0VwNYYSb"
      },
      "execution_count": 26,
      "outputs": []
    }
  ]
}