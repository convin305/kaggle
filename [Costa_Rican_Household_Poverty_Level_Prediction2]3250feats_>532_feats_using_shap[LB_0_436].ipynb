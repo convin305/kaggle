{
  "nbformat": 4,
  "nbformat_minor": 0,
  "metadata": {
    "colab": {
      "name": "[Costa Rican Household Poverty Level Prediction2]3250feats->532 feats using shap[LB: 0.436].ipynb",
      "provenance": [],
      "collapsed_sections": [],
      "authorship_tag": "ABX9TyOB2eg8NURFPFc5hxr5+qlB",
      "include_colab_link": true
    },
    "kernelspec": {
      "name": "python3",
      "display_name": "Python 3"
    },
    "language_info": {
      "name": "python"
    }
  },
  "cells": [
    {
      "cell_type": "markdown",
      "metadata": {
        "id": "view-in-github",
        "colab_type": "text"
      },
      "source": [
        "<a href=\"https://colab.research.google.com/github/convin305/kaggle/blob/main/%5BCosta_Rican_Household_Poverty_Level_Prediction2%5D3250feats_%3E532_feats_using_shap%5BLB_0_436%5D.ipynb\" target=\"_parent\"><img src=\"https://colab.research.google.com/assets/colab-badge.svg\" alt=\"Open In Colab\"/></a>"
      ]
    },
    {
      "cell_type": "markdown",
      "source": [
        "참고>  \n",
        "https://towardsdatascience.com/using-shap-values-to-explain-how-your-machine-learning-model-works-732b3f40e137  \n",
        "\n",
        "https://zzinnam.tistory.com/entry/SHAP-value%EC%97%90-%EB%8C%80%ED%95%9C-%EA%B0%84%EB%8B%A8%ED%95%9C-%EC%86%8C%EA%B0%9Cwith-Python"
      ],
      "metadata": {
        "id": "zYAPkEc9lM0d"
      }
    },
    {
      "cell_type": "markdown",
      "source": [
        "## 0.Import Libraries"
      ],
      "metadata": {
        "id": "gPz3BVtYSpu-"
      }
    },
    {
      "cell_type": "code",
      "source": [
        "!pip install shap"
      ],
      "metadata": {
        "colab": {
          "base_uri": "https://localhost:8080/"
        },
        "id": "b3i2Eit4Thnc",
        "outputId": "923705d6-29b0-446e-866b-bf07d0f4180f"
      },
      "execution_count": 2,
      "outputs": [
        {
          "output_type": "stream",
          "name": "stdout",
          "text": [
            "Looking in indexes: https://pypi.org/simple, https://us-python.pkg.dev/colab-wheels/public/simple/\n",
            "Collecting shap\n",
            "  Downloading shap-0.41.0-cp37-cp37m-manylinux_2_12_x86_64.manylinux2010_x86_64.whl (569 kB)\n",
            "\u001b[K     |████████████████████████████████| 569 kB 4.9 MB/s \n",
            "\u001b[?25hRequirement already satisfied: scikit-learn in /usr/local/lib/python3.7/dist-packages (from shap) (1.0.2)\n",
            "Requirement already satisfied: packaging>20.9 in /usr/local/lib/python3.7/dist-packages (from shap) (21.3)\n",
            "Requirement already satisfied: tqdm>4.25.0 in /usr/local/lib/python3.7/dist-packages (from shap) (4.64.0)\n",
            "Collecting slicer==0.0.7\n",
            "  Downloading slicer-0.0.7-py3-none-any.whl (14 kB)\n",
            "Requirement already satisfied: cloudpickle in /usr/local/lib/python3.7/dist-packages (from shap) (1.3.0)\n",
            "Requirement already satisfied: numba in /usr/local/lib/python3.7/dist-packages (from shap) (0.51.2)\n",
            "Requirement already satisfied: pandas in /usr/local/lib/python3.7/dist-packages (from shap) (1.3.5)\n",
            "Requirement already satisfied: scipy in /usr/local/lib/python3.7/dist-packages (from shap) (1.4.1)\n",
            "Requirement already satisfied: numpy in /usr/local/lib/python3.7/dist-packages (from shap) (1.21.6)\n",
            "Requirement already satisfied: pyparsing!=3.0.5,>=2.0.2 in /usr/local/lib/python3.7/dist-packages (from packaging>20.9->shap) (3.0.9)\n",
            "Requirement already satisfied: setuptools in /usr/local/lib/python3.7/dist-packages (from numba->shap) (57.4.0)\n",
            "Requirement already satisfied: llvmlite<0.35,>=0.34.0.dev0 in /usr/local/lib/python3.7/dist-packages (from numba->shap) (0.34.0)\n",
            "Requirement already satisfied: pytz>=2017.3 in /usr/local/lib/python3.7/dist-packages (from pandas->shap) (2022.1)\n",
            "Requirement already satisfied: python-dateutil>=2.7.3 in /usr/local/lib/python3.7/dist-packages (from pandas->shap) (2.8.2)\n",
            "Requirement already satisfied: six>=1.5 in /usr/local/lib/python3.7/dist-packages (from python-dateutil>=2.7.3->pandas->shap) (1.15.0)\n",
            "Requirement already satisfied: joblib>=0.11 in /usr/local/lib/python3.7/dist-packages (from scikit-learn->shap) (1.1.0)\n",
            "Requirement already satisfied: threadpoolctl>=2.0.0 in /usr/local/lib/python3.7/dist-packages (from scikit-learn->shap) (3.1.0)\n",
            "Installing collected packages: slicer, shap\n",
            "Successfully installed shap-0.41.0 slicer-0.0.7\n"
          ]
        }
      ]
    },
    {
      "cell_type": "code",
      "source": [
        "!pip install featuretools"
      ],
      "metadata": {
        "colab": {
          "base_uri": "https://localhost:8080/",
          "height": 1000
        },
        "id": "Qqq6vf7BTrCJ",
        "outputId": "ba3c372b-80fb-44d8-d94d-1f1a0be44822"
      },
      "execution_count": 4,
      "outputs": [
        {
          "output_type": "stream",
          "name": "stdout",
          "text": [
            "Looking in indexes: https://pypi.org/simple, https://us-python.pkg.dev/colab-wheels/public/simple/\n",
            "Collecting featuretools\n",
            "  Downloading featuretools-1.11.1-py3-none-any.whl (362 kB)\n",
            "\u001b[K     |████████████████████████████████| 362 kB 4.7 MB/s \n",
            "\u001b[?25hRequirement already satisfied: pandas>=1.3.0 in /usr/local/lib/python3.7/dist-packages (from featuretools) (1.3.5)\n",
            "Requirement already satisfied: scipy>=1.3.3 in /usr/local/lib/python3.7/dist-packages (from featuretools) (1.4.1)\n",
            "Collecting psutil>=5.6.6\n",
            "  Downloading psutil-5.9.1-cp37-cp37m-manylinux_2_12_x86_64.manylinux2010_x86_64.manylinux_2_17_x86_64.manylinux2014_x86_64.whl (281 kB)\n",
            "\u001b[K     |████████████████████████████████| 281 kB 49.5 MB/s \n",
            "\u001b[?25hCollecting dask[dataframe]>=2021.10.0\n",
            "  Downloading dask-2022.2.0-py3-none-any.whl (1.1 MB)\n",
            "\u001b[K     |████████████████████████████████| 1.1 MB 50.1 MB/s \n",
            "\u001b[?25hCollecting holidays>=0.13\n",
            "  Downloading holidays-0.14.2-py3-none-any.whl (179 kB)\n",
            "\u001b[K     |████████████████████████████████| 179 kB 45.8 MB/s \n",
            "\u001b[?25hRequirement already satisfied: tqdm>=4.32.0 in /usr/local/lib/python3.7/dist-packages (from featuretools) (4.64.0)\n",
            "Collecting woodwork>=0.16.2\n",
            "  Downloading woodwork-0.16.4-py3-none-any.whl (207 kB)\n",
            "\u001b[K     |████████████████████████████████| 207 kB 59.4 MB/s \n",
            "\u001b[?25hCollecting distributed>=2021.10.0\n",
            "  Downloading distributed-2022.2.0-py3-none-any.whl (837 kB)\n",
            "\u001b[K     |████████████████████████████████| 837 kB 51.1 MB/s \n",
            "\u001b[?25hRequirement already satisfied: click>=7.0.0 in /usr/local/lib/python3.7/dist-packages (from featuretools) (7.1.2)\n",
            "Requirement already satisfied: numpy>=1.21.0 in /usr/local/lib/python3.7/dist-packages (from featuretools) (1.21.6)\n",
            "Collecting cloudpickle>=1.5.0\n",
            "  Downloading cloudpickle-2.1.0-py3-none-any.whl (25 kB)\n",
            "Requirement already satisfied: toolz>=0.8.2 in /usr/local/lib/python3.7/dist-packages (from dask[dataframe]>=2021.10.0->featuretools) (0.11.2)\n",
            "Collecting partd>=0.3.10\n",
            "  Downloading partd-1.2.0-py3-none-any.whl (19 kB)\n",
            "Collecting fsspec>=0.6.0\n",
            "  Downloading fsspec-2022.5.0-py3-none-any.whl (140 kB)\n",
            "\u001b[K     |████████████████████████████████| 140 kB 55.2 MB/s \n",
            "\u001b[?25hRequirement already satisfied: packaging>=20.0 in /usr/local/lib/python3.7/dist-packages (from dask[dataframe]>=2021.10.0->featuretools) (21.3)\n",
            "Collecting pyyaml>=5.3.1\n",
            "  Downloading PyYAML-6.0-cp37-cp37m-manylinux_2_5_x86_64.manylinux1_x86_64.manylinux_2_12_x86_64.manylinux2010_x86_64.whl (596 kB)\n",
            "\u001b[K     |████████████████████████████████| 596 kB 56.7 MB/s \n",
            "\u001b[?25hRequirement already satisfied: jinja2 in /usr/local/lib/python3.7/dist-packages (from distributed>=2021.10.0->featuretools) (2.11.3)\n",
            "Requirement already satisfied: tornado>=5 in /usr/local/lib/python3.7/dist-packages (from distributed>=2021.10.0->featuretools) (5.1.1)\n",
            "Requirement already satisfied: sortedcontainers!=2.0.0,!=2.0.1 in /usr/local/lib/python3.7/dist-packages (from distributed>=2021.10.0->featuretools) (2.4.0)\n",
            "Requirement already satisfied: tblib>=1.6.0 in /usr/local/lib/python3.7/dist-packages (from distributed>=2021.10.0->featuretools) (1.7.0)\n",
            "Requirement already satisfied: zict>=0.1.3 in /usr/local/lib/python3.7/dist-packages (from distributed>=2021.10.0->featuretools) (2.2.0)\n",
            "Requirement already satisfied: setuptools in /usr/local/lib/python3.7/dist-packages (from distributed>=2021.10.0->featuretools) (57.4.0)\n",
            "Requirement already satisfied: msgpack>=0.6.0 in /usr/local/lib/python3.7/dist-packages (from distributed>=2021.10.0->featuretools) (1.0.4)\n",
            "Requirement already satisfied: hijri-converter in /usr/local/lib/python3.7/dist-packages (from holidays>=0.13->featuretools) (2.2.4)\n",
            "Requirement already satisfied: python-dateutil in /usr/local/lib/python3.7/dist-packages (from holidays>=0.13->featuretools) (2.8.2)\n",
            "Requirement already satisfied: convertdate>=2.3.0 in /usr/local/lib/python3.7/dist-packages (from holidays>=0.13->featuretools) (2.4.0)\n",
            "Requirement already satisfied: korean-lunar-calendar in /usr/local/lib/python3.7/dist-packages (from holidays>=0.13->featuretools) (0.2.1)\n",
            "Requirement already satisfied: pymeeus<=1,>=0.3.13 in /usr/local/lib/python3.7/dist-packages (from convertdate>=2.3.0->holidays>=0.13->featuretools) (0.5.11)\n",
            "Requirement already satisfied: pyparsing!=3.0.5,>=2.0.2 in /usr/local/lib/python3.7/dist-packages (from packaging>=20.0->dask[dataframe]>=2021.10.0->featuretools) (3.0.9)\n",
            "Requirement already satisfied: pytz>=2017.3 in /usr/local/lib/python3.7/dist-packages (from pandas>=1.3.0->featuretools) (2022.1)\n",
            "Collecting locket\n",
            "  Downloading locket-1.0.0-py2.py3-none-any.whl (4.4 kB)\n",
            "Requirement already satisfied: six>=1.5 in /usr/local/lib/python3.7/dist-packages (from python-dateutil->holidays>=0.13->featuretools) (1.15.0)\n",
            "Requirement already satisfied: scikit-learn>=0.22 in /usr/local/lib/python3.7/dist-packages (from woodwork>=0.16.2->featuretools) (1.0.2)\n",
            "Requirement already satisfied: joblib>=0.11 in /usr/local/lib/python3.7/dist-packages (from scikit-learn>=0.22->woodwork>=0.16.2->featuretools) (1.1.0)\n",
            "Requirement already satisfied: threadpoolctl>=2.0.0 in /usr/local/lib/python3.7/dist-packages (from scikit-learn>=0.22->woodwork>=0.16.2->featuretools) (3.1.0)\n",
            "Requirement already satisfied: heapdict in /usr/local/lib/python3.7/dist-packages (from zict>=0.1.3->distributed>=2021.10.0->featuretools) (1.0.1)\n",
            "Requirement already satisfied: MarkupSafe>=0.23 in /usr/local/lib/python3.7/dist-packages (from jinja2->distributed>=2021.10.0->featuretools) (2.0.1)\n",
            "Installing collected packages: locket, pyyaml, partd, fsspec, cloudpickle, psutil, dask, woodwork, holidays, distributed, featuretools\n",
            "  Attempting uninstall: pyyaml\n",
            "    Found existing installation: PyYAML 3.13\n",
            "    Uninstalling PyYAML-3.13:\n",
            "      Successfully uninstalled PyYAML-3.13\n",
            "  Attempting uninstall: cloudpickle\n",
            "    Found existing installation: cloudpickle 1.3.0\n",
            "    Uninstalling cloudpickle-1.3.0:\n",
            "      Successfully uninstalled cloudpickle-1.3.0\n",
            "  Attempting uninstall: psutil\n",
            "    Found existing installation: psutil 5.4.8\n",
            "    Uninstalling psutil-5.4.8:\n",
            "      Successfully uninstalled psutil-5.4.8\n",
            "  Attempting uninstall: dask\n",
            "    Found existing installation: dask 2.12.0\n",
            "    Uninstalling dask-2.12.0:\n",
            "      Successfully uninstalled dask-2.12.0\n",
            "  Attempting uninstall: holidays\n",
            "    Found existing installation: holidays 0.10.5.2\n",
            "    Uninstalling holidays-0.10.5.2:\n",
            "      Successfully uninstalled holidays-0.10.5.2\n",
            "  Attempting uninstall: distributed\n",
            "    Found existing installation: distributed 1.25.3\n",
            "    Uninstalling distributed-1.25.3:\n",
            "      Successfully uninstalled distributed-1.25.3\n",
            "\u001b[31mERROR: pip's dependency resolver does not currently take into account all the packages that are installed. This behaviour is the source of the following dependency conflicts.\n",
            "gym 0.17.3 requires cloudpickle<1.7.0,>=1.2.0, but you have cloudpickle 2.1.0 which is incompatible.\u001b[0m\n",
            "Successfully installed cloudpickle-2.1.0 dask-2022.2.0 distributed-2022.2.0 featuretools-1.11.1 fsspec-2022.5.0 holidays-0.14.2 locket-1.0.0 partd-1.2.0 psutil-5.9.1 pyyaml-6.0 woodwork-0.16.4\n"
          ]
        },
        {
          "output_type": "display_data",
          "data": {
            "application/vnd.colab-display-data+json": {
              "pip_warning": {
                "packages": [
                  "cloudpickle",
                  "psutil",
                  "yaml"
                ]
              }
            }
          },
          "metadata": {}
        }
      ]
    },
    {
      "cell_type": "code",
      "execution_count": 1,
      "metadata": {
        "colab": {
          "base_uri": "https://localhost:8080/"
        },
        "id": "vjioaITASfa0",
        "outputId": "e7f8f5c2-1aae-41d6-cbc8-0a7f8f456c9d"
      },
      "outputs": [
        {
          "output_type": "stream",
          "name": "stderr",
          "text": [
            "Woodwork may not support Python 3.7 in next non-bugfix release.\n",
            "Featuretools may not support Python 3.7 in next non-bugfix release.\n"
          ]
        }
      ],
      "source": [
        "import pandas as pd\n",
        "import numpy as np\n",
        "\n",
        "import seaborn as sns\n",
        "import matplotlib.pyplot as plt\n",
        "\n",
        "sns.set(font_scale=2.2)\n",
        "plt.style.use('seaborn')\n",
        "\n",
        "from sklearn.preprocessing import LabelEncoder, MinMaxScaler, StandardScaler, OneHotEncoder\n",
        "from sklearn.model_selection import StratifiedKFold, train_test_split, ShuffleSplit\n",
        "from sklearn.metrics import f1_score\n",
        "import itertools\n",
        "import lightgbm as lgb\n",
        "import xgboost as xgb\n",
        "from xgboost import XGBClassifier\n",
        "import shap\n",
        "from tqdm import tqdm\n",
        "import featuretools as ft\n",
        "import warnings \n",
        "warnings.filterwarnings('ignore')\n",
        "import time"
      ]
    },
    {
      "cell_type": "markdown",
      "source": [
        "## 1. Check datasets"
      ],
      "metadata": {
        "id": "n_M3dDQPTBM4"
      }
    },
    {
      "cell_type": "markdown",
      "source": [
        "### 1-1.Read dataset"
      ],
      "metadata": {
        "id": "-5loY4HTTEv6"
      }
    },
    {
      "cell_type": "code",
      "source": [
        "!pip install kaggle\n",
        "from google.colab import files\n",
        "files.upload()\n",
        "\n",
        "!mkdir -p ~/.kaggle\n",
        "!cp kaggle.json ~/.kaggle/\n",
        "# Permission Warning이 발생하지 않도록 해줍니다.\n",
        "!chmod 600 ~/.kaggle/kaggle.json\n",
        "\n",
        "!kaggle competitions download -c costa-rican-household-poverty-prediction\n",
        "\n",
        "!unzip costa-rican-household-poverty-prediction.zip"
      ],
      "metadata": {
        "colab": {
          "resources": {
            "http://localhost:8080/nbextensions/google.colab/files.js": {
              "data": "Ly8gQ29weXJpZ2h0IDIwMTcgR29vZ2xlIExMQwovLwovLyBMaWNlbnNlZCB1bmRlciB0aGUgQXBhY2hlIExpY2Vuc2UsIFZlcnNpb24gMi4wICh0aGUgIkxpY2Vuc2UiKTsKLy8geW91IG1heSBub3QgdXNlIHRoaXMgZmlsZSBleGNlcHQgaW4gY29tcGxpYW5jZSB3aXRoIHRoZSBMaWNlbnNlLgovLyBZb3UgbWF5IG9idGFpbiBhIGNvcHkgb2YgdGhlIExpY2Vuc2UgYXQKLy8KLy8gICAgICBodHRwOi8vd3d3LmFwYWNoZS5vcmcvbGljZW5zZXMvTElDRU5TRS0yLjAKLy8KLy8gVW5sZXNzIHJlcXVpcmVkIGJ5IGFwcGxpY2FibGUgbGF3IG9yIGFncmVlZCB0byBpbiB3cml0aW5nLCBzb2Z0d2FyZQovLyBkaXN0cmlidXRlZCB1bmRlciB0aGUgTGljZW5zZSBpcyBkaXN0cmlidXRlZCBvbiBhbiAiQVMgSVMiIEJBU0lTLAovLyBXSVRIT1VUIFdBUlJBTlRJRVMgT1IgQ09ORElUSU9OUyBPRiBBTlkgS0lORCwgZWl0aGVyIGV4cHJlc3Mgb3IgaW1wbGllZC4KLy8gU2VlIHRoZSBMaWNlbnNlIGZvciB0aGUgc3BlY2lmaWMgbGFuZ3VhZ2UgZ292ZXJuaW5nIHBlcm1pc3Npb25zIGFuZAovLyBsaW1pdGF0aW9ucyB1bmRlciB0aGUgTGljZW5zZS4KCi8qKgogKiBAZmlsZW92ZXJ2aWV3IEhlbHBlcnMgZm9yIGdvb2dsZS5jb2xhYiBQeXRob24gbW9kdWxlLgogKi8KKGZ1bmN0aW9uKHNjb3BlKSB7CmZ1bmN0aW9uIHNwYW4odGV4dCwgc3R5bGVBdHRyaWJ1dGVzID0ge30pIHsKICBjb25zdCBlbGVtZW50ID0gZG9jdW1lbnQuY3JlYXRlRWxlbWVudCgnc3BhbicpOwogIGVsZW1lbnQudGV4dENvbnRlbnQgPSB0ZXh0OwogIGZvciAoY29uc3Qga2V5IG9mIE9iamVjdC5rZXlzKHN0eWxlQXR0cmlidXRlcykpIHsKICAgIGVsZW1lbnQuc3R5bGVba2V5XSA9IHN0eWxlQXR0cmlidXRlc1trZXldOwogIH0KICByZXR1cm4gZWxlbWVudDsKfQoKLy8gTWF4IG51bWJlciBvZiBieXRlcyB3aGljaCB3aWxsIGJlIHVwbG9hZGVkIGF0IGEgdGltZS4KY29uc3QgTUFYX1BBWUxPQURfU0laRSA9IDEwMCAqIDEwMjQ7CgpmdW5jdGlvbiBfdXBsb2FkRmlsZXMoaW5wdXRJZCwgb3V0cHV0SWQpIHsKICBjb25zdCBzdGVwcyA9IHVwbG9hZEZpbGVzU3RlcChpbnB1dElkLCBvdXRwdXRJZCk7CiAgY29uc3Qgb3V0cHV0RWxlbWVudCA9IGRvY3VtZW50LmdldEVsZW1lbnRCeUlkKG91dHB1dElkKTsKICAvLyBDYWNoZSBzdGVwcyBvbiB0aGUgb3V0cHV0RWxlbWVudCB0byBtYWtlIGl0IGF2YWlsYWJsZSBmb3IgdGhlIG5leHQgY2FsbAogIC8vIHRvIHVwbG9hZEZpbGVzQ29udGludWUgZnJvbSBQeXRob24uCiAgb3V0cHV0RWxlbWVudC5zdGVwcyA9IHN0ZXBzOwoKICByZXR1cm4gX3VwbG9hZEZpbGVzQ29udGludWUob3V0cHV0SWQpOwp9CgovLyBUaGlzIGlzIHJvdWdobHkgYW4gYXN5bmMgZ2VuZXJhdG9yIChub3Qgc3VwcG9ydGVkIGluIHRoZSBicm93c2VyIHlldCksCi8vIHdoZXJlIHRoZXJlIGFyZSBtdWx0aXBsZSBhc3luY2hyb25vdXMgc3RlcHMgYW5kIHRoZSBQeXRob24gc2lkZSBpcyBnb2luZwovLyB0byBwb2xsIGZvciBjb21wbGV0aW9uIG9mIGVhY2ggc3RlcC4KLy8gVGhpcyB1c2VzIGEgUHJvbWlzZSB0byBibG9jayB0aGUgcHl0aG9uIHNpZGUgb24gY29tcGxldGlvbiBvZiBlYWNoIHN0ZXAsCi8vIHRoZW4gcGFzc2VzIHRoZSByZXN1bHQgb2YgdGhlIHByZXZpb3VzIHN0ZXAgYXMgdGhlIGlucHV0IHRvIHRoZSBuZXh0IHN0ZXAuCmZ1bmN0aW9uIF91cGxvYWRGaWxlc0NvbnRpbnVlKG91dHB1dElkKSB7CiAgY29uc3Qgb3V0cHV0RWxlbWVudCA9IGRvY3VtZW50LmdldEVsZW1lbnRCeUlkKG91dHB1dElkKTsKICBjb25zdCBzdGVwcyA9IG91dHB1dEVsZW1lbnQuc3RlcHM7CgogIGNvbnN0IG5leHQgPSBzdGVwcy5uZXh0KG91dHB1dEVsZW1lbnQubGFzdFByb21pc2VWYWx1ZSk7CiAgcmV0dXJuIFByb21pc2UucmVzb2x2ZShuZXh0LnZhbHVlLnByb21pc2UpLnRoZW4oKHZhbHVlKSA9PiB7CiAgICAvLyBDYWNoZSB0aGUgbGFzdCBwcm9taXNlIHZhbHVlIHRvIG1ha2UgaXQgYXZhaWxhYmxlIHRvIHRoZSBuZXh0CiAgICAvLyBzdGVwIG9mIHRoZSBnZW5lcmF0b3IuCiAgICBvdXRwdXRFbGVtZW50Lmxhc3RQcm9taXNlVmFsdWUgPSB2YWx1ZTsKICAgIHJldHVybiBuZXh0LnZhbHVlLnJlc3BvbnNlOwogIH0pOwp9CgovKioKICogR2VuZXJhdG9yIGZ1bmN0aW9uIHdoaWNoIGlzIGNhbGxlZCBiZXR3ZWVuIGVhY2ggYXN5bmMgc3RlcCBvZiB0aGUgdXBsb2FkCiAqIHByb2Nlc3MuCiAqIEBwYXJhbSB7c3RyaW5nfSBpbnB1dElkIEVsZW1lbnQgSUQgb2YgdGhlIGlucHV0IGZpbGUgcGlja2VyIGVsZW1lbnQuCiAqIEBwYXJhbSB7c3RyaW5nfSBvdXRwdXRJZCBFbGVtZW50IElEIG9mIHRoZSBvdXRwdXQgZGlzcGxheS4KICogQHJldHVybiB7IUl0ZXJhYmxlPCFPYmplY3Q+fSBJdGVyYWJsZSBvZiBuZXh0IHN0ZXBzLgogKi8KZnVuY3Rpb24qIHVwbG9hZEZpbGVzU3RlcChpbnB1dElkLCBvdXRwdXRJZCkgewogIGNvbnN0IGlucHV0RWxlbWVudCA9IGRvY3VtZW50LmdldEVsZW1lbnRCeUlkKGlucHV0SWQpOwogIGlucHV0RWxlbWVudC5kaXNhYmxlZCA9IGZhbHNlOwoKICBjb25zdCBvdXRwdXRFbGVtZW50ID0gZG9jdW1lbnQuZ2V0RWxlbWVudEJ5SWQob3V0cHV0SWQpOwogIG91dHB1dEVsZW1lbnQuaW5uZXJIVE1MID0gJyc7CgogIGNvbnN0IHBpY2tlZFByb21pc2UgPSBuZXcgUHJvbWlzZSgocmVzb2x2ZSkgPT4gewogICAgaW5wdXRFbGVtZW50LmFkZEV2ZW50TGlzdGVuZXIoJ2NoYW5nZScsIChlKSA9PiB7CiAgICAgIHJlc29sdmUoZS50YXJnZXQuZmlsZXMpOwogICAgfSk7CiAgfSk7CgogIGNvbnN0IGNhbmNlbCA9IGRvY3VtZW50LmNyZWF0ZUVsZW1lbnQoJ2J1dHRvbicpOwogIGlucHV0RWxlbWVudC5wYXJlbnRFbGVtZW50LmFwcGVuZENoaWxkKGNhbmNlbCk7CiAgY2FuY2VsLnRleHRDb250ZW50ID0gJ0NhbmNlbCB1cGxvYWQnOwogIGNvbnN0IGNhbmNlbFByb21pc2UgPSBuZXcgUHJvbWlzZSgocmVzb2x2ZSkgPT4gewogICAgY2FuY2VsLm9uY2xpY2sgPSAoKSA9PiB7CiAgICAgIHJlc29sdmUobnVsbCk7CiAgICB9OwogIH0pOwoKICAvLyBXYWl0IGZvciB0aGUgdXNlciB0byBwaWNrIHRoZSBmaWxlcy4KICBjb25zdCBmaWxlcyA9IHlpZWxkIHsKICAgIHByb21pc2U6IFByb21pc2UucmFjZShbcGlja2VkUHJvbWlzZSwgY2FuY2VsUHJvbWlzZV0pLAogICAgcmVzcG9uc2U6IHsKICAgICAgYWN0aW9uOiAnc3RhcnRpbmcnLAogICAgfQogIH07CgogIGNhbmNlbC5yZW1vdmUoKTsKCiAgLy8gRGlzYWJsZSB0aGUgaW5wdXQgZWxlbWVudCBzaW5jZSBmdXJ0aGVyIHBpY2tzIGFyZSBub3QgYWxsb3dlZC4KICBpbnB1dEVsZW1lbnQuZGlzYWJsZWQgPSB0cnVlOwoKICBpZiAoIWZpbGVzKSB7CiAgICByZXR1cm4gewogICAgICByZXNwb25zZTogewogICAgICAgIGFjdGlvbjogJ2NvbXBsZXRlJywKICAgICAgfQogICAgfTsKICB9CgogIGZvciAoY29uc3QgZmlsZSBvZiBmaWxlcykgewogICAgY29uc3QgbGkgPSBkb2N1bWVudC5jcmVhdGVFbGVtZW50KCdsaScpOwogICAgbGkuYXBwZW5kKHNwYW4oZmlsZS5uYW1lLCB7Zm9udFdlaWdodDogJ2JvbGQnfSkpOwogICAgbGkuYXBwZW5kKHNwYW4oCiAgICAgICAgYCgke2ZpbGUudHlwZSB8fCAnbi9hJ30pIC0gJHtmaWxlLnNpemV9IGJ5dGVzLCBgICsKICAgICAgICBgbGFzdCBtb2RpZmllZDogJHsKICAgICAgICAgICAgZmlsZS5sYXN0TW9kaWZpZWREYXRlID8gZmlsZS5sYXN0TW9kaWZpZWREYXRlLnRvTG9jYWxlRGF0ZVN0cmluZygpIDoKICAgICAgICAgICAgICAgICAgICAgICAgICAgICAgICAgICAgJ24vYSd9IC0gYCkpOwogICAgY29uc3QgcGVyY2VudCA9IHNwYW4oJzAlIGRvbmUnKTsKICAgIGxpLmFwcGVuZENoaWxkKHBlcmNlbnQpOwoKICAgIG91dHB1dEVsZW1lbnQuYXBwZW5kQ2hpbGQobGkpOwoKICAgIGNvbnN0IGZpbGVEYXRhUHJvbWlzZSA9IG5ldyBQcm9taXNlKChyZXNvbHZlKSA9PiB7CiAgICAgIGNvbnN0IHJlYWRlciA9IG5ldyBGaWxlUmVhZGVyKCk7CiAgICAgIHJlYWRlci5vbmxvYWQgPSAoZSkgPT4gewogICAgICAgIHJlc29sdmUoZS50YXJnZXQucmVzdWx0KTsKICAgICAgfTsKICAgICAgcmVhZGVyLnJlYWRBc0FycmF5QnVmZmVyKGZpbGUpOwogICAgfSk7CiAgICAvLyBXYWl0IGZvciB0aGUgZGF0YSB0byBiZSByZWFkeS4KICAgIGxldCBmaWxlRGF0YSA9IHlpZWxkIHsKICAgICAgcHJvbWlzZTogZmlsZURhdGFQcm9taXNlLAogICAgICByZXNwb25zZTogewogICAgICAgIGFjdGlvbjogJ2NvbnRpbnVlJywKICAgICAgfQogICAgfTsKCiAgICAvLyBVc2UgYSBjaHVua2VkIHNlbmRpbmcgdG8gYXZvaWQgbWVzc2FnZSBzaXplIGxpbWl0cy4gU2VlIGIvNjIxMTU2NjAuCiAgICBsZXQgcG9zaXRpb24gPSAwOwogICAgZG8gewogICAgICBjb25zdCBsZW5ndGggPSBNYXRoLm1pbihmaWxlRGF0YS5ieXRlTGVuZ3RoIC0gcG9zaXRpb24sIE1BWF9QQVlMT0FEX1NJWkUpOwogICAgICBjb25zdCBjaHVuayA9IG5ldyBVaW50OEFycmF5KGZpbGVEYXRhLCBwb3NpdGlvbiwgbGVuZ3RoKTsKICAgICAgcG9zaXRpb24gKz0gbGVuZ3RoOwoKICAgICAgY29uc3QgYmFzZTY0ID0gYnRvYShTdHJpbmcuZnJvbUNoYXJDb2RlLmFwcGx5KG51bGwsIGNodW5rKSk7CiAgICAgIHlpZWxkIHsKICAgICAgICByZXNwb25zZTogewogICAgICAgICAgYWN0aW9uOiAnYXBwZW5kJywKICAgICAgICAgIGZpbGU6IGZpbGUubmFtZSwKICAgICAgICAgIGRhdGE6IGJhc2U2NCwKICAgICAgICB9LAogICAgICB9OwoKICAgICAgbGV0IHBlcmNlbnREb25lID0gZmlsZURhdGEuYnl0ZUxlbmd0aCA9PT0gMCA/CiAgICAgICAgICAxMDAgOgogICAgICAgICAgTWF0aC5yb3VuZCgocG9zaXRpb24gLyBmaWxlRGF0YS5ieXRlTGVuZ3RoKSAqIDEwMCk7CiAgICAgIHBlcmNlbnQudGV4dENvbnRlbnQgPSBgJHtwZXJjZW50RG9uZX0lIGRvbmVgOwoKICAgIH0gd2hpbGUgKHBvc2l0aW9uIDwgZmlsZURhdGEuYnl0ZUxlbmd0aCk7CiAgfQoKICAvLyBBbGwgZG9uZS4KICB5aWVsZCB7CiAgICByZXNwb25zZTogewogICAgICBhY3Rpb246ICdjb21wbGV0ZScsCiAgICB9CiAgfTsKfQoKc2NvcGUuZ29vZ2xlID0gc2NvcGUuZ29vZ2xlIHx8IHt9OwpzY29wZS5nb29nbGUuY29sYWIgPSBzY29wZS5nb29nbGUuY29sYWIgfHwge307CnNjb3BlLmdvb2dsZS5jb2xhYi5fZmlsZXMgPSB7CiAgX3VwbG9hZEZpbGVzLAogIF91cGxvYWRGaWxlc0NvbnRpbnVlLAp9Owp9KShzZWxmKTsK",
              "ok": true,
              "headers": [
                [
                  "content-type",
                  "application/javascript"
                ]
              ],
              "status": 200,
              "status_text": ""
            }
          },
          "base_uri": "https://localhost:8080/",
          "height": 517
        },
        "id": "clWFTIjIS008",
        "outputId": "3d43cfc8-100e-459f-ae48-53132c55401d"
      },
      "execution_count": 2,
      "outputs": [
        {
          "output_type": "stream",
          "name": "stdout",
          "text": [
            "Looking in indexes: https://pypi.org/simple, https://us-python.pkg.dev/colab-wheels/public/simple/\n",
            "Requirement already satisfied: kaggle in /usr/local/lib/python3.7/dist-packages (1.5.12)\n",
            "Requirement already satisfied: python-slugify in /usr/local/lib/python3.7/dist-packages (from kaggle) (6.1.2)\n",
            "Requirement already satisfied: urllib3 in /usr/local/lib/python3.7/dist-packages (from kaggle) (1.24.3)\n",
            "Requirement already satisfied: certifi in /usr/local/lib/python3.7/dist-packages (from kaggle) (2022.6.15)\n",
            "Requirement already satisfied: python-dateutil in /usr/local/lib/python3.7/dist-packages (from kaggle) (2.8.2)\n",
            "Requirement already satisfied: requests in /usr/local/lib/python3.7/dist-packages (from kaggle) (2.23.0)\n",
            "Requirement already satisfied: tqdm in /usr/local/lib/python3.7/dist-packages (from kaggle) (4.64.0)\n",
            "Requirement already satisfied: six>=1.10 in /usr/local/lib/python3.7/dist-packages (from kaggle) (1.15.0)\n",
            "Requirement already satisfied: text-unidecode>=1.3 in /usr/local/lib/python3.7/dist-packages (from python-slugify->kaggle) (1.3)\n",
            "Requirement already satisfied: chardet<4,>=3.0.2 in /usr/local/lib/python3.7/dist-packages (from requests->kaggle) (3.0.4)\n",
            "Requirement already satisfied: idna<3,>=2.5 in /usr/local/lib/python3.7/dist-packages (from requests->kaggle) (2.10)\n"
          ]
        },
        {
          "output_type": "display_data",
          "data": {
            "text/plain": [
              "<IPython.core.display.HTML object>"
            ],
            "text/html": [
              "\n",
              "     <input type=\"file\" id=\"files-ea05165a-648f-459a-ada3-0aa3b62e482c\" name=\"files[]\" multiple disabled\n",
              "        style=\"border:none\" />\n",
              "     <output id=\"result-ea05165a-648f-459a-ada3-0aa3b62e482c\">\n",
              "      Upload widget is only available when the cell has been executed in the\n",
              "      current browser session. Please rerun this cell to enable.\n",
              "      </output>\n",
              "      <script src=\"/nbextensions/google.colab/files.js\"></script> "
            ]
          },
          "metadata": {}
        },
        {
          "output_type": "stream",
          "name": "stdout",
          "text": [
            "Saving kaggle.json to kaggle.json\n",
            "Downloading costa-rican-household-poverty-prediction.zip to /content\n",
            "  0% 0.00/2.33M [00:00<?, ?B/s]\n",
            "100% 2.33M/2.33M [00:00<00:00, 160MB/s]\n",
            "Archive:  costa-rican-household-poverty-prediction.zip\n",
            "  inflating: codebook.csv            \n",
            "  inflating: codebook.xlsx           \n",
            "  inflating: sample_submission.csv   \n",
            "  inflating: sample_submission.csv.zip  \n",
            "  inflating: test.csv                \n",
            "  inflating: test.csv.zip            \n",
            "  inflating: train.csv               \n",
            "  inflating: train.csv.zip           \n"
          ]
        }
      ]
    },
    {
      "cell_type": "code",
      "source": [
        "df_train = pd.read_csv('train.csv')\n",
        "df_test = pd.read_csv('test.csv')"
      ],
      "metadata": {
        "id": "WgyHPclpS0vY"
      },
      "execution_count": 3,
      "outputs": []
    },
    {
      "cell_type": "code",
      "source": [
        "print('df_train shape : ',df_train.shape, ' ' ,'df_test shape : ',df_test.shape)"
      ],
      "metadata": {
        "colab": {
          "base_uri": "https://localhost:8080/"
        },
        "id": "TF3loLGkS0p6",
        "outputId": "5bb8e530-780e-451b-9de8-709ea4ba1967"
      },
      "execution_count": 4,
      "outputs": [
        {
          "output_type": "stream",
          "name": "stdout",
          "text": [
            "df_train shape :  (9557, 143)   df_test shape :  (23856, 142)\n"
          ]
        }
      ]
    },
    {
      "cell_type": "code",
      "source": [
        "df_train.head()"
      ],
      "metadata": {
        "colab": {
          "base_uri": "https://localhost:8080/",
          "height": 299
        },
        "id": "Zb26aSMGS0kj",
        "outputId": "2e92ed6a-4d8d-482e-8f2b-8c7d7e056fca"
      },
      "execution_count": 5,
      "outputs": [
        {
          "output_type": "execute_result",
          "data": {
            "text/plain": [
              "             Id      v2a1  hacdor  rooms  hacapo  v14a  refrig  v18q  v18q1  \\\n",
              "0  ID_279628684  190000.0       0      3       0     1       1     0    NaN   \n",
              "1  ID_f29eb3ddd  135000.0       0      4       0     1       1     1    1.0   \n",
              "2  ID_68de51c94       NaN       0      8       0     1       1     0    NaN   \n",
              "3  ID_d671db89c  180000.0       0      5       0     1       1     1    1.0   \n",
              "4  ID_d56d6f5f5  180000.0       0      5       0     1       1     1    1.0   \n",
              "\n",
              "   r4h1  ...  SQBescolari  SQBage  SQBhogar_total  SQBedjefe  SQBhogar_nin  \\\n",
              "0     0  ...          100    1849               1        100             0   \n",
              "1     0  ...          144    4489               1        144             0   \n",
              "2     0  ...          121    8464               1          0             0   \n",
              "3     0  ...           81     289              16        121             4   \n",
              "4     0  ...          121    1369              16        121             4   \n",
              "\n",
              "   SQBovercrowding  SQBdependency  SQBmeaned  agesq  Target  \n",
              "0         1.000000            0.0      100.0   1849       4  \n",
              "1         1.000000           64.0      144.0   4489       4  \n",
              "2         0.250000           64.0      121.0   8464       4  \n",
              "3         1.777778            1.0      121.0    289       4  \n",
              "4         1.777778            1.0      121.0   1369       4  \n",
              "\n",
              "[5 rows x 143 columns]"
            ],
            "text/html": [
              "\n",
              "  <div id=\"df-a729314a-bc47-4666-84e9-3d7016568657\">\n",
              "    <div class=\"colab-df-container\">\n",
              "      <div>\n",
              "<style scoped>\n",
              "    .dataframe tbody tr th:only-of-type {\n",
              "        vertical-align: middle;\n",
              "    }\n",
              "\n",
              "    .dataframe tbody tr th {\n",
              "        vertical-align: top;\n",
              "    }\n",
              "\n",
              "    .dataframe thead th {\n",
              "        text-align: right;\n",
              "    }\n",
              "</style>\n",
              "<table border=\"1\" class=\"dataframe\">\n",
              "  <thead>\n",
              "    <tr style=\"text-align: right;\">\n",
              "      <th></th>\n",
              "      <th>Id</th>\n",
              "      <th>v2a1</th>\n",
              "      <th>hacdor</th>\n",
              "      <th>rooms</th>\n",
              "      <th>hacapo</th>\n",
              "      <th>v14a</th>\n",
              "      <th>refrig</th>\n",
              "      <th>v18q</th>\n",
              "      <th>v18q1</th>\n",
              "      <th>r4h1</th>\n",
              "      <th>...</th>\n",
              "      <th>SQBescolari</th>\n",
              "      <th>SQBage</th>\n",
              "      <th>SQBhogar_total</th>\n",
              "      <th>SQBedjefe</th>\n",
              "      <th>SQBhogar_nin</th>\n",
              "      <th>SQBovercrowding</th>\n",
              "      <th>SQBdependency</th>\n",
              "      <th>SQBmeaned</th>\n",
              "      <th>agesq</th>\n",
              "      <th>Target</th>\n",
              "    </tr>\n",
              "  </thead>\n",
              "  <tbody>\n",
              "    <tr>\n",
              "      <th>0</th>\n",
              "      <td>ID_279628684</td>\n",
              "      <td>190000.0</td>\n",
              "      <td>0</td>\n",
              "      <td>3</td>\n",
              "      <td>0</td>\n",
              "      <td>1</td>\n",
              "      <td>1</td>\n",
              "      <td>0</td>\n",
              "      <td>NaN</td>\n",
              "      <td>0</td>\n",
              "      <td>...</td>\n",
              "      <td>100</td>\n",
              "      <td>1849</td>\n",
              "      <td>1</td>\n",
              "      <td>100</td>\n",
              "      <td>0</td>\n",
              "      <td>1.000000</td>\n",
              "      <td>0.0</td>\n",
              "      <td>100.0</td>\n",
              "      <td>1849</td>\n",
              "      <td>4</td>\n",
              "    </tr>\n",
              "    <tr>\n",
              "      <th>1</th>\n",
              "      <td>ID_f29eb3ddd</td>\n",
              "      <td>135000.0</td>\n",
              "      <td>0</td>\n",
              "      <td>4</td>\n",
              "      <td>0</td>\n",
              "      <td>1</td>\n",
              "      <td>1</td>\n",
              "      <td>1</td>\n",
              "      <td>1.0</td>\n",
              "      <td>0</td>\n",
              "      <td>...</td>\n",
              "      <td>144</td>\n",
              "      <td>4489</td>\n",
              "      <td>1</td>\n",
              "      <td>144</td>\n",
              "      <td>0</td>\n",
              "      <td>1.000000</td>\n",
              "      <td>64.0</td>\n",
              "      <td>144.0</td>\n",
              "      <td>4489</td>\n",
              "      <td>4</td>\n",
              "    </tr>\n",
              "    <tr>\n",
              "      <th>2</th>\n",
              "      <td>ID_68de51c94</td>\n",
              "      <td>NaN</td>\n",
              "      <td>0</td>\n",
              "      <td>8</td>\n",
              "      <td>0</td>\n",
              "      <td>1</td>\n",
              "      <td>1</td>\n",
              "      <td>0</td>\n",
              "      <td>NaN</td>\n",
              "      <td>0</td>\n",
              "      <td>...</td>\n",
              "      <td>121</td>\n",
              "      <td>8464</td>\n",
              "      <td>1</td>\n",
              "      <td>0</td>\n",
              "      <td>0</td>\n",
              "      <td>0.250000</td>\n",
              "      <td>64.0</td>\n",
              "      <td>121.0</td>\n",
              "      <td>8464</td>\n",
              "      <td>4</td>\n",
              "    </tr>\n",
              "    <tr>\n",
              "      <th>3</th>\n",
              "      <td>ID_d671db89c</td>\n",
              "      <td>180000.0</td>\n",
              "      <td>0</td>\n",
              "      <td>5</td>\n",
              "      <td>0</td>\n",
              "      <td>1</td>\n",
              "      <td>1</td>\n",
              "      <td>1</td>\n",
              "      <td>1.0</td>\n",
              "      <td>0</td>\n",
              "      <td>...</td>\n",
              "      <td>81</td>\n",
              "      <td>289</td>\n",
              "      <td>16</td>\n",
              "      <td>121</td>\n",
              "      <td>4</td>\n",
              "      <td>1.777778</td>\n",
              "      <td>1.0</td>\n",
              "      <td>121.0</td>\n",
              "      <td>289</td>\n",
              "      <td>4</td>\n",
              "    </tr>\n",
              "    <tr>\n",
              "      <th>4</th>\n",
              "      <td>ID_d56d6f5f5</td>\n",
              "      <td>180000.0</td>\n",
              "      <td>0</td>\n",
              "      <td>5</td>\n",
              "      <td>0</td>\n",
              "      <td>1</td>\n",
              "      <td>1</td>\n",
              "      <td>1</td>\n",
              "      <td>1.0</td>\n",
              "      <td>0</td>\n",
              "      <td>...</td>\n",
              "      <td>121</td>\n",
              "      <td>1369</td>\n",
              "      <td>16</td>\n",
              "      <td>121</td>\n",
              "      <td>4</td>\n",
              "      <td>1.777778</td>\n",
              "      <td>1.0</td>\n",
              "      <td>121.0</td>\n",
              "      <td>1369</td>\n",
              "      <td>4</td>\n",
              "    </tr>\n",
              "  </tbody>\n",
              "</table>\n",
              "<p>5 rows × 143 columns</p>\n",
              "</div>\n",
              "      <button class=\"colab-df-convert\" onclick=\"convertToInteractive('df-a729314a-bc47-4666-84e9-3d7016568657')\"\n",
              "              title=\"Convert this dataframe to an interactive table.\"\n",
              "              style=\"display:none;\">\n",
              "        \n",
              "  <svg xmlns=\"http://www.w3.org/2000/svg\" height=\"24px\"viewBox=\"0 0 24 24\"\n",
              "       width=\"24px\">\n",
              "    <path d=\"M0 0h24v24H0V0z\" fill=\"none\"/>\n",
              "    <path d=\"M18.56 5.44l.94 2.06.94-2.06 2.06-.94-2.06-.94-.94-2.06-.94 2.06-2.06.94zm-11 1L8.5 8.5l.94-2.06 2.06-.94-2.06-.94L8.5 2.5l-.94 2.06-2.06.94zm10 10l.94 2.06.94-2.06 2.06-.94-2.06-.94-.94-2.06-.94 2.06-2.06.94z\"/><path d=\"M17.41 7.96l-1.37-1.37c-.4-.4-.92-.59-1.43-.59-.52 0-1.04.2-1.43.59L10.3 9.45l-7.72 7.72c-.78.78-.78 2.05 0 2.83L4 21.41c.39.39.9.59 1.41.59.51 0 1.02-.2 1.41-.59l7.78-7.78 2.81-2.81c.8-.78.8-2.07 0-2.86zM5.41 20L4 18.59l7.72-7.72 1.47 1.35L5.41 20z\"/>\n",
              "  </svg>\n",
              "      </button>\n",
              "      \n",
              "  <style>\n",
              "    .colab-df-container {\n",
              "      display:flex;\n",
              "      flex-wrap:wrap;\n",
              "      gap: 12px;\n",
              "    }\n",
              "\n",
              "    .colab-df-convert {\n",
              "      background-color: #E8F0FE;\n",
              "      border: none;\n",
              "      border-radius: 50%;\n",
              "      cursor: pointer;\n",
              "      display: none;\n",
              "      fill: #1967D2;\n",
              "      height: 32px;\n",
              "      padding: 0 0 0 0;\n",
              "      width: 32px;\n",
              "    }\n",
              "\n",
              "    .colab-df-convert:hover {\n",
              "      background-color: #E2EBFA;\n",
              "      box-shadow: 0px 1px 2px rgba(60, 64, 67, 0.3), 0px 1px 3px 1px rgba(60, 64, 67, 0.15);\n",
              "      fill: #174EA6;\n",
              "    }\n",
              "\n",
              "    [theme=dark] .colab-df-convert {\n",
              "      background-color: #3B4455;\n",
              "      fill: #D2E3FC;\n",
              "    }\n",
              "\n",
              "    [theme=dark] .colab-df-convert:hover {\n",
              "      background-color: #434B5C;\n",
              "      box-shadow: 0px 1px 3px 1px rgba(0, 0, 0, 0.15);\n",
              "      filter: drop-shadow(0px 1px 2px rgba(0, 0, 0, 0.3));\n",
              "      fill: #FFFFFF;\n",
              "    }\n",
              "  </style>\n",
              "\n",
              "      <script>\n",
              "        const buttonEl =\n",
              "          document.querySelector('#df-a729314a-bc47-4666-84e9-3d7016568657 button.colab-df-convert');\n",
              "        buttonEl.style.display =\n",
              "          google.colab.kernel.accessAllowed ? 'block' : 'none';\n",
              "\n",
              "        async function convertToInteractive(key) {\n",
              "          const element = document.querySelector('#df-a729314a-bc47-4666-84e9-3d7016568657');\n",
              "          const dataTable =\n",
              "            await google.colab.kernel.invokeFunction('convertToInteractive',\n",
              "                                                     [key], {});\n",
              "          if (!dataTable) return;\n",
              "\n",
              "          const docLinkHtml = 'Like what you see? Visit the ' +\n",
              "            '<a target=\"_blank\" href=https://colab.research.google.com/notebooks/data_table.ipynb>data table notebook</a>'\n",
              "            + ' to learn more about interactive tables.';\n",
              "          element.innerHTML = '';\n",
              "          dataTable['output_type'] = 'display_data';\n",
              "          await google.colab.output.renderOutput(dataTable, element);\n",
              "          const docLink = document.createElement('div');\n",
              "          docLink.innerHTML = docLinkHtml;\n",
              "          element.appendChild(docLink);\n",
              "        }\n",
              "      </script>\n",
              "    </div>\n",
              "  </div>\n",
              "  "
            ]
          },
          "metadata": {},
          "execution_count": 5
        }
      ]
    },
    {
      "cell_type": "code",
      "source": [
        "df_test.head()"
      ],
      "metadata": {
        "colab": {
          "base_uri": "https://localhost:8080/",
          "height": 299
        },
        "id": "n7clhuYgS0ga",
        "outputId": "2cb4d053-30e1-499c-e09f-7f1cc7a6ca91"
      },
      "execution_count": 6,
      "outputs": [
        {
          "output_type": "execute_result",
          "data": {
            "text/plain": [
              "             Id      v2a1  hacdor  rooms  hacapo  v14a  refrig  v18q  v18q1  \\\n",
              "0  ID_2f6873615       NaN       0      5       0     1       1     0    NaN   \n",
              "1  ID_1c78846d2       NaN       0      5       0     1       1     0    NaN   \n",
              "2  ID_e5442cf6a       NaN       0      5       0     1       1     0    NaN   \n",
              "3  ID_a8db26a79       NaN       0     14       0     1       1     1    1.0   \n",
              "4  ID_a62966799  175000.0       0      4       0     1       1     1    1.0   \n",
              "\n",
              "   r4h1  ...  age  SQBescolari  SQBage  SQBhogar_total  SQBedjefe  \\\n",
              "0     1  ...    4            0      16               9          0   \n",
              "1     1  ...   41          256    1681               9          0   \n",
              "2     1  ...   41          289    1681               9          0   \n",
              "3     0  ...   59          256    3481               1        256   \n",
              "4     0  ...   18          121     324               1          0   \n",
              "\n",
              "   SQBhogar_nin  SQBovercrowding  SQBdependency  SQBmeaned  agesq  \n",
              "0             1             2.25           0.25     272.25     16  \n",
              "1             1             2.25           0.25     272.25   1681  \n",
              "2             1             2.25           0.25     272.25   1681  \n",
              "3             0             1.00           0.00     256.00   3481  \n",
              "4             1             0.25          64.00        NaN    324  \n",
              "\n",
              "[5 rows x 142 columns]"
            ],
            "text/html": [
              "\n",
              "  <div id=\"df-456a411d-faf8-416e-983f-25d7e450ebd2\">\n",
              "    <div class=\"colab-df-container\">\n",
              "      <div>\n",
              "<style scoped>\n",
              "    .dataframe tbody tr th:only-of-type {\n",
              "        vertical-align: middle;\n",
              "    }\n",
              "\n",
              "    .dataframe tbody tr th {\n",
              "        vertical-align: top;\n",
              "    }\n",
              "\n",
              "    .dataframe thead th {\n",
              "        text-align: right;\n",
              "    }\n",
              "</style>\n",
              "<table border=\"1\" class=\"dataframe\">\n",
              "  <thead>\n",
              "    <tr style=\"text-align: right;\">\n",
              "      <th></th>\n",
              "      <th>Id</th>\n",
              "      <th>v2a1</th>\n",
              "      <th>hacdor</th>\n",
              "      <th>rooms</th>\n",
              "      <th>hacapo</th>\n",
              "      <th>v14a</th>\n",
              "      <th>refrig</th>\n",
              "      <th>v18q</th>\n",
              "      <th>v18q1</th>\n",
              "      <th>r4h1</th>\n",
              "      <th>...</th>\n",
              "      <th>age</th>\n",
              "      <th>SQBescolari</th>\n",
              "      <th>SQBage</th>\n",
              "      <th>SQBhogar_total</th>\n",
              "      <th>SQBedjefe</th>\n",
              "      <th>SQBhogar_nin</th>\n",
              "      <th>SQBovercrowding</th>\n",
              "      <th>SQBdependency</th>\n",
              "      <th>SQBmeaned</th>\n",
              "      <th>agesq</th>\n",
              "    </tr>\n",
              "  </thead>\n",
              "  <tbody>\n",
              "    <tr>\n",
              "      <th>0</th>\n",
              "      <td>ID_2f6873615</td>\n",
              "      <td>NaN</td>\n",
              "      <td>0</td>\n",
              "      <td>5</td>\n",
              "      <td>0</td>\n",
              "      <td>1</td>\n",
              "      <td>1</td>\n",
              "      <td>0</td>\n",
              "      <td>NaN</td>\n",
              "      <td>1</td>\n",
              "      <td>...</td>\n",
              "      <td>4</td>\n",
              "      <td>0</td>\n",
              "      <td>16</td>\n",
              "      <td>9</td>\n",
              "      <td>0</td>\n",
              "      <td>1</td>\n",
              "      <td>2.25</td>\n",
              "      <td>0.25</td>\n",
              "      <td>272.25</td>\n",
              "      <td>16</td>\n",
              "    </tr>\n",
              "    <tr>\n",
              "      <th>1</th>\n",
              "      <td>ID_1c78846d2</td>\n",
              "      <td>NaN</td>\n",
              "      <td>0</td>\n",
              "      <td>5</td>\n",
              "      <td>0</td>\n",
              "      <td>1</td>\n",
              "      <td>1</td>\n",
              "      <td>0</td>\n",
              "      <td>NaN</td>\n",
              "      <td>1</td>\n",
              "      <td>...</td>\n",
              "      <td>41</td>\n",
              "      <td>256</td>\n",
              "      <td>1681</td>\n",
              "      <td>9</td>\n",
              "      <td>0</td>\n",
              "      <td>1</td>\n",
              "      <td>2.25</td>\n",
              "      <td>0.25</td>\n",
              "      <td>272.25</td>\n",
              "      <td>1681</td>\n",
              "    </tr>\n",
              "    <tr>\n",
              "      <th>2</th>\n",
              "      <td>ID_e5442cf6a</td>\n",
              "      <td>NaN</td>\n",
              "      <td>0</td>\n",
              "      <td>5</td>\n",
              "      <td>0</td>\n",
              "      <td>1</td>\n",
              "      <td>1</td>\n",
              "      <td>0</td>\n",
              "      <td>NaN</td>\n",
              "      <td>1</td>\n",
              "      <td>...</td>\n",
              "      <td>41</td>\n",
              "      <td>289</td>\n",
              "      <td>1681</td>\n",
              "      <td>9</td>\n",
              "      <td>0</td>\n",
              "      <td>1</td>\n",
              "      <td>2.25</td>\n",
              "      <td>0.25</td>\n",
              "      <td>272.25</td>\n",
              "      <td>1681</td>\n",
              "    </tr>\n",
              "    <tr>\n",
              "      <th>3</th>\n",
              "      <td>ID_a8db26a79</td>\n",
              "      <td>NaN</td>\n",
              "      <td>0</td>\n",
              "      <td>14</td>\n",
              "      <td>0</td>\n",
              "      <td>1</td>\n",
              "      <td>1</td>\n",
              "      <td>1</td>\n",
              "      <td>1.0</td>\n",
              "      <td>0</td>\n",
              "      <td>...</td>\n",
              "      <td>59</td>\n",
              "      <td>256</td>\n",
              "      <td>3481</td>\n",
              "      <td>1</td>\n",
              "      <td>256</td>\n",
              "      <td>0</td>\n",
              "      <td>1.00</td>\n",
              "      <td>0.00</td>\n",
              "      <td>256.00</td>\n",
              "      <td>3481</td>\n",
              "    </tr>\n",
              "    <tr>\n",
              "      <th>4</th>\n",
              "      <td>ID_a62966799</td>\n",
              "      <td>175000.0</td>\n",
              "      <td>0</td>\n",
              "      <td>4</td>\n",
              "      <td>0</td>\n",
              "      <td>1</td>\n",
              "      <td>1</td>\n",
              "      <td>1</td>\n",
              "      <td>1.0</td>\n",
              "      <td>0</td>\n",
              "      <td>...</td>\n",
              "      <td>18</td>\n",
              "      <td>121</td>\n",
              "      <td>324</td>\n",
              "      <td>1</td>\n",
              "      <td>0</td>\n",
              "      <td>1</td>\n",
              "      <td>0.25</td>\n",
              "      <td>64.00</td>\n",
              "      <td>NaN</td>\n",
              "      <td>324</td>\n",
              "    </tr>\n",
              "  </tbody>\n",
              "</table>\n",
              "<p>5 rows × 142 columns</p>\n",
              "</div>\n",
              "      <button class=\"colab-df-convert\" onclick=\"convertToInteractive('df-456a411d-faf8-416e-983f-25d7e450ebd2')\"\n",
              "              title=\"Convert this dataframe to an interactive table.\"\n",
              "              style=\"display:none;\">\n",
              "        \n",
              "  <svg xmlns=\"http://www.w3.org/2000/svg\" height=\"24px\"viewBox=\"0 0 24 24\"\n",
              "       width=\"24px\">\n",
              "    <path d=\"M0 0h24v24H0V0z\" fill=\"none\"/>\n",
              "    <path d=\"M18.56 5.44l.94 2.06.94-2.06 2.06-.94-2.06-.94-.94-2.06-.94 2.06-2.06.94zm-11 1L8.5 8.5l.94-2.06 2.06-.94-2.06-.94L8.5 2.5l-.94 2.06-2.06.94zm10 10l.94 2.06.94-2.06 2.06-.94-2.06-.94-.94-2.06-.94 2.06-2.06.94z\"/><path d=\"M17.41 7.96l-1.37-1.37c-.4-.4-.92-.59-1.43-.59-.52 0-1.04.2-1.43.59L10.3 9.45l-7.72 7.72c-.78.78-.78 2.05 0 2.83L4 21.41c.39.39.9.59 1.41.59.51 0 1.02-.2 1.41-.59l7.78-7.78 2.81-2.81c.8-.78.8-2.07 0-2.86zM5.41 20L4 18.59l7.72-7.72 1.47 1.35L5.41 20z\"/>\n",
              "  </svg>\n",
              "      </button>\n",
              "      \n",
              "  <style>\n",
              "    .colab-df-container {\n",
              "      display:flex;\n",
              "      flex-wrap:wrap;\n",
              "      gap: 12px;\n",
              "    }\n",
              "\n",
              "    .colab-df-convert {\n",
              "      background-color: #E8F0FE;\n",
              "      border: none;\n",
              "      border-radius: 50%;\n",
              "      cursor: pointer;\n",
              "      display: none;\n",
              "      fill: #1967D2;\n",
              "      height: 32px;\n",
              "      padding: 0 0 0 0;\n",
              "      width: 32px;\n",
              "    }\n",
              "\n",
              "    .colab-df-convert:hover {\n",
              "      background-color: #E2EBFA;\n",
              "      box-shadow: 0px 1px 2px rgba(60, 64, 67, 0.3), 0px 1px 3px 1px rgba(60, 64, 67, 0.15);\n",
              "      fill: #174EA6;\n",
              "    }\n",
              "\n",
              "    [theme=dark] .colab-df-convert {\n",
              "      background-color: #3B4455;\n",
              "      fill: #D2E3FC;\n",
              "    }\n",
              "\n",
              "    [theme=dark] .colab-df-convert:hover {\n",
              "      background-color: #434B5C;\n",
              "      box-shadow: 0px 1px 3px 1px rgba(0, 0, 0, 0.15);\n",
              "      filter: drop-shadow(0px 1px 2px rgba(0, 0, 0, 0.3));\n",
              "      fill: #FFFFFF;\n",
              "    }\n",
              "  </style>\n",
              "\n",
              "      <script>\n",
              "        const buttonEl =\n",
              "          document.querySelector('#df-456a411d-faf8-416e-983f-25d7e450ebd2 button.colab-df-convert');\n",
              "        buttonEl.style.display =\n",
              "          google.colab.kernel.accessAllowed ? 'block' : 'none';\n",
              "\n",
              "        async function convertToInteractive(key) {\n",
              "          const element = document.querySelector('#df-456a411d-faf8-416e-983f-25d7e450ebd2');\n",
              "          const dataTable =\n",
              "            await google.colab.kernel.invokeFunction('convertToInteractive',\n",
              "                                                     [key], {});\n",
              "          if (!dataTable) return;\n",
              "\n",
              "          const docLinkHtml = 'Like what you see? Visit the ' +\n",
              "            '<a target=\"_blank\" href=https://colab.research.google.com/notebooks/data_table.ipynb>data table notebook</a>'\n",
              "            + ' to learn more about interactive tables.';\n",
              "          element.innerHTML = '';\n",
              "          dataTable['output_type'] = 'display_data';\n",
              "          await google.colab.output.renderOutput(dataTable, element);\n",
              "          const docLink = document.createElement('div');\n",
              "          docLink.innerHTML = docLinkHtml;\n",
              "          element.appendChild(docLink);\n",
              "        }\n",
              "      </script>\n",
              "    </div>\n",
              "  </div>\n",
              "  "
            ]
          },
          "metadata": {},
          "execution_count": 6
        }
      ]
    },
    {
      "cell_type": "markdown",
      "source": [
        "### 1-2. Make description df"
      ],
      "metadata": {
        "id": "KCAaLjjrUKic"
      }
    },
    {
      "cell_type": "code",
      "source": [
        "description = [\n",
        "(\"v2a1\",\" Monthly rent payment\"),\n",
        "(\"hacdor\",\" =1 Overcrowding by bedrooms\"),\n",
        "(\"rooms\",\"  number of all rooms in the house\"),\n",
        "(\"hacapo\",\" =1 Overcrowding by rooms\"),\n",
        "(\"v14a\",\" =1 has toilet in the household\"),\n",
        "(\"refrig\",\" =1 if the household has refrigerator\"),\n",
        "(\"v18q\",\" owns a tablet\"),\n",
        "(\"v18q1\",\" number of tablets household owns\"),\n",
        "(\"r4h1\",\" Males younger than 12 years of age\"),\n",
        "(\"r4h2\",\" Males 12 years of age and older\"),\n",
        "(\"r4h3\",\" Total males in the household\"),\n",
        "(\"r4m1\",\" Females younger than 12 years of age\"),\n",
        "(\"r4m2\",\" Females 12 years of age and older\"),\n",
        "(\"r4m3\",\" Total females in the household\"),\n",
        "(\"r4t1\",\" persons younger than 12 years of age\"),\n",
        "(\"r4t2\",\" persons 12 years of age and older\"),\n",
        "(\"r4t3\",\" Total persons in the household\"),\n",
        "(\"tamhog\",\" size of the household\"),\n",
        "(\"tamviv\",\" number of persons living in the household\"),\n",
        "(\"escolari\",\" years of schooling\"),\n",
        "(\"rez_esc\",\" Years behind in school\"),\n",
        "(\"hhsize\",\" household size\"),\n",
        "(\"paredblolad\",\" =1 if predominant material on the outside wall is block or brick\"),\n",
        "(\"paredzocalo\",\" =1 if predominant material on the outside wall is socket (wood, zinc or absbesto\"),\n",
        "(\"paredpreb\",\" =1 if predominant material on the outside wall is prefabricated or cement\"),\n",
        "(\"pareddes\",\" =1 if predominant material on the outside wall is waste material\"),\n",
        "(\"paredmad\",\" =1 if predominant material on the outside wall is wood\"),\n",
        "(\"paredzinc\",\" =1 if predominant material on the outside wall is zink\"),\n",
        "(\"paredfibras\",\" =1 if predominant material on the outside wall is natural fibers\"),\n",
        "(\"paredother\",\" =1 if predominant material on the outside wall is other\"),\n",
        "(\"pisomoscer\",\" =1 if predominant material on the floor is mosaic ceramic   terrazo\"),\n",
        "(\"pisocemento\",\" =1 if predominant material on the floor is cement\"),\n",
        "(\"pisoother\",\" =1 if predominant material on the floor is other\"),\n",
        "(\"pisonatur\",\" =1 if predominant material on the floor is  natural material\"),\n",
        "(\"pisonotiene\",\" =1 if no floor at the household\"),\n",
        "(\"pisomadera\",\" =1 if predominant material on the floor is wood\"),\n",
        "(\"techozinc\",\" =1 if predominant material on the roof is metal foil or zink\"),\n",
        "(\"techoentrepiso\",\" =1 if predominant material on the roof is fiber cement,   mezzanine \"),\n",
        "(\"techocane\",\" =1 if predominant material on the roof is natural fibers\"),\n",
        "(\"techootro\",\" =1 if predominant material on the roof is other\"),\n",
        "(\"cielorazo\",\" =1 if the house has ceiling\"),\n",
        "(\"abastaguadentro\",\" =1 if water provision inside the dwelling\"),\n",
        "(\"abastaguafuera\",\" =1 if water provision outside the dwelling\"),\n",
        "(\"abastaguano\",\" =1 if no water provision\"),\n",
        "(\"public\",\" =1 electricity from CNFL,  ICE, ESPH/JASEC\"),\n",
        "(\"planpri\",\" =1 electricity from private plant\"),\n",
        "(\"noelec\",\" =1 no electricity in the dwelling\"),\n",
        "(\"coopele\",\" =1 electricity from cooperative\"),\n",
        "(\"sanitario1\",\" =1 no toilet in the dwelling\"),\n",
        "(\"sanitario2\",\" =1 toilet connected to sewer or cesspool\"),\n",
        "(\"sanitario3\",\" =1 toilet connected to  septic tank\"),\n",
        "(\"sanitario5\",\" =1 toilet connected to black hole or letrine\"),\n",
        "(\"sanitario6\",\" =1 toilet connected to other system\"),\n",
        "(\"energcocinar1\",\" =1 no main source of energy used for cooking (no kitchen)\"),\n",
        "(\"energcocinar2\",\" =1 main source of energy used for cooking electricity\"),\n",
        "(\"energcocinar3\",\" =1 main source of energy used for cooking gas\"),\n",
        "(\"energcocinar4\",\" =1 main source of energy used for cooking wood charcoal\"),\n",
        "(\"elimbasu1\",\" =1 if rubbish disposal mainly by tanker truck\"),\n",
        "(\"elimbasu2\",\" =1 if rubbish disposal mainly by botan hollow or buried\"),\n",
        "(\"elimbasu3\",\" =1 if rubbish disposal mainly by burning\"),\n",
        "(\"elimbasu4\",\" =1 if rubbish disposal mainly by throwing in an unoccupied space\"),\n",
        "(\"elimbasu5\",\" =1 if rubbish disposal mainly by throwing in river,   creek or sea\"),\n",
        "(\"elimbasu6\",\" =1 if rubbish disposal mainly other\"),\n",
        "(\"epared1\",\" =1 if walls are bad\"),\n",
        "(\"epared2\",\" =1 if walls are regular\"),\n",
        "(\"epared3\",\" =1 if walls are good\"),\n",
        "(\"etecho1\",\" =1 if roof are bad\"),\n",
        "(\"etecho2\",\" =1 if roof are regular\"),\n",
        "(\"etecho3\",\" =1 if roof are good\"),\n",
        "(\"eviv1\",\" =1 if floor are bad\"),\n",
        "(\"eviv2\",\" =1 if floor are regular\"),\n",
        "(\"eviv3\",\" =1 if floor are good\"),\n",
        "(\"dis\",\" =1 if disable person\"),\n",
        "(\"male\",\" =1 if male\"),\n",
        "(\"female\",\" =1 if female\"),\n",
        "(\"estadocivil1\",\" =1 if less than 10 years old\"),\n",
        "(\"estadocivil2\",\" =1 if free or coupled uunion\"),\n",
        "(\"estadocivil3\",\" =1 if married\"),\n",
        "(\"estadocivil4\",\" =1 if divorced\"),\n",
        "(\"estadocivil5\",\" =1 if separated\"),\n",
        "(\"estadocivil6\",\" =1 if widow/er\"),\n",
        "(\"estadocivil7\",\" =1 if single\"),\n",
        "(\"parentesco1\",\" =1 if household head\"),\n",
        "(\"parentesco2\",\" =1 if spouse/partner\"),\n",
        "(\"parentesco3\",\" =1 if son/doughter\"),\n",
        "(\"parentesco4\",\" =1 if stepson/doughter\"),\n",
        "(\"parentesco5\",\" =1 if son/doughter in law\"),\n",
        "(\"parentesco6\",\" =1 if grandson/doughter\"),\n",
        "(\"parentesco7\",\" =1 if mother/father\"),\n",
        "(\"parentesco8\",\" =1 if father/mother in law\"),\n",
        "(\"parentesco9\",\" =1 if brother/sister\"),\n",
        "(\"parentesco10\",\" =1 if brother/sister in law\"),\n",
        "(\"parentesco11\",\" =1 if other family member\"),\n",
        "(\"parentesco12\",\" =1 if other non family member\"),\n",
        "(\"idhogar\",\" Household level identifier\"),\n",
        "(\"hogar_nin\",\" Number of children 0 to 19 in household\"),\n",
        "(\"hogar_adul\",\" Number of adults in household\"),\n",
        "(\"hogar_mayor\",\" # of individuals 65+ in the household\"),\n",
        "(\"hogar_total\",\" # of total individuals in the household\"),\n",
        "(\"dependency\",\" Dependency rate\"),\n",
        "(\"edjefe\",\" years of education of male head of household\"),\n",
        "(\"edjefa\",\" years of education of female head of household\"),\n",
        "(\"meaneduc\",\"average years of education for adults (18+)\"),\n",
        "(\"instlevel1\",\" =1 no level of education\"),\n",
        "(\"instlevel2\",\" =1 incomplete primary\"),\n",
        "(\"instlevel3\",\" =1 complete primary\"),\n",
        "(\"instlevel4\",\" =1 incomplete academic secondary level\"),\n",
        "(\"instlevel5\",\" =1 complete academic secondary level\"),\n",
        "(\"instlevel6\",\" =1 incomplete technical secondary level\"),\n",
        "(\"instlevel7\",\" =1 complete technical secondary level\"),\n",
        "(\"instlevel8\",\" =1 undergraduate and higher education\"),\n",
        "(\"instlevel9\",\" =1 postgraduate higher education\"),\n",
        "(\"bedrooms\",\" number of bedrooms\"),\n",
        "(\"overcrowding\",\" # persons per room\"),\n",
        "(\"tipovivi1\",\" =1 own and fully paid house\"),\n",
        "(\"tipovivi2\",\" =1 own,   paying in installments\"),\n",
        "(\"tipovivi3\",\" =1 rented\"),\n",
        "(\"tipovivi4\",\" =1 precarious\"),\n",
        "(\"tipovivi5\",\" =1 other(assigned\"),\n",
        "(\"computer\",\" =1 if the household has notebook or desktop computer,   borrowed)\"),\n",
        "(\"television\",\" =1 if the household has TV\"),\n",
        "(\"mobilephone\",\" =1 if mobile phone\"),\n",
        "(\"qmobilephone\",\" # of mobile phones\"),\n",
        "(\"lugar1\",\" =1 region Central\"),\n",
        "(\"lugar2\",\" =1 region Chorotega\"),\n",
        "(\"lugar3\",\" =1 region PacÃƒÂ­fico central\"),\n",
        "(\"lugar4\",\" =1 region Brunca\"),\n",
        "(\"lugar5\",\" =1 region Huetar AtlÃƒÂ¡ntica\"),\n",
        "(\"lugar6\",\" =1 region Huetar Norte\"),\n",
        "(\"area1\",\" =1 zona urbana\"),\n",
        "(\"area2\",\" =2 zona rural\"),\n",
        "(\"age\",\" Age in years\"),\n",
        "(\"SQBescolari\",\" escolari squared\"),\n",
        "(\"SQBage\",\" age squared\"),\n",
        "(\"SQBhogar_total\",\" hogar_total squared\"),\n",
        "(\"SQBedjefe\",\" edjefe squared\"),\n",
        "(\"SQBhogar_nin\",\" hogar_nin squared\"),\n",
        "(\"SQBovercrowding\",\" overcrowding squared\"),\n",
        "(\"SQBdependency\",\" dependency squared\"),\n",
        "(\"SQBmeaned\",\" meaned squared\"),\n",
        "(\"agesq\",\" Age squared\"),]\n",
        "\n",
        "description = pd.DataFrame(description, columns=['varname', 'description'])"
      ],
      "metadata": {
        "id": "lURDM14qUFO_"
      },
      "execution_count": 7,
      "outputs": []
    },
    {
      "cell_type": "code",
      "source": [
        "description"
      ],
      "metadata": {
        "colab": {
          "base_uri": "https://localhost:8080/",
          "height": 424
        },
        "id": "7-IDXg2VUFMG",
        "outputId": "a79147dd-4a46-450d-be6a-d6c4484523b6"
      },
      "execution_count": 8,
      "outputs": [
        {
          "output_type": "execute_result",
          "data": {
            "text/plain": [
              "             varname                         description\n",
              "0               v2a1                Monthly rent payment\n",
              "1             hacdor         =1 Overcrowding by bedrooms\n",
              "2              rooms    number of all rooms in the house\n",
              "3             hacapo            =1 Overcrowding by rooms\n",
              "4               v14a      =1 has toilet in the household\n",
              "..               ...                                 ...\n",
              "136     SQBhogar_nin                   hogar_nin squared\n",
              "137  SQBovercrowding                overcrowding squared\n",
              "138    SQBdependency                  dependency squared\n",
              "139        SQBmeaned                      meaned squared\n",
              "140            agesq                         Age squared\n",
              "\n",
              "[141 rows x 2 columns]"
            ],
            "text/html": [
              "\n",
              "  <div id=\"df-d231bc0f-92f0-47d0-8ce0-685c4bd191c4\">\n",
              "    <div class=\"colab-df-container\">\n",
              "      <div>\n",
              "<style scoped>\n",
              "    .dataframe tbody tr th:only-of-type {\n",
              "        vertical-align: middle;\n",
              "    }\n",
              "\n",
              "    .dataframe tbody tr th {\n",
              "        vertical-align: top;\n",
              "    }\n",
              "\n",
              "    .dataframe thead th {\n",
              "        text-align: right;\n",
              "    }\n",
              "</style>\n",
              "<table border=\"1\" class=\"dataframe\">\n",
              "  <thead>\n",
              "    <tr style=\"text-align: right;\">\n",
              "      <th></th>\n",
              "      <th>varname</th>\n",
              "      <th>description</th>\n",
              "    </tr>\n",
              "  </thead>\n",
              "  <tbody>\n",
              "    <tr>\n",
              "      <th>0</th>\n",
              "      <td>v2a1</td>\n",
              "      <td>Monthly rent payment</td>\n",
              "    </tr>\n",
              "    <tr>\n",
              "      <th>1</th>\n",
              "      <td>hacdor</td>\n",
              "      <td>=1 Overcrowding by bedrooms</td>\n",
              "    </tr>\n",
              "    <tr>\n",
              "      <th>2</th>\n",
              "      <td>rooms</td>\n",
              "      <td>number of all rooms in the house</td>\n",
              "    </tr>\n",
              "    <tr>\n",
              "      <th>3</th>\n",
              "      <td>hacapo</td>\n",
              "      <td>=1 Overcrowding by rooms</td>\n",
              "    </tr>\n",
              "    <tr>\n",
              "      <th>4</th>\n",
              "      <td>v14a</td>\n",
              "      <td>=1 has toilet in the household</td>\n",
              "    </tr>\n",
              "    <tr>\n",
              "      <th>...</th>\n",
              "      <td>...</td>\n",
              "      <td>...</td>\n",
              "    </tr>\n",
              "    <tr>\n",
              "      <th>136</th>\n",
              "      <td>SQBhogar_nin</td>\n",
              "      <td>hogar_nin squared</td>\n",
              "    </tr>\n",
              "    <tr>\n",
              "      <th>137</th>\n",
              "      <td>SQBovercrowding</td>\n",
              "      <td>overcrowding squared</td>\n",
              "    </tr>\n",
              "    <tr>\n",
              "      <th>138</th>\n",
              "      <td>SQBdependency</td>\n",
              "      <td>dependency squared</td>\n",
              "    </tr>\n",
              "    <tr>\n",
              "      <th>139</th>\n",
              "      <td>SQBmeaned</td>\n",
              "      <td>meaned squared</td>\n",
              "    </tr>\n",
              "    <tr>\n",
              "      <th>140</th>\n",
              "      <td>agesq</td>\n",
              "      <td>Age squared</td>\n",
              "    </tr>\n",
              "  </tbody>\n",
              "</table>\n",
              "<p>141 rows × 2 columns</p>\n",
              "</div>\n",
              "      <button class=\"colab-df-convert\" onclick=\"convertToInteractive('df-d231bc0f-92f0-47d0-8ce0-685c4bd191c4')\"\n",
              "              title=\"Convert this dataframe to an interactive table.\"\n",
              "              style=\"display:none;\">\n",
              "        \n",
              "  <svg xmlns=\"http://www.w3.org/2000/svg\" height=\"24px\"viewBox=\"0 0 24 24\"\n",
              "       width=\"24px\">\n",
              "    <path d=\"M0 0h24v24H0V0z\" fill=\"none\"/>\n",
              "    <path d=\"M18.56 5.44l.94 2.06.94-2.06 2.06-.94-2.06-.94-.94-2.06-.94 2.06-2.06.94zm-11 1L8.5 8.5l.94-2.06 2.06-.94-2.06-.94L8.5 2.5l-.94 2.06-2.06.94zm10 10l.94 2.06.94-2.06 2.06-.94-2.06-.94-.94-2.06-.94 2.06-2.06.94z\"/><path d=\"M17.41 7.96l-1.37-1.37c-.4-.4-.92-.59-1.43-.59-.52 0-1.04.2-1.43.59L10.3 9.45l-7.72 7.72c-.78.78-.78 2.05 0 2.83L4 21.41c.39.39.9.59 1.41.59.51 0 1.02-.2 1.41-.59l7.78-7.78 2.81-2.81c.8-.78.8-2.07 0-2.86zM5.41 20L4 18.59l7.72-7.72 1.47 1.35L5.41 20z\"/>\n",
              "  </svg>\n",
              "      </button>\n",
              "      \n",
              "  <style>\n",
              "    .colab-df-container {\n",
              "      display:flex;\n",
              "      flex-wrap:wrap;\n",
              "      gap: 12px;\n",
              "    }\n",
              "\n",
              "    .colab-df-convert {\n",
              "      background-color: #E8F0FE;\n",
              "      border: none;\n",
              "      border-radius: 50%;\n",
              "      cursor: pointer;\n",
              "      display: none;\n",
              "      fill: #1967D2;\n",
              "      height: 32px;\n",
              "      padding: 0 0 0 0;\n",
              "      width: 32px;\n",
              "    }\n",
              "\n",
              "    .colab-df-convert:hover {\n",
              "      background-color: #E2EBFA;\n",
              "      box-shadow: 0px 1px 2px rgba(60, 64, 67, 0.3), 0px 1px 3px 1px rgba(60, 64, 67, 0.15);\n",
              "      fill: #174EA6;\n",
              "    }\n",
              "\n",
              "    [theme=dark] .colab-df-convert {\n",
              "      background-color: #3B4455;\n",
              "      fill: #D2E3FC;\n",
              "    }\n",
              "\n",
              "    [theme=dark] .colab-df-convert:hover {\n",
              "      background-color: #434B5C;\n",
              "      box-shadow: 0px 1px 3px 1px rgba(0, 0, 0, 0.15);\n",
              "      filter: drop-shadow(0px 1px 2px rgba(0, 0, 0, 0.3));\n",
              "      fill: #FFFFFF;\n",
              "    }\n",
              "  </style>\n",
              "\n",
              "      <script>\n",
              "        const buttonEl =\n",
              "          document.querySelector('#df-d231bc0f-92f0-47d0-8ce0-685c4bd191c4 button.colab-df-convert');\n",
              "        buttonEl.style.display =\n",
              "          google.colab.kernel.accessAllowed ? 'block' : 'none';\n",
              "\n",
              "        async function convertToInteractive(key) {\n",
              "          const element = document.querySelector('#df-d231bc0f-92f0-47d0-8ce0-685c4bd191c4');\n",
              "          const dataTable =\n",
              "            await google.colab.kernel.invokeFunction('convertToInteractive',\n",
              "                                                     [key], {});\n",
              "          if (!dataTable) return;\n",
              "\n",
              "          const docLinkHtml = 'Like what you see? Visit the ' +\n",
              "            '<a target=\"_blank\" href=https://colab.research.google.com/notebooks/data_table.ipynb>data table notebook</a>'\n",
              "            + ' to learn more about interactive tables.';\n",
              "          element.innerHTML = '';\n",
              "          dataTable['output_type'] = 'display_data';\n",
              "          await google.colab.output.renderOutput(dataTable, element);\n",
              "          const docLink = document.createElement('div');\n",
              "          docLink.innerHTML = docLinkHtml;\n",
              "          element.appendChild(docLink);\n",
              "        }\n",
              "      </script>\n",
              "    </div>\n",
              "  </div>\n",
              "  "
            ]
          },
          "metadata": {},
          "execution_count": 8
        }
      ]
    },
    {
      "cell_type": "markdown",
      "source": [
        "### 1-3. Check null data"
      ],
      "metadata": {
        "id": "q5uxtOINUS_D"
      }
    },
    {
      "cell_type": "code",
      "source": [
        "total = df_train.isnull().sum().sort_values(ascending=False)\n",
        "percent = 100 * (df_train.isnull().sum() / df_train.isnull().count()).sort_values(ascending=False)\n",
        "missing_df = pd.concat([total, percent], axis=1, keys=['Total', 'Percent'])\n",
        "\n",
        "missing_df.head(20)"
      ],
      "metadata": {
        "colab": {
          "base_uri": "https://localhost:8080/",
          "height": 676
        },
        "id": "JfL5w-3mUFF_",
        "outputId": "4b5d7ad5-27e2-4a5d-a79f-9936d415f50b"
      },
      "execution_count": 9,
      "outputs": [
        {
          "output_type": "execute_result",
          "data": {
            "text/plain": [
              "              Total    Percent\n",
              "rez_esc        7928  82.954902\n",
              "v18q1          7342  76.823271\n",
              "v2a1           6860  71.779847\n",
              "SQBmeaned         5   0.052318\n",
              "meaneduc          5   0.052318\n",
              "Id                0   0.000000\n",
              "hogar_adul        0   0.000000\n",
              "parentesco10      0   0.000000\n",
              "parentesco11      0   0.000000\n",
              "parentesco12      0   0.000000\n",
              "idhogar           0   0.000000\n",
              "hogar_nin         0   0.000000\n",
              "dependency        0   0.000000\n",
              "hogar_mayor       0   0.000000\n",
              "hogar_total       0   0.000000\n",
              "edjefe            0   0.000000\n",
              "edjefa            0   0.000000\n",
              "instlevel1        0   0.000000\n",
              "instlevel2        0   0.000000\n",
              "parentesco9       0   0.000000"
            ],
            "text/html": [
              "\n",
              "  <div id=\"df-1040b9a8-733d-4355-9daf-deaad98906d4\">\n",
              "    <div class=\"colab-df-container\">\n",
              "      <div>\n",
              "<style scoped>\n",
              "    .dataframe tbody tr th:only-of-type {\n",
              "        vertical-align: middle;\n",
              "    }\n",
              "\n",
              "    .dataframe tbody tr th {\n",
              "        vertical-align: top;\n",
              "    }\n",
              "\n",
              "    .dataframe thead th {\n",
              "        text-align: right;\n",
              "    }\n",
              "</style>\n",
              "<table border=\"1\" class=\"dataframe\">\n",
              "  <thead>\n",
              "    <tr style=\"text-align: right;\">\n",
              "      <th></th>\n",
              "      <th>Total</th>\n",
              "      <th>Percent</th>\n",
              "    </tr>\n",
              "  </thead>\n",
              "  <tbody>\n",
              "    <tr>\n",
              "      <th>rez_esc</th>\n",
              "      <td>7928</td>\n",
              "      <td>82.954902</td>\n",
              "    </tr>\n",
              "    <tr>\n",
              "      <th>v18q1</th>\n",
              "      <td>7342</td>\n",
              "      <td>76.823271</td>\n",
              "    </tr>\n",
              "    <tr>\n",
              "      <th>v2a1</th>\n",
              "      <td>6860</td>\n",
              "      <td>71.779847</td>\n",
              "    </tr>\n",
              "    <tr>\n",
              "      <th>SQBmeaned</th>\n",
              "      <td>5</td>\n",
              "      <td>0.052318</td>\n",
              "    </tr>\n",
              "    <tr>\n",
              "      <th>meaneduc</th>\n",
              "      <td>5</td>\n",
              "      <td>0.052318</td>\n",
              "    </tr>\n",
              "    <tr>\n",
              "      <th>Id</th>\n",
              "      <td>0</td>\n",
              "      <td>0.000000</td>\n",
              "    </tr>\n",
              "    <tr>\n",
              "      <th>hogar_adul</th>\n",
              "      <td>0</td>\n",
              "      <td>0.000000</td>\n",
              "    </tr>\n",
              "    <tr>\n",
              "      <th>parentesco10</th>\n",
              "      <td>0</td>\n",
              "      <td>0.000000</td>\n",
              "    </tr>\n",
              "    <tr>\n",
              "      <th>parentesco11</th>\n",
              "      <td>0</td>\n",
              "      <td>0.000000</td>\n",
              "    </tr>\n",
              "    <tr>\n",
              "      <th>parentesco12</th>\n",
              "      <td>0</td>\n",
              "      <td>0.000000</td>\n",
              "    </tr>\n",
              "    <tr>\n",
              "      <th>idhogar</th>\n",
              "      <td>0</td>\n",
              "      <td>0.000000</td>\n",
              "    </tr>\n",
              "    <tr>\n",
              "      <th>hogar_nin</th>\n",
              "      <td>0</td>\n",
              "      <td>0.000000</td>\n",
              "    </tr>\n",
              "    <tr>\n",
              "      <th>dependency</th>\n",
              "      <td>0</td>\n",
              "      <td>0.000000</td>\n",
              "    </tr>\n",
              "    <tr>\n",
              "      <th>hogar_mayor</th>\n",
              "      <td>0</td>\n",
              "      <td>0.000000</td>\n",
              "    </tr>\n",
              "    <tr>\n",
              "      <th>hogar_total</th>\n",
              "      <td>0</td>\n",
              "      <td>0.000000</td>\n",
              "    </tr>\n",
              "    <tr>\n",
              "      <th>edjefe</th>\n",
              "      <td>0</td>\n",
              "      <td>0.000000</td>\n",
              "    </tr>\n",
              "    <tr>\n",
              "      <th>edjefa</th>\n",
              "      <td>0</td>\n",
              "      <td>0.000000</td>\n",
              "    </tr>\n",
              "    <tr>\n",
              "      <th>instlevel1</th>\n",
              "      <td>0</td>\n",
              "      <td>0.000000</td>\n",
              "    </tr>\n",
              "    <tr>\n",
              "      <th>instlevel2</th>\n",
              "      <td>0</td>\n",
              "      <td>0.000000</td>\n",
              "    </tr>\n",
              "    <tr>\n",
              "      <th>parentesco9</th>\n",
              "      <td>0</td>\n",
              "      <td>0.000000</td>\n",
              "    </tr>\n",
              "  </tbody>\n",
              "</table>\n",
              "</div>\n",
              "      <button class=\"colab-df-convert\" onclick=\"convertToInteractive('df-1040b9a8-733d-4355-9daf-deaad98906d4')\"\n",
              "              title=\"Convert this dataframe to an interactive table.\"\n",
              "              style=\"display:none;\">\n",
              "        \n",
              "  <svg xmlns=\"http://www.w3.org/2000/svg\" height=\"24px\"viewBox=\"0 0 24 24\"\n",
              "       width=\"24px\">\n",
              "    <path d=\"M0 0h24v24H0V0z\" fill=\"none\"/>\n",
              "    <path d=\"M18.56 5.44l.94 2.06.94-2.06 2.06-.94-2.06-.94-.94-2.06-.94 2.06-2.06.94zm-11 1L8.5 8.5l.94-2.06 2.06-.94-2.06-.94L8.5 2.5l-.94 2.06-2.06.94zm10 10l.94 2.06.94-2.06 2.06-.94-2.06-.94-.94-2.06-.94 2.06-2.06.94z\"/><path d=\"M17.41 7.96l-1.37-1.37c-.4-.4-.92-.59-1.43-.59-.52 0-1.04.2-1.43.59L10.3 9.45l-7.72 7.72c-.78.78-.78 2.05 0 2.83L4 21.41c.39.39.9.59 1.41.59.51 0 1.02-.2 1.41-.59l7.78-7.78 2.81-2.81c.8-.78.8-2.07 0-2.86zM5.41 20L4 18.59l7.72-7.72 1.47 1.35L5.41 20z\"/>\n",
              "  </svg>\n",
              "      </button>\n",
              "      \n",
              "  <style>\n",
              "    .colab-df-container {\n",
              "      display:flex;\n",
              "      flex-wrap:wrap;\n",
              "      gap: 12px;\n",
              "    }\n",
              "\n",
              "    .colab-df-convert {\n",
              "      background-color: #E8F0FE;\n",
              "      border: none;\n",
              "      border-radius: 50%;\n",
              "      cursor: pointer;\n",
              "      display: none;\n",
              "      fill: #1967D2;\n",
              "      height: 32px;\n",
              "      padding: 0 0 0 0;\n",
              "      width: 32px;\n",
              "    }\n",
              "\n",
              "    .colab-df-convert:hover {\n",
              "      background-color: #E2EBFA;\n",
              "      box-shadow: 0px 1px 2px rgba(60, 64, 67, 0.3), 0px 1px 3px 1px rgba(60, 64, 67, 0.15);\n",
              "      fill: #174EA6;\n",
              "    }\n",
              "\n",
              "    [theme=dark] .colab-df-convert {\n",
              "      background-color: #3B4455;\n",
              "      fill: #D2E3FC;\n",
              "    }\n",
              "\n",
              "    [theme=dark] .colab-df-convert:hover {\n",
              "      background-color: #434B5C;\n",
              "      box-shadow: 0px 1px 3px 1px rgba(0, 0, 0, 0.15);\n",
              "      filter: drop-shadow(0px 1px 2px rgba(0, 0, 0, 0.3));\n",
              "      fill: #FFFFFF;\n",
              "    }\n",
              "  </style>\n",
              "\n",
              "      <script>\n",
              "        const buttonEl =\n",
              "          document.querySelector('#df-1040b9a8-733d-4355-9daf-deaad98906d4 button.colab-df-convert');\n",
              "        buttonEl.style.display =\n",
              "          google.colab.kernel.accessAllowed ? 'block' : 'none';\n",
              "\n",
              "        async function convertToInteractive(key) {\n",
              "          const element = document.querySelector('#df-1040b9a8-733d-4355-9daf-deaad98906d4');\n",
              "          const dataTable =\n",
              "            await google.colab.kernel.invokeFunction('convertToInteractive',\n",
              "                                                     [key], {});\n",
              "          if (!dataTable) return;\n",
              "\n",
              "          const docLinkHtml = 'Like what you see? Visit the ' +\n",
              "            '<a target=\"_blank\" href=https://colab.research.google.com/notebooks/data_table.ipynb>data table notebook</a>'\n",
              "            + ' to learn more about interactive tables.';\n",
              "          element.innerHTML = '';\n",
              "          dataTable['output_type'] = 'display_data';\n",
              "          await google.colab.output.renderOutput(dataTable, element);\n",
              "          const docLink = document.createElement('div');\n",
              "          docLink.innerHTML = docLinkHtml;\n",
              "          element.appendChild(docLink);\n",
              "        }\n",
              "      </script>\n",
              "    </div>\n",
              "  </div>\n",
              "  "
            ]
          },
          "metadata": {},
          "execution_count": 9
        }
      ]
    },
    {
      "cell_type": "markdown",
      "source": [
        "### 1-4. Fill missing values"
      ],
      "metadata": {
        "id": "OACY9dmVUW1O"
      }
    },
    {
      "cell_type": "code",
      "source": [
        "# if education is \"yes\" and person is head of household, fill with escolari\n",
        "df_train.loc[(df_train['edjefa'] == \"yes\") & (df_train['parentesco1'] == 1), \"edjefa\"] = df_train.loc[(df_train['edjefa'] == \"yes\") & (df_train['parentesco1'] == 1), \"escolari\"]\n",
        "df_train.loc[(df_train['edjefe'] == \"yes\") & (df_train['parentesco1'] == 1), \"edjefe\"] = df_train.loc[(df_train['edjefe'] == \"yes\") & (df_train['parentesco1'] == 1), \"escolari\"]\n",
        "\n",
        "df_test.loc[(df_test['edjefa'] == \"yes\") & (df_test['parentesco1'] == 1), \"edjefa\"] = df_test.loc[(df_test['edjefa'] == \"yes\") & (df_test['parentesco1'] == 1), \"escolari\"]\n",
        "df_test.loc[(df_test['edjefe'] == \"yes\") & (df_test['parentesco1'] == 1), \"edjefe\"] = df_test.loc[(df_test['edjefe'] == \"yes\") & (df_test['parentesco1'] == 1), \"escolari\"]\n",
        "\n",
        "# this field is supposed to be interaction between gender and escolari, but it isn't clear what \"yes\" means, let's fill it with 4\n",
        "df_train.loc[df_train['edjefa'] == \"yes\", \"edjefa\"] = 4\n",
        "df_train.loc[df_train['edjefe'] == \"yes\", \"edjefe\"] = 4\n",
        "\n",
        "df_test.loc[df_test['edjefa'] == \"yes\", \"edjefa\"] = 4\n",
        "df_test.loc[df_test['edjefe'] == \"yes\", \"edjefe\"] = 4\n",
        "\n",
        "# create feature with max education of either head of household\n",
        "df_train['edjef'] = np.max(df_train[['edjefa','edjefe']], axis=1)\n",
        "df_test['edjef'] = np.max(df_test[['edjefa','edjefe']], axis=1)\n",
        "\n",
        "# fix some inconsistencies in the data - some rows indicate both that the household does and does not have a toilet, \n",
        "# if there is no water we'll assume they do not\n",
        "df_train.loc[(df_train.v14a ==  1) & (df_train.sanitario1 ==  1) & (df_train.abastaguano == 0), \"v14a\"] = 0\n",
        "df_train.loc[(df_train.v14a ==  1) & (df_train.sanitario1 ==  1) & (df_train.abastaguano == 0), \"sanitario1\"] = 0\n",
        "\n",
        "df_test.loc[(df_test.v14a ==  1) & (df_test.sanitario1 ==  1) & (df_test.abastaguano == 0), \"v14a\"] = 0\n",
        "df_test.loc[(df_test.v14a ==  1) & (df_test.sanitario1 ==  1) & (df_test.abastaguano == 0), \"sanitario1\"] = 0"
      ],
      "metadata": {
        "id": "dDNpl6zDS0dK"
      },
      "execution_count": 10,
      "outputs": []
    },
    {
      "cell_type": "markdown",
      "source": [
        "**rez_esz, SQBmeaned**  \n",
        "* rez_esz : Years behind in school -> filled with 0  \n",
        "* SQBmeaned : square of the mean years of education of adults(>=18) in the household agesq, Age squared -> same with rez_esc -> filled with 0"
      ],
      "metadata": {
        "id": "pQhSNd9NUhcz"
      }
    },
    {
      "cell_type": "code",
      "source": [
        "df_train['rez_esc'].fillna(0, inplace=True)\n",
        "df_test['rez_esc'].fillna(0, inplace=True)"
      ],
      "metadata": {
        "id": "woqltAeQUEpx"
      },
      "execution_count": 11,
      "outputs": []
    },
    {
      "cell_type": "code",
      "source": [
        "df_train['SQBmeaned'].fillna(0, inplace=True)\n",
        "df_test['SQBmeaned'].fillna(0, inplace=True)"
      ],
      "metadata": {
        "id": "YkIXrpKRUEmW"
      },
      "execution_count": 12,
      "outputs": []
    },
    {
      "cell_type": "markdown",
      "source": [
        "**meaneduc**  \n",
        "* meaneduc : avg years of education for adults -> filled with 0"
      ],
      "metadata": {
        "id": "AYtlCFFaVAqC"
      }
    },
    {
      "cell_type": "code",
      "source": [
        "df_train['meaneduc'].fillna(0, inplace=True)\n",
        "df_test['meaneduc'].fillna(0, inplace=True)"
      ],
      "metadata": {
        "id": "M2f5D718UEjo"
      },
      "execution_count": 13,
      "outputs": []
    },
    {
      "cell_type": "markdown",
      "source": [
        "**v18q1**  \n",
        "* v18q1: number of tablets household owns -> if v18q(Do you own a tablet?) == 1, there are some values. If not, only NaN values in v18q1. See below 3 cells."
      ],
      "metadata": {
        "id": "7UtpyclDVKjN"
      }
    },
    {
      "cell_type": "code",
      "source": [
        "df_train['v18q'].value_counts()"
      ],
      "metadata": {
        "colab": {
          "base_uri": "https://localhost:8080/"
        },
        "id": "jUs4v2jxUEg8",
        "outputId": "8ac99b1c-b907-4f3c-fa2a-08478dea3fcb"
      },
      "execution_count": 14,
      "outputs": [
        {
          "output_type": "execute_result",
          "data": {
            "text/plain": [
              "0    7342\n",
              "1    2215\n",
              "Name: v18q, dtype: int64"
            ]
          },
          "metadata": {},
          "execution_count": 14
        }
      ]
    },
    {
      "cell_type": "markdown",
      "source": [
        "* v18q1: number of tablets household owns -> if v18q == 1, there are some values. If not, only NaN values there. See below two cells."
      ],
      "metadata": {
        "id": "MmDEDv0qVSsZ"
      }
    },
    {
      "cell_type": "code",
      "source": [
        "df_train.loc[df_train['v18q'] == 1, 'v18q1'].value_counts()"
      ],
      "metadata": {
        "colab": {
          "base_uri": "https://localhost:8080/"
        },
        "id": "ZePcvsGRUEdY",
        "outputId": "c01154de-50e1-43af-e358-47e93f598c61"
      },
      "execution_count": 15,
      "outputs": [
        {
          "output_type": "execute_result",
          "data": {
            "text/plain": [
              "1.0    1586\n",
              "2.0     444\n",
              "3.0     129\n",
              "4.0      37\n",
              "5.0      13\n",
              "6.0       6\n",
              "Name: v18q1, dtype: int64"
            ]
          },
          "metadata": {},
          "execution_count": 15
        }
      ]
    },
    {
      "cell_type": "code",
      "source": [
        "df_train.loc[df_train['v18q'] == 0, 'v18q1'].value_counts()"
      ],
      "metadata": {
        "colab": {
          "base_uri": "https://localhost:8080/"
        },
        "id": "AaIYvEBjUEaW",
        "outputId": "df17c61f-254d-4e0e-ca11-46a22e9de580"
      },
      "execution_count": 16,
      "outputs": [
        {
          "output_type": "execute_result",
          "data": {
            "text/plain": [
              "Series([], Name: v18q1, dtype: int64)"
            ]
          },
          "metadata": {},
          "execution_count": 16
        }
      ]
    },
    {
      "cell_type": "code",
      "source": [
        "df_train['v18q1'].fillna(0, inplace=True)\n",
        "df_test['v18q1'].fillna(0, inplace=True)"
      ],
      "metadata": {
        "id": "gCpGdZerVcK2"
      },
      "execution_count": 17,
      "outputs": []
    },
    {
      "cell_type": "markdown",
      "source": [
        "* v2a1: number of tablets household owns -> if tipovivi3(rented?) == 1, there are some values. If not, there are also some values.\n",
        "* NaN value could be replaced by 0."
      ],
      "metadata": {
        "id": "HAYFnGABVdnJ"
      }
    },
    {
      "cell_type": "code",
      "source": [
        "df_train['tipovivi3'].value_counts()"
      ],
      "metadata": {
        "colab": {
          "base_uri": "https://localhost:8080/"
        },
        "id": "meVfJip5VcGY",
        "outputId": "324a13e3-9ab9-4558-e91f-6675597572f2"
      },
      "execution_count": 18,
      "outputs": [
        {
          "output_type": "execute_result",
          "data": {
            "text/plain": [
              "0    7821\n",
              "1    1736\n",
              "Name: tipovivi3, dtype: int64"
            ]
          },
          "metadata": {},
          "execution_count": 18
        }
      ]
    },
    {
      "cell_type": "code",
      "source": [
        "sns.kdeplot(df_train.loc[df_train['tipovivi3'] == 1, 'v2a1'], label='Monthly rent payment of household(rented=1)')\n",
        "sns.kdeplot(df_train.loc[df_train['tipovivi3'] == 0, 'v2a1'], label='Monthly rent payment of household(rented=0)')\n",
        "plt.xscale('log')\n",
        "plt.show()"
      ],
      "metadata": {
        "colab": {
          "base_uri": "https://localhost:8080/",
          "height": 294
        },
        "id": "YV4fsIRiVb_1",
        "outputId": "7478645e-b7a3-4cce-d02b-9035d768ec3b"
      },
      "execution_count": 19,
      "outputs": [
        {
          "output_type": "display_data",
          "data": {
            "text/plain": [
              "<Figure size 432x288 with 1 Axes>"
            ],
            "image/png": "[encoded data removed]"
          },
          "metadata": {
            "needs_background": "light"
          }
        }
      ]
    },
    {
      "cell_type": "code",
      "source": [
        "df_train['v2a1'].fillna(0, inplace=True)\n",
        "df_test['v2a1'].fillna(0, inplace=True)"
      ],
      "metadata": {
        "id": "NnXGs7xQVb9a"
      },
      "execution_count": 20,
      "outputs": []
    },
    {
      "cell_type": "code",
      "source": [
        "total = df_train.isnull().sum().sort_values(ascending=False)\n",
        "percent = 100 * (df_train.isnull().sum() / df_train.isnull().count()).sort_values(ascending=False)\n",
        "missing_df = pd.concat([total, percent], axis=1, keys=['Total', 'Percent'])\n",
        "\n",
        "missing_df.head(20)"
      ],
      "metadata": {
        "colab": {
          "base_uri": "https://localhost:8080/",
          "height": 676
        },
        "id": "uiBry2NUVb6q",
        "outputId": "9d416cc5-199f-445b-9bf8-2fdf57ca22f9"
      },
      "execution_count": 21,
      "outputs": [
        {
          "output_type": "execute_result",
          "data": {
            "text/plain": [
              "              Total  Percent\n",
              "edjef          9557    100.0\n",
              "v2a1              0      0.0\n",
              "parentesco10      0      0.0\n",
              "parentesco11      0      0.0\n",
              "parentesco12      0      0.0\n",
              "idhogar           0      0.0\n",
              "hogar_nin         0      0.0\n",
              "hogar_adul        0      0.0\n",
              "hogar_mayor       0      0.0\n",
              "hogar_total       0      0.0\n",
              "dependency        0      0.0\n",
              "edjefe            0      0.0\n",
              "edjefa            0      0.0\n",
              "meaneduc          0      0.0\n",
              "instlevel1        0      0.0\n",
              "instlevel2        0      0.0\n",
              "instlevel3        0      0.0\n",
              "parentesco9       0      0.0\n",
              "parentesco8       0      0.0\n",
              "parentesco7       0      0.0"
            ],
            "text/html": [
              "\n",
              "  <div id=\"df-a1750912-c58c-46b1-beff-85bf802ff967\">\n",
              "    <div class=\"colab-df-container\">\n",
              "      <div>\n",
              "<style scoped>\n",
              "    .dataframe tbody tr th:only-of-type {\n",
              "        vertical-align: middle;\n",
              "    }\n",
              "\n",
              "    .dataframe tbody tr th {\n",
              "        vertical-align: top;\n",
              "    }\n",
              "\n",
              "    .dataframe thead th {\n",
              "        text-align: right;\n",
              "    }\n",
              "</style>\n",
              "<table border=\"1\" class=\"dataframe\">\n",
              "  <thead>\n",
              "    <tr style=\"text-align: right;\">\n",
              "      <th></th>\n",
              "      <th>Total</th>\n",
              "      <th>Percent</th>\n",
              "    </tr>\n",
              "  </thead>\n",
              "  <tbody>\n",
              "    <tr>\n",
              "      <th>edjef</th>\n",
              "      <td>9557</td>\n",
              "      <td>100.0</td>\n",
              "    </tr>\n",
              "    <tr>\n",
              "      <th>v2a1</th>\n",
              "      <td>0</td>\n",
              "      <td>0.0</td>\n",
              "    </tr>\n",
              "    <tr>\n",
              "      <th>parentesco10</th>\n",
              "      <td>0</td>\n",
              "      <td>0.0</td>\n",
              "    </tr>\n",
              "    <tr>\n",
              "      <th>parentesco11</th>\n",
              "      <td>0</td>\n",
              "      <td>0.0</td>\n",
              "    </tr>\n",
              "    <tr>\n",
              "      <th>parentesco12</th>\n",
              "      <td>0</td>\n",
              "      <td>0.0</td>\n",
              "    </tr>\n",
              "    <tr>\n",
              "      <th>idhogar</th>\n",
              "      <td>0</td>\n",
              "      <td>0.0</td>\n",
              "    </tr>\n",
              "    <tr>\n",
              "      <th>hogar_nin</th>\n",
              "      <td>0</td>\n",
              "      <td>0.0</td>\n",
              "    </tr>\n",
              "    <tr>\n",
              "      <th>hogar_adul</th>\n",
              "      <td>0</td>\n",
              "      <td>0.0</td>\n",
              "    </tr>\n",
              "    <tr>\n",
              "      <th>hogar_mayor</th>\n",
              "      <td>0</td>\n",
              "      <td>0.0</td>\n",
              "    </tr>\n",
              "    <tr>\n",
              "      <th>hogar_total</th>\n",
              "      <td>0</td>\n",
              "      <td>0.0</td>\n",
              "    </tr>\n",
              "    <tr>\n",
              "      <th>dependency</th>\n",
              "      <td>0</td>\n",
              "      <td>0.0</td>\n",
              "    </tr>\n",
              "    <tr>\n",
              "      <th>edjefe</th>\n",
              "      <td>0</td>\n",
              "      <td>0.0</td>\n",
              "    </tr>\n",
              "    <tr>\n",
              "      <th>edjefa</th>\n",
              "      <td>0</td>\n",
              "      <td>0.0</td>\n",
              "    </tr>\n",
              "    <tr>\n",
              "      <th>meaneduc</th>\n",
              "      <td>0</td>\n",
              "      <td>0.0</td>\n",
              "    </tr>\n",
              "    <tr>\n",
              "      <th>instlevel1</th>\n",
              "      <td>0</td>\n",
              "      <td>0.0</td>\n",
              "    </tr>\n",
              "    <tr>\n",
              "      <th>instlevel2</th>\n",
              "      <td>0</td>\n",
              "      <td>0.0</td>\n",
              "    </tr>\n",
              "    <tr>\n",
              "      <th>instlevel3</th>\n",
              "      <td>0</td>\n",
              "      <td>0.0</td>\n",
              "    </tr>\n",
              "    <tr>\n",
              "      <th>parentesco9</th>\n",
              "      <td>0</td>\n",
              "      <td>0.0</td>\n",
              "    </tr>\n",
              "    <tr>\n",
              "      <th>parentesco8</th>\n",
              "      <td>0</td>\n",
              "      <td>0.0</td>\n",
              "    </tr>\n",
              "    <tr>\n",
              "      <th>parentesco7</th>\n",
              "      <td>0</td>\n",
              "      <td>0.0</td>\n",
              "    </tr>\n",
              "  </tbody>\n",
              "</table>\n",
              "</div>\n",
              "      <button class=\"colab-df-convert\" onclick=\"convertToInteractive('df-a1750912-c58c-46b1-beff-85bf802ff967')\"\n",
              "              title=\"Convert this dataframe to an interactive table.\"\n",
              "              style=\"display:none;\">\n",
              "        \n",
              "  <svg xmlns=\"http://www.w3.org/2000/svg\" height=\"24px\"viewBox=\"0 0 24 24\"\n",
              "       width=\"24px\">\n",
              "    <path d=\"M0 0h24v24H0V0z\" fill=\"none\"/>\n",
              "    <path d=\"M18.56 5.44l.94 2.06.94-2.06 2.06-.94-2.06-.94-.94-2.06-.94 2.06-2.06.94zm-11 1L8.5 8.5l.94-2.06 2.06-.94-2.06-.94L8.5 2.5l-.94 2.06-2.06.94zm10 10l.94 2.06.94-2.06 2.06-.94-2.06-.94-.94-2.06-.94 2.06-2.06.94z\"/><path d=\"M17.41 7.96l-1.37-1.37c-.4-.4-.92-.59-1.43-.59-.52 0-1.04.2-1.43.59L10.3 9.45l-7.72 7.72c-.78.78-.78 2.05 0 2.83L4 21.41c.39.39.9.59 1.41.59.51 0 1.02-.2 1.41-.59l7.78-7.78 2.81-2.81c.8-.78.8-2.07 0-2.86zM5.41 20L4 18.59l7.72-7.72 1.47 1.35L5.41 20z\"/>\n",
              "  </svg>\n",
              "      </button>\n",
              "      \n",
              "  <style>\n",
              "    .colab-df-container {\n",
              "      display:flex;\n",
              "      flex-wrap:wrap;\n",
              "      gap: 12px;\n",
              "    }\n",
              "\n",
              "    .colab-df-convert {\n",
              "      background-color: #E8F0FE;\n",
              "      border: none;\n",
              "      border-radius: 50%;\n",
              "      cursor: pointer;\n",
              "      display: none;\n",
              "      fill: #1967D2;\n",
              "      height: 32px;\n",
              "      padding: 0 0 0 0;\n",
              "      width: 32px;\n",
              "    }\n",
              "\n",
              "    .colab-df-convert:hover {\n",
              "      background-color: #E2EBFA;\n",
              "      box-shadow: 0px 1px 2px rgba(60, 64, 67, 0.3), 0px 1px 3px 1px rgba(60, 64, 67, 0.15);\n",
              "      fill: #174EA6;\n",
              "    }\n",
              "\n",
              "    [theme=dark] .colab-df-convert {\n",
              "      background-color: #3B4455;\n",
              "      fill: #D2E3FC;\n",
              "    }\n",
              "\n",
              "    [theme=dark] .colab-df-convert:hover {\n",
              "      background-color: #434B5C;\n",
              "      box-shadow: 0px 1px 3px 1px rgba(0, 0, 0, 0.15);\n",
              "      filter: drop-shadow(0px 1px 2px rgba(0, 0, 0, 0.3));\n",
              "      fill: #FFFFFF;\n",
              "    }\n",
              "  </style>\n",
              "\n",
              "      <script>\n",
              "        const buttonEl =\n",
              "          document.querySelector('#df-a1750912-c58c-46b1-beff-85bf802ff967 button.colab-df-convert');\n",
              "        buttonEl.style.display =\n",
              "          google.colab.kernel.accessAllowed ? 'block' : 'none';\n",
              "\n",
              "        async function convertToInteractive(key) {\n",
              "          const element = document.querySelector('#df-a1750912-c58c-46b1-beff-85bf802ff967');\n",
              "          const dataTable =\n",
              "            await google.colab.kernel.invokeFunction('convertToInteractive',\n",
              "                                                     [key], {});\n",
              "          if (!dataTable) return;\n",
              "\n",
              "          const docLinkHtml = 'Like what you see? Visit the ' +\n",
              "            '<a target=\"_blank\" href=https://colab.research.google.com/notebooks/data_table.ipynb>data table notebook</a>'\n",
              "            + ' to learn more about interactive tables.';\n",
              "          element.innerHTML = '';\n",
              "          dataTable['output_type'] = 'display_data';\n",
              "          await google.colab.output.renderOutput(dataTable, element);\n",
              "          const docLink = document.createElement('div');\n",
              "          docLink.innerHTML = docLinkHtml;\n",
              "          element.appendChild(docLink);\n",
              "        }\n",
              "      </script>\n",
              "    </div>\n",
              "  </div>\n",
              "  "
            ]
          },
          "metadata": {},
          "execution_count": 21
        }
      ]
    },
    {
      "cell_type": "code",
      "source": [
        "total = df_test.isnull().sum().sort_values(ascending=False)\n",
        "percent = 100 * (df_test.isnull().sum() / df_test.isnull().count()).sort_values(ascending=False)\n",
        "missing_df = pd.concat([total, percent], axis=1, keys=['Total', 'Percent'])\n",
        "\n",
        "missing_df.head(20)"
      ],
      "metadata": {
        "colab": {
          "base_uri": "https://localhost:8080/",
          "height": 676
        },
        "id": "X-pumLdWVb34",
        "outputId": "d0f6fbf9-2fd1-4c44-b6d9-938026dae4e7"
      },
      "execution_count": 22,
      "outputs": [
        {
          "output_type": "execute_result",
          "data": {
            "text/plain": [
              "              Total  Percent\n",
              "edjef         23856    100.0\n",
              "hogar_mayor       0      0.0\n",
              "parentesco10      0      0.0\n",
              "parentesco11      0      0.0\n",
              "parentesco12      0      0.0\n",
              "idhogar           0      0.0\n",
              "hogar_nin         0      0.0\n",
              "hogar_adul        0      0.0\n",
              "hogar_total       0      0.0\n",
              "parentesco8       0      0.0\n",
              "dependency        0      0.0\n",
              "edjefe            0      0.0\n",
              "edjefa            0      0.0\n",
              "meaneduc          0      0.0\n",
              "instlevel1        0      0.0\n",
              "instlevel2        0      0.0\n",
              "parentesco9       0      0.0\n",
              "parentesco7       0      0.0\n",
              "instlevel4        0      0.0\n",
              "estadocivil5      0      0.0"
            ],
            "text/html": [
              "\n",
              "  <div id=\"df-8b6643d2-0632-4ae1-9df1-d7caf8200a70\">\n",
              "    <div class=\"colab-df-container\">\n",
              "      <div>\n",
              "<style scoped>\n",
              "    .dataframe tbody tr th:only-of-type {\n",
              "        vertical-align: middle;\n",
              "    }\n",
              "\n",
              "    .dataframe tbody tr th {\n",
              "        vertical-align: top;\n",
              "    }\n",
              "\n",
              "    .dataframe thead th {\n",
              "        text-align: right;\n",
              "    }\n",
              "</style>\n",
              "<table border=\"1\" class=\"dataframe\">\n",
              "  <thead>\n",
              "    <tr style=\"text-align: right;\">\n",
              "      <th></th>\n",
              "      <th>Total</th>\n",
              "      <th>Percent</th>\n",
              "    </tr>\n",
              "  </thead>\n",
              "  <tbody>\n",
              "    <tr>\n",
              "      <th>edjef</th>\n",
              "      <td>23856</td>\n",
              "      <td>100.0</td>\n",
              "    </tr>\n",
              "    <tr>\n",
              "      <th>hogar_mayor</th>\n",
              "      <td>0</td>\n",
              "      <td>0.0</td>\n",
              "    </tr>\n",
              "    <tr>\n",
              "      <th>parentesco10</th>\n",
              "      <td>0</td>\n",
              "      <td>0.0</td>\n",
              "    </tr>\n",
              "    <tr>\n",
              "      <th>parentesco11</th>\n",
              "      <td>0</td>\n",
              "      <td>0.0</td>\n",
              "    </tr>\n",
              "    <tr>\n",
              "      <th>parentesco12</th>\n",
              "      <td>0</td>\n",
              "      <td>0.0</td>\n",
              "    </tr>\n",
              "    <tr>\n",
              "      <th>idhogar</th>\n",
              "      <td>0</td>\n",
              "      <td>0.0</td>\n",
              "    </tr>\n",
              "    <tr>\n",
              "      <th>hogar_nin</th>\n",
              "      <td>0</td>\n",
              "      <td>0.0</td>\n",
              "    </tr>\n",
              "    <tr>\n",
              "      <th>hogar_adul</th>\n",
              "      <td>0</td>\n",
              "      <td>0.0</td>\n",
              "    </tr>\n",
              "    <tr>\n",
              "      <th>hogar_total</th>\n",
              "      <td>0</td>\n",
              "      <td>0.0</td>\n",
              "    </tr>\n",
              "    <tr>\n",
              "      <th>parentesco8</th>\n",
              "      <td>0</td>\n",
              "      <td>0.0</td>\n",
              "    </tr>\n",
              "    <tr>\n",
              "      <th>dependency</th>\n",
              "      <td>0</td>\n",
              "      <td>0.0</td>\n",
              "    </tr>\n",
              "    <tr>\n",
              "      <th>edjefe</th>\n",
              "      <td>0</td>\n",
              "      <td>0.0</td>\n",
              "    </tr>\n",
              "    <tr>\n",
              "      <th>edjefa</th>\n",
              "      <td>0</td>\n",
              "      <td>0.0</td>\n",
              "    </tr>\n",
              "    <tr>\n",
              "      <th>meaneduc</th>\n",
              "      <td>0</td>\n",
              "      <td>0.0</td>\n",
              "    </tr>\n",
              "    <tr>\n",
              "      <th>instlevel1</th>\n",
              "      <td>0</td>\n",
              "      <td>0.0</td>\n",
              "    </tr>\n",
              "    <tr>\n",
              "      <th>instlevel2</th>\n",
              "      <td>0</td>\n",
              "      <td>0.0</td>\n",
              "    </tr>\n",
              "    <tr>\n",
              "      <th>parentesco9</th>\n",
              "      <td>0</td>\n",
              "      <td>0.0</td>\n",
              "    </tr>\n",
              "    <tr>\n",
              "      <th>parentesco7</th>\n",
              "      <td>0</td>\n",
              "      <td>0.0</td>\n",
              "    </tr>\n",
              "    <tr>\n",
              "      <th>instlevel4</th>\n",
              "      <td>0</td>\n",
              "      <td>0.0</td>\n",
              "    </tr>\n",
              "    <tr>\n",
              "      <th>estadocivil5</th>\n",
              "      <td>0</td>\n",
              "      <td>0.0</td>\n",
              "    </tr>\n",
              "  </tbody>\n",
              "</table>\n",
              "</div>\n",
              "      <button class=\"colab-df-convert\" onclick=\"convertToInteractive('df-8b6643d2-0632-4ae1-9df1-d7caf8200a70')\"\n",
              "              title=\"Convert this dataframe to an interactive table.\"\n",
              "              style=\"display:none;\">\n",
              "        \n",
              "  <svg xmlns=\"http://www.w3.org/2000/svg\" height=\"24px\"viewBox=\"0 0 24 24\"\n",
              "       width=\"24px\">\n",
              "    <path d=\"M0 0h24v24H0V0z\" fill=\"none\"/>\n",
              "    <path d=\"M18.56 5.44l.94 2.06.94-2.06 2.06-.94-2.06-.94-.94-2.06-.94 2.06-2.06.94zm-11 1L8.5 8.5l.94-2.06 2.06-.94-2.06-.94L8.5 2.5l-.94 2.06-2.06.94zm10 10l.94 2.06.94-2.06 2.06-.94-2.06-.94-.94-2.06-.94 2.06-2.06.94z\"/><path d=\"M17.41 7.96l-1.37-1.37c-.4-.4-.92-.59-1.43-.59-.52 0-1.04.2-1.43.59L10.3 9.45l-7.72 7.72c-.78.78-.78 2.05 0 2.83L4 21.41c.39.39.9.59 1.41.59.51 0 1.02-.2 1.41-.59l7.78-7.78 2.81-2.81c.8-.78.8-2.07 0-2.86zM5.41 20L4 18.59l7.72-7.72 1.47 1.35L5.41 20z\"/>\n",
              "  </svg>\n",
              "      </button>\n",
              "      \n",
              "  <style>\n",
              "    .colab-df-container {\n",
              "      display:flex;\n",
              "      flex-wrap:wrap;\n",
              "      gap: 12px;\n",
              "    }\n",
              "\n",
              "    .colab-df-convert {\n",
              "      background-color: #E8F0FE;\n",
              "      border: none;\n",
              "      border-radius: 50%;\n",
              "      cursor: pointer;\n",
              "      display: none;\n",
              "      fill: #1967D2;\n",
              "      height: 32px;\n",
              "      padding: 0 0 0 0;\n",
              "      width: 32px;\n",
              "    }\n",
              "\n",
              "    .colab-df-convert:hover {\n",
              "      background-color: #E2EBFA;\n",
              "      box-shadow: 0px 1px 2px rgba(60, 64, 67, 0.3), 0px 1px 3px 1px rgba(60, 64, 67, 0.15);\n",
              "      fill: #174EA6;\n",
              "    }\n",
              "\n",
              "    [theme=dark] .colab-df-convert {\n",
              "      background-color: #3B4455;\n",
              "      fill: #D2E3FC;\n",
              "    }\n",
              "\n",
              "    [theme=dark] .colab-df-convert:hover {\n",
              "      background-color: #434B5C;\n",
              "      box-shadow: 0px 1px 3px 1px rgba(0, 0, 0, 0.15);\n",
              "      filter: drop-shadow(0px 1px 2px rgba(0, 0, 0, 0.3));\n",
              "      fill: #FFFFFF;\n",
              "    }\n",
              "  </style>\n",
              "\n",
              "      <script>\n",
              "        const buttonEl =\n",
              "          document.querySelector('#df-8b6643d2-0632-4ae1-9df1-d7caf8200a70 button.colab-df-convert');\n",
              "        buttonEl.style.display =\n",
              "          google.colab.kernel.accessAllowed ? 'block' : 'none';\n",
              "\n",
              "        async function convertToInteractive(key) {\n",
              "          const element = document.querySelector('#df-8b6643d2-0632-4ae1-9df1-d7caf8200a70');\n",
              "          const dataTable =\n",
              "            await google.colab.kernel.invokeFunction('convertToInteractive',\n",
              "                                                     [key], {});\n",
              "          if (!dataTable) return;\n",
              "\n",
              "          const docLinkHtml = 'Like what you see? Visit the ' +\n",
              "            '<a target=\"_blank\" href=https://colab.research.google.com/notebooks/data_table.ipynb>data table notebook</a>'\n",
              "            + ' to learn more about interactive tables.';\n",
              "          element.innerHTML = '';\n",
              "          dataTable['output_type'] = 'display_data';\n",
              "          await google.colab.output.renderOutput(dataTable, element);\n",
              "          const docLink = document.createElement('div');\n",
              "          docLink.innerHTML = docLinkHtml;\n",
              "          element.appendChild(docLink);\n",
              "        }\n",
              "      </script>\n",
              "    </div>\n",
              "  </div>\n",
              "  "
            ]
          },
          "metadata": {},
          "execution_count": 22
        }
      ]
    },
    {
      "cell_type": "markdown",
      "source": [
        "## 2.Feature Engineering"
      ],
      "metadata": {
        "id": "sOzrpd7QVtXF"
      }
    },
    {
      "cell_type": "markdown",
      "source": [
        "### 2-1. Object features"
      ],
      "metadata": {
        "id": "IoN54n7QVvo3"
      }
    },
    {
      "cell_type": "code",
      "source": [
        "features_object = [col for col in df_train.columns if df_train[col].dtype == 'object']"
      ],
      "metadata": {
        "id": "k3A-SV1qVzYN"
      },
      "execution_count": 23,
      "outputs": []
    },
    {
      "cell_type": "code",
      "source": [
        "features_object"
      ],
      "metadata": {
        "colab": {
          "base_uri": "https://localhost:8080/"
        },
        "id": "hdEt-6yUVzMv",
        "outputId": "f8ec671e-52a3-4086-9190-be38c6d5a55a"
      },
      "execution_count": 24,
      "outputs": [
        {
          "output_type": "execute_result",
          "data": {
            "text/plain": [
              "['Id', 'idhogar', 'dependency', 'edjefe', 'edjefa']"
            ]
          },
          "metadata": {},
          "execution_count": 24
        }
      ]
    },
    {
      "cell_type": "markdown",
      "source": [
        "dependency"
      ],
      "metadata": {
        "id": "4D25wegvV2mk"
      }
    },
    {
      "cell_type": "code",
      "source": [
        "# some dependencies are Na, fill those with the square root of the square\n",
        "df_train['dependency'] = np.sqrt(df_train['SQBdependency'])\n",
        "df_test['dependency'] = np.sqrt(df_test['SQBdependency'])"
      ],
      "metadata": {
        "id": "R9exnIKdVzHH"
      },
      "execution_count": 25,
      "outputs": []
    },
    {
      "cell_type": "markdown",
      "source": [
        "**edjefe**  \n",
        "* edjefe, years of education of male head of household, based on the interaction of escolari (years of education), head of household and gender, yes=1 and no=0\n",
        "* replace yes -> 1 and no -> 0"
      ],
      "metadata": {
        "id": "bw7dw9QUWE3X"
      }
    },
    {
      "cell_type": "code",
      "source": [
        "def replace_edjefe(x):\n",
        "    if x == 'yes':\n",
        "        return 1\n",
        "    elif x == 'no':\n",
        "        return 0\n",
        "    else:\n",
        "        return x\n",
        "\n",
        "df_train['edjefe'] = df_train['edjefe'].apply(replace_edjefe).astype(float)\n",
        "df_test['edjefe'] = df_test['edjefe'].apply(replace_edjefe).astype(float)"
      ],
      "metadata": {
        "id": "ERbxhi3OVzB1"
      },
      "execution_count": 26,
      "outputs": []
    },
    {
      "cell_type": "markdown",
      "source": [
        "**edjefa**  \n",
        "* edjefa, years of education of female head of household, based on the interaction of escolari (years of education), head of household and gender, yes=1 and no=0\n",
        "* replace yes -> 1 and no -> 0"
      ],
      "metadata": {
        "id": "qgDTjtikWL2U"
      }
    },
    {
      "cell_type": "code",
      "source": [
        "def replace_edjefa(x):\n",
        "    if x == 'yes':\n",
        "        return 1\n",
        "    elif x == 'no':\n",
        "        return 0\n",
        "    else:\n",
        "        return x\n",
        "\n",
        "df_train['edjefa'] = df_train['edjefa'].apply(replace_edjefa).astype(float)\n",
        "df_test['edjefa'] = df_test['edjefa'].apply(replace_edjefa).astype(float)"
      ],
      "metadata": {
        "id": "OpcFXD7XVy9-"
      },
      "execution_count": 27,
      "outputs": []
    },
    {
      "cell_type": "code",
      "source": [
        "# create feature with max education of either head of household\n",
        "df_train['edjef'] = np.max(df_train[['edjefa','edjefe']], axis=1)\n",
        "df_test['edjef'] = np.max(df_test[['edjefa','edjefe']], axis=1)"
      ],
      "metadata": {
        "id": "hhke7Hc1Vb09"
      },
      "execution_count": 28,
      "outputs": []
    },
    {
      "cell_type": "markdown",
      "source": [
        "**roof and electricity**"
      ],
      "metadata": {
        "id": "qx6-HCgnWY5-"
      }
    },
    {
      "cell_type": "code",
      "source": [
        "df_train['roof_waste_material'] = np.nan\n",
        "df_test['roof_waste_material'] = np.nan\n",
        "df_train['electricity_other'] = np.nan\n",
        "df_test['electricity_other'] = np.nan\n",
        "\n",
        "def fill_roof_exception(x):\n",
        "    if (x['techozinc'] == 0) and (x['techoentrepiso'] == 0) and (x['techocane'] == 0) and (x['techootro'] == 0):\n",
        "        return 1\n",
        "    else:\n",
        "        return 0\n",
        "    \n",
        "def fill_no_electricity(x):\n",
        "    if (x['public'] == 0) and (x['planpri'] == 0) and (x['noelec'] == 0) and (x['coopele'] == 0):\n",
        "        return 1\n",
        "    else:\n",
        "        return 0\n",
        "\n",
        "df_train['roof_waste_material'] = df_train.apply(lambda x : fill_roof_exception(x),axis=1)\n",
        "df_test['roof_waste_material'] = df_test.apply(lambda x : fill_roof_exception(x),axis=1)\n",
        "df_train['electricity_other'] = df_train.apply(lambda x : fill_no_electricity(x),axis=1)\n",
        "df_test['electricity_other'] = df_test.apply(lambda x : fill_no_electricity(x),axis=1)"
      ],
      "metadata": {
        "id": "uFKdD02BWbRY"
      },
      "execution_count": 29,
      "outputs": []
    },
    {
      "cell_type": "markdown",
      "source": [
        "### 2-2.Extract cat features"
      ],
      "metadata": {
        "id": "yjdra8Y8WiQ0"
      }
    },
    {
      "cell_type": "code",
      "source": [
        "binary_cat_features = [col for col in df_train.columns if df_train[col].value_counts().shape[0] == 2]"
      ],
      "metadata": {
        "id": "Yo_XxBcZWho5"
      },
      "execution_count": 30,
      "outputs": []
    },
    {
      "cell_type": "markdown",
      "source": [
        "### 2-3.Make new features using continuous feature"
      ],
      "metadata": {
        "id": "4RYcpS17WqiA"
      }
    },
    {
      "cell_type": "code",
      "source": [
        "continuous_features = [col for col in df_train.columns if col not in binary_cat_features]\n",
        "continuous_features = [col for col in continuous_features if col not in features_object]\n",
        "continuous_features = [col for col in continuous_features if col not in ['Id', 'Target', 'idhogar']]"
      ],
      "metadata": {
        "id": "S7dEwG2OWnBU"
      },
      "execution_count": 31,
      "outputs": []
    },
    {
      "cell_type": "code",
      "source": [
        "print('There are {} continuous features'.format(len(continuous_features)))\n",
        "for col in continuous_features:\n",
        "    print('{}: {}'.format(col, description.loc[description['varname'] == col, 'description'].values))"
      ],
      "metadata": {
        "colab": {
          "base_uri": "https://localhost:8080/"
        },
        "id": "gcUUrSj1Wm-J",
        "outputId": "5717a1f8-4fd9-4724-c9e7-60abb74dec62"
      },
      "execution_count": 32,
      "outputs": [
        {
          "output_type": "stream",
          "name": "stdout",
          "text": [
            "There are 37 continuous features\n",
            "v2a1: [' Monthly rent payment']\n",
            "rooms: ['  number of all rooms in the house']\n",
            "v18q1: [' number of tablets household owns']\n",
            "r4h1: [' Males younger than 12 years of age']\n",
            "r4h2: [' Males 12 years of age and older']\n",
            "r4h3: [' Total males in the household']\n",
            "r4m1: [' Females younger than 12 years of age']\n",
            "r4m2: [' Females 12 years of age and older']\n",
            "r4m3: [' Total females in the household']\n",
            "r4t1: [' persons younger than 12 years of age']\n",
            "r4t2: [' persons 12 years of age and older']\n",
            "r4t3: [' Total persons in the household']\n",
            "tamhog: [' size of the household']\n",
            "tamviv: [' number of persons living in the household']\n",
            "escolari: [' years of schooling']\n",
            "rez_esc: [' Years behind in school']\n",
            "hhsize: [' household size']\n",
            "elimbasu5: [' =1 if rubbish disposal mainly by throwing in river,   creek or sea']\n",
            "hogar_nin: [' Number of children 0 to 19 in household']\n",
            "hogar_adul: [' Number of adults in household']\n",
            "hogar_mayor: [' # of individuals 65+ in the household']\n",
            "hogar_total: [' # of total individuals in the household']\n",
            "meaneduc: ['average years of education for adults (18+)']\n",
            "bedrooms: [' number of bedrooms']\n",
            "overcrowding: [' # persons per room']\n",
            "qmobilephone: [' # of mobile phones']\n",
            "age: [' Age in years']\n",
            "SQBescolari: [' escolari squared']\n",
            "SQBage: [' age squared']\n",
            "SQBhogar_total: [' hogar_total squared']\n",
            "SQBedjefe: [' edjefe squared']\n",
            "SQBhogar_nin: [' hogar_nin squared']\n",
            "SQBovercrowding: [' overcrowding squared']\n",
            "SQBdependency: [' dependency squared']\n",
            "SQBmeaned: [' meaned squared']\n",
            "agesq: [' Age squared']\n",
            "edjef: []\n"
          ]
        }
      ]
    },
    {
      "cell_type": "markdown",
      "source": [
        "* hhsize : household size\n",
        "* tamhog : size of the household\n",
        "What is different?\n",
        "  \n",
        "\n",
        "\n",
        "* As you can see, the meaning of two features are same but the exact number are different. Are they different?\n",
        "* I don't know. For now, I decided to drop one feature 'tamhog'."
      ],
      "metadata": {
        "id": "cqN2fm8kXV5I"
      }
    },
    {
      "cell_type": "code",
      "source": [
        "df_train['edjef'].value_counts()"
      ],
      "metadata": {
        "colab": {
          "base_uri": "https://localhost:8080/"
        },
        "id": "RfPTlaC5Wm64",
        "outputId": "5d2034d2-81fb-4a26-81f4-2f8945d5c62d"
      },
      "execution_count": 33,
      "outputs": [
        {
          "output_type": "execute_result",
          "data": {
            "text/plain": [
              "6.0     2792\n",
              "11.0    1150\n",
              "9.0      723\n",
              "8.0      474\n",
              "15.0     473\n",
              "3.0      459\n",
              "0.0      435\n",
              "7.0      413\n",
              "4.0      400\n",
              "5.0      398\n",
              "14.0     328\n",
              "17.0     278\n",
              "2.0      278\n",
              "16.0     247\n",
              "10.0     207\n",
              "12.0     185\n",
              "13.0     155\n",
              "1.0       65\n",
              "21.0      48\n",
              "18.0      22\n",
              "19.0      18\n",
              "20.0       9\n",
              "Name: edjef, dtype: int64"
            ]
          },
          "metadata": {},
          "execution_count": 33
        }
      ]
    },
    {
      "cell_type": "code",
      "source": [
        "df_train.drop('tamhog', axis=1, inplace=True)\n",
        "df_test.drop('tamhog', axis=1, inplace=True)"
      ],
      "metadata": {
        "id": "-CVDSK0fWm18"
      },
      "execution_count": 34,
      "outputs": []
    },
    {
      "cell_type": "markdown",
      "source": [
        "**Squared features**  \n",
        "\n",
        "* There are many squared features. Actually, tree models like lightgbm don't need them. But at this kernel, I want to use lightgbm as feature filter model and set entity- embedding as classfier. So Let's keep them"
      ],
      "metadata": {
        "id": "rnsrokXEXgqo"
      }
    },
    {
      "cell_type": "markdown",
      "source": [
        "**Family features**  \n",
        "-> hogar_nin, hogar_adul, hogar_mayor, hogar_total, r4h1, r4h2, r4h3, r4m1, r4m2, r4m3, r4t1, r4t2, r4t3, tmbhog, tamvid, rez_esc, escolari"
      ],
      "metadata": {
        "id": "WkjDVoPwXoE6"
      }
    },
    {
      "cell_type": "code",
      "source": [
        "# substract, ratio\n",
        "df_train['adult'] = df_train['hogar_adul'] - df_train['hogar_mayor']\n",
        "df_train['dependency_count'] = df_train['hogar_nin'] + df_train['hogar_mayor']\n",
        "df_train['dependency'] = df_train['dependency_count'] / df_train['adult']\n",
        "df_train['child_percent'] = df_train['hogar_nin'] / df_train['hogar_total']\n",
        "df_train['elder_percent'] = df_train['hogar_mayor'] / df_train['hogar_total']\n",
        "df_train['adult_percent'] = df_train['hogar_adul'] / df_train['hogar_total']\n",
        "df_train['males_younger_12_years_percent'] = df_train['r4h1'] / df_train['hogar_total']\n",
        "df_train['males_older_12_years_percent'] = df_train['r4h2'] / df_train['hogar_total']\n",
        "df_train['males_percent'] = df_train['r4h3'] / df_train['hogar_total']\n",
        "df_train['females_younger_12_years_percent'] = df_train['r4m1'] / df_train['hogar_total']\n",
        "df_train['females_older_12_years_percent'] = df_train['r4m2'] / df_train['hogar_total']\n",
        "df_train['females_percent'] = df_train['r4m3'] / df_train['hogar_total']\n",
        "df_train['persons_younger_12_years_percent'] = df_train['r4t1'] / df_train['hogar_total']\n",
        "df_train['persons_older_12_years_percent'] = df_train['r4t2'] / df_train['hogar_total']\n",
        "df_train['persons_percent'] = df_train['r4t3'] / df_train['hogar_total']"
      ],
      "metadata": {
        "id": "VwLwTZu1WmzD"
      },
      "execution_count": 36,
      "outputs": []
    },
    {
      "cell_type": "code",
      "source": [
        "df_test['adult'] = df_test['hogar_adul'] - df_test['hogar_mayor']\n",
        "df_test['dependency_count'] = df_test['hogar_nin'] + df_test['hogar_mayor']\n",
        "df_test['dependency'] = df_test['dependency_count'] / df_test['adult']\n",
        "df_test['child_percent'] = df_test['hogar_nin'] / df_test['hogar_total']\n",
        "df_test['elder_percent'] = df_test['hogar_mayor'] / df_test['hogar_total']\n",
        "df_test['adult_percent'] = df_test['hogar_adul'] / df_test['hogar_total']\n",
        "df_test['males_younger_12_years_percent'] = df_test['r4h1'] / df_test['hogar_total']\n",
        "df_test['males_older_12_years_percent'] = df_test['r4h2'] / df_test['hogar_total']\n",
        "df_test['males_percent'] = df_test['r4h3'] / df_test['hogar_total']\n",
        "df_test['females_younger_12_years_percent'] = df_test['r4m1'] / df_test['hogar_total']\n",
        "df_test['females_older_12_years_percent'] = df_test['r4m2'] / df_test['hogar_total']\n",
        "df_test['females_percent'] = df_test['r4m3'] / df_test['hogar_total']\n",
        "df_test['persons_younger_12_years_percent'] = df_test['r4t1'] / df_test['hogar_total']\n",
        "df_test['persons_older_12_years_percent'] = df_test['r4t2'] / df_test['hogar_total']\n",
        "df_test['persons_percent'] = df_test['r4t3'] / df_test['hogar_total']"
      ],
      "metadata": {
        "id": "dQ0Iqg1tWmwp"
      },
      "execution_count": 37,
      "outputs": []
    },
    {
      "cell_type": "code",
      "source": [
        "df_train['males_younger_12_years_in_household_size'] = df_train['r4h1'] / df_train['hhsize']\n",
        "df_train['males_older_12_years_in_household_size'] = df_train['r4h2'] / df_train['hhsize']\n",
        "df_train['males_in_household_size'] = df_train['r4h3'] / df_train['hhsize']\n",
        "df_train['females_younger_12_years_in_household_size'] = df_train['r4m1'] / df_train['hhsize']\n",
        "df_train['females_older_12_years_in_household_size'] = df_train['r4m2'] / df_train['hhsize']\n",
        "df_train['females_in_household_size'] = df_train['r4m3'] / df_train['hogar_total']\n",
        "df_train['persons_younger_12_years_in_household_size'] = df_train['r4t1'] / df_train['hhsize']\n",
        "df_train['persons_older_12_years_in_household_size'] = df_train['r4t2'] / df_train['hhsize']\n",
        "df_train['persons_in_household_size'] = df_train['r4t3'] / df_train['hhsize']"
      ],
      "metadata": {
        "id": "ziQfn2J3WmtX"
      },
      "execution_count": 38,
      "outputs": []
    },
    {
      "cell_type": "code",
      "source": [
        "df_test['males_younger_12_years_in_household_size'] = df_test['r4h1'] / df_test['hhsize']\n",
        "df_test['males_older_12_years_in_household_size'] = df_test['r4h2'] / df_test['hhsize']\n",
        "df_test['males_in_household_size'] = df_test['r4h3'] / df_test['hhsize']\n",
        "df_test['females_younger_12_years_in_household_size'] = df_test['r4m1'] / df_test['hhsize']\n",
        "df_test['females_older_12_years_in_household_size'] = df_test['r4m2'] / df_test['hhsize']\n",
        "df_test['females_in_household_size'] = df_test['r4m3'] / df_test['hogar_total']\n",
        "df_test['persons_younger_12_years_in_household_size'] = df_test['r4t1'] / df_test['hhsize']\n",
        "df_test['persons_older_12_years_in_household_size'] = df_test['r4t2'] / df_test['hhsize']\n",
        "df_test['persons_in_household_size'] = df_test['r4t3'] / df_test['hhsize']"
      ],
      "metadata": {
        "id": "po6I9fn2WmqM"
      },
      "execution_count": 39,
      "outputs": []
    },
    {
      "cell_type": "code",
      "source": [
        "df_train['overcrowding_room_and_bedroom'] = (df_train['hacdor'] + df_train['hacapo'])/2\n",
        "df_test['overcrowding_room_and_bedroom'] = (df_test['hacdor'] + df_test['hacapo'])/2"
      ],
      "metadata": {
        "id": "3XTwxMXPWmmA"
      },
      "execution_count": 40,
      "outputs": []
    },
    {
      "cell_type": "code",
      "source": [
        "df_train['escolari_age'] = df_train['escolari']/df_train['age']\n",
        "df_test['escolari_age'] = df_test['escolari']/df_test['age']\n",
        "\n",
        "df_train['age_12_19'] = df_train['hogar_nin'] - df_train['r4t1']\n",
        "df_test['age_12_19'] = df_test['hogar_nin'] - df_test['r4t1'] "
      ],
      "metadata": {
        "id": "CZYqXqkVWmie"
      },
      "execution_count": 41,
      "outputs": []
    },
    {
      "cell_type": "code",
      "source": [
        "df_train['phones-per-capita'] = df_train['qmobilephone'] / df_train['tamviv']\n",
        "df_train['tablets-per-capita'] = df_train['v18q1'] / df_train['tamviv']\n",
        "df_train['rooms-per-capita'] = df_train['rooms'] / df_train['tamviv']\n",
        "df_train['rent-per-capita'] = df_train['v2a1'] / df_train['tamviv']"
      ],
      "metadata": {
        "id": "f9MHGumRX6ra"
      },
      "execution_count": 42,
      "outputs": []
    },
    {
      "cell_type": "code",
      "source": [
        "df_test['phones-per-capita'] = df_test['qmobilephone'] / df_test['tamviv']\n",
        "df_test['tablets-per-capita'] = df_test['v18q1'] / df_test['tamviv']\n",
        "df_test['rooms-per-capita'] = df_test['rooms'] / df_test['tamviv']\n",
        "df_test['rent-per-capita'] = df_test['v2a1'] / df_test['tamviv']"
      ],
      "metadata": {
        "id": "FH0fJgkgX6o3"
      },
      "execution_count": 43,
      "outputs": []
    },
    {
      "cell_type": "markdown",
      "source": [
        "* You can see that \"Total persons in the household\" != \"# of total individuals in the household\".\n",
        "* Somewhat weired. But for now I will keep it."
      ],
      "metadata": {
        "id": "4-U5eHbLX-nX"
      }
    },
    {
      "cell_type": "code",
      "source": [
        "(df_train['hogar_total'] == df_train['r4t3']).sum()"
      ],
      "metadata": {
        "colab": {
          "base_uri": "https://localhost:8080/"
        },
        "id": "YQxZYvs-X9Rp",
        "outputId": "5ddc68cb-bc02-4b00-9c8b-54780754d69f"
      },
      "execution_count": 44,
      "outputs": [
        {
          "output_type": "execute_result",
          "data": {
            "text/plain": [
              "9509"
            ]
          },
          "metadata": {},
          "execution_count": 44
        }
      ]
    },
    {
      "cell_type": "markdown",
      "source": [
        "**Rent per family features**  \n",
        "* I will reduce the number of features using shap, so let's generate many features!! Hope catch some fortune features :)"
      ],
      "metadata": {
        "id": "rUXqoXypYF8H"
      }
    },
    {
      "cell_type": "code",
      "source": [
        "family_size_features = ['adult', 'hogar_adul', 'hogar_mayor', 'hogar_nin', 'hogar_total', 'r4h1', \n",
        "                        'r4h2', 'r4h3', 'r4m1', 'r4m2', 'r4m3', 'r4t1', 'r4t2', 'r4t3', 'hhsize']\n",
        "new_feats = []\n",
        "for col in family_size_features:\n",
        "    new_col_name = 'new_{}_per_{}'.format('v2a1', col)\n",
        "    new_feats.append(new_col_name)\n",
        "    df_train[new_col_name] = df_train['v2a1'] / df_train[col]\n",
        "    df_test[new_col_name] = df_test['v2a1'] / df_test[col]"
      ],
      "metadata": {
        "id": "NLkzEIuQX6ht"
      },
      "execution_count": 45,
      "outputs": []
    },
    {
      "cell_type": "markdown",
      "source": [
        "* Ratio feature can have infinite values. So Let them be filled with 0"
      ],
      "metadata": {
        "id": "s0u5K1D-Ywok"
      }
    },
    {
      "cell_type": "code",
      "source": [
        "for col in new_feats:\n",
        "    df_train[col].replace([np.inf], np.nan, inplace=True)\n",
        "    df_train[col].fillna(0, inplace=True)\n",
        "    \n",
        "    df_test[col].replace([np.inf], np.nan, inplace=True)\n",
        "    df_test[col].fillna(0, inplace=True)"
      ],
      "metadata": {
        "id": "lRDO09MMYuCo"
      },
      "execution_count": 46,
      "outputs": []
    },
    {
      "cell_type": "markdown",
      "source": [
        "**Room per family features**"
      ],
      "metadata": {
        "id": "2yqgOfFuY0Bt"
      }
    },
    {
      "cell_type": "code",
      "source": [
        "new_feats = []\n",
        "for col in family_size_features:\n",
        "    new_col_name = 'new_{}_per_{}'.format('rooms', col)\n",
        "    new_feats.append(new_col_name)\n",
        "    df_train[new_col_name] = df_train['rooms'] / df_train[col]\n",
        "    df_test[new_col_name] = df_test['rooms'] / df_test[col]\n",
        "\n",
        "for col in new_feats:\n",
        "    df_train[col].replace([np.inf], np.nan, inplace=True)\n",
        "    df_train[col].fillna(0, inplace=True)\n",
        "    \n",
        "    df_test[col].replace([np.inf], np.nan, inplace=True)\n",
        "    df_test[col].fillna(0, inplace=True)"
      ],
      "metadata": {
        "id": "G1yC2tqqYt_e"
      },
      "execution_count": 47,
      "outputs": []
    },
    {
      "cell_type": "markdown",
      "source": [
        "**BedRoom per family features**"
      ],
      "metadata": {
        "id": "XA26_ZxyY5qC"
      }
    },
    {
      "cell_type": "code",
      "source": [
        "new_feats = []\n",
        "for col in family_size_features:\n",
        "    new_col_name = 'new_{}_per_{}'.format('bedrooms', col)\n",
        "    new_feats.append(new_col_name)\n",
        "    df_train[new_col_name] = df_train['bedrooms'] / df_train[col]\n",
        "    df_test[new_col_name] = df_test['bedrooms'] / df_test[col]\n",
        "\n",
        "for col in new_feats:\n",
        "    df_train[col].replace([np.inf], np.nan, inplace=True)\n",
        "    df_train[col].fillna(0, inplace=True)\n",
        "    \n",
        "    df_test[col].replace([np.inf], np.nan, inplace=True)\n",
        "    df_test[col].fillna(0, inplace=True)"
      ],
      "metadata": {
        "id": "_EcsxizAYt8R"
      },
      "execution_count": 48,
      "outputs": []
    },
    {
      "cell_type": "code",
      "source": [
        "print(df_train.shape, df_test.shape) \n",
        "# To check the same number of features between train and test (target is there in train)"
      ],
      "metadata": {
        "colab": {
          "base_uri": "https://localhost:8080/"
        },
        "id": "SOwDRgXSX6ee",
        "outputId": "cb67894d-6378-4504-f6bb-a1cb8adf3f97"
      },
      "execution_count": 49,
      "outputs": [
        {
          "output_type": "stream",
          "name": "stdout",
          "text": [
            "(9557, 220) (23856, 219)\n"
          ]
        }
      ]
    },
    {
      "cell_type": "markdown",
      "source": [
        "**Tablet per family features**"
      ],
      "metadata": {
        "id": "ZwTmQbJEZEQi"
      }
    },
    {
      "cell_type": "code",
      "source": [
        "new_feats = []\n",
        "for col in family_size_features:\n",
        "    new_col_name = 'new_{}_per_{}'.format('v18q1', col)\n",
        "    new_feats.append(new_col_name)\n",
        "    df_train[new_col_name] = df_train['v18q1'] / df_train[col]\n",
        "    df_test[new_col_name] = df_test['v18q1'] / df_test[col]\n",
        "\n",
        "for col in new_feats:\n",
        "    df_train[col].replace([np.inf], np.nan, inplace=True)\n",
        "    df_train[col].fillna(0, inplace=True)\n",
        "    \n",
        "    df_test[col].replace([np.inf], np.nan, inplace=True)\n",
        "    df_test[col].fillna(0, inplace=True)"
      ],
      "metadata": {
        "id": "4FHQcJcAY_h-"
      },
      "execution_count": 50,
      "outputs": []
    },
    {
      "cell_type": "markdown",
      "source": [
        "**Phone per family features**"
      ],
      "metadata": {
        "id": "tiOfNqwyZbuM"
      }
    },
    {
      "cell_type": "code",
      "source": [
        "new_feats = []\n",
        "for col in family_size_features:\n",
        "    new_col_name = 'new_{}_per_{}'.format('qmobilephone', col)\n",
        "    new_feats.append(new_col_name)\n",
        "    df_train[new_col_name] = df_train['qmobilephone'] / df_train[col]\n",
        "    df_test[new_col_name] = df_test['qmobilephone'] / df_test[col]\n",
        "\n",
        "for col in new_feats:\n",
        "    df_train[col].replace([np.inf], np.nan, inplace=True)\n",
        "    df_train[col].fillna(0, inplace=True)\n",
        "    \n",
        "    df_test[col].replace([np.inf], np.nan, inplace=True)\n",
        "    df_test[col].fillna(0, inplace=True)"
      ],
      "metadata": {
        "id": "xQk3MU9MZcBk"
      },
      "execution_count": 51,
      "outputs": []
    },
    {
      "cell_type": "markdown",
      "source": [
        "**rez_esc(Years behind in school) per family features**"
      ],
      "metadata": {
        "id": "Mrhq8vZkZk2I"
      }
    },
    {
      "cell_type": "code",
      "source": [
        "new_feats = []\n",
        "for col in family_size_features:\n",
        "    new_col_name = 'new_{}_per_{}'.format('rez_esc', col)\n",
        "    new_feats.append(new_col_name)\n",
        "    df_train[new_col_name] = df_train['rez_esc'] / df_train[col]\n",
        "    df_test[new_col_name] = df_test['rez_esc'] / df_test[col]\n",
        "\n",
        "for col in new_feats:\n",
        "    df_train[col].replace([np.inf], np.nan, inplace=True)\n",
        "    df_train[col].fillna(0, inplace=True)\n",
        "    \n",
        "    df_test[col].replace([np.inf], np.nan, inplace=True)\n",
        "    df_test[col].fillna(0, inplace=True)"
      ],
      "metadata": {
        "id": "XGmxyk-WZcLN"
      },
      "execution_count": 52,
      "outputs": []
    },
    {
      "cell_type": "code",
      "source": [
        "df_train['rez_esc_age'] = df_train['rez_esc'] / df_train['age']\n",
        "df_train['rez_esc_escolari'] = df_train['rez_esc'] / df_train['escolari']\n",
        "\n",
        "df_test['rez_esc_age'] = df_test['rez_esc'] / df_test['age']\n",
        "df_test['rez_esc_escolari'] = df_test['rez_esc'] / df_test['escolari']"
      ],
      "metadata": {
        "id": "ezl98Ul1ZcH_"
      },
      "execution_count": 53,
      "outputs": []
    },
    {
      "cell_type": "markdown",
      "source": [
        "**Rich features**\n",
        "* I think the more richer, the larger number of phones and tabulet"
      ],
      "metadata": {
        "id": "6arij6b_Zo7V"
      }
    },
    {
      "cell_type": "code",
      "source": [
        "df_train['tabulet_x_qmobilephone'] = df_train['v18q1'] * df_train['qmobilephone']\n",
        "df_test['tabulet_x_qmobilephone'] = df_test['v18q1'] * df_test['qmobilephone']"
      ],
      "metadata": {
        "id": "FiNE91ndZcEn"
      },
      "execution_count": 54,
      "outputs": []
    },
    {
      "cell_type": "markdown",
      "source": [
        "* wall, roof, floor may be key factor.\n",
        "* Let's multiply each of them. Becuase they are binary cat features, so mulitification of each features generates new categorical features"
      ],
      "metadata": {
        "id": "O0yTiDUBZ25Y"
      }
    },
    {
      "cell_type": "code",
      "source": [
        "# wall and roof\n",
        "for col1 in ['epared1', 'epared2', 'epared3']:\n",
        "    for col2 in ['etecho1', 'etecho2', 'etecho3']:\n",
        "        new_col_name = 'new_{}_x_{}'.format(col1, col2)\n",
        "        df_train[new_col_name] = df_train[col1] * df_train[col2]\n",
        "        df_test[new_col_name] = df_test[col1] * df_test[col2]\n",
        "        \n",
        "# wall and floor\n",
        "for col1 in ['epared1', 'epared2', 'epared3']:\n",
        "    for col2 in ['eviv1', 'eviv2', 'eviv3']:\n",
        "        new_col_name = 'new_{}_x_{}'.format(col1, col2)\n",
        "        df_train[new_col_name] = df_train[col1] * df_train[col2]\n",
        "        df_test[new_col_name] = df_test[col1] * df_test[col2]\n",
        "\n",
        "# roof and floor\n",
        "for col1 in ['etecho1', 'etecho2', 'etecho3']:\n",
        "    for col2 in ['eviv1', 'eviv2', 'eviv3']:\n",
        "        new_col_name = 'new_{}_x_{}'.format(col1, col2)\n",
        "        df_train[new_col_name] = df_train[col1] * df_train[col2]\n",
        "        df_test[new_col_name] = df_test[col1] * df_test[col2]"
      ],
      "metadata": {
        "id": "Z5w19EPQZ1tt"
      },
      "execution_count": 55,
      "outputs": []
    },
    {
      "cell_type": "code",
      "source": [
        "# combination using three features\n",
        "for col1 in ['epared1', 'epared2', 'epared3']:\n",
        "    for col2 in ['etecho1', 'etecho2', 'etecho3']:\n",
        "        for col3 in ['eviv1', 'eviv2', 'eviv3']:\n",
        "            new_col_name = 'new_{}_x_{}_x_{}'.format(col1, col2, col3)\n",
        "            df_train[new_col_name] = df_train[col1] * df_train[col2] * df_train[col3]\n",
        "            df_test[new_col_name] = df_test[col1] * df_test[col2] * df_train[col3]"
      ],
      "metadata": {
        "id": "t8SU_s1bZ1qN"
      },
      "execution_count": 56,
      "outputs": []
    },
    {
      "cell_type": "code",
      "source": [
        "print(df_train.shape, df_test.shape)"
      ],
      "metadata": {
        "colab": {
          "base_uri": "https://localhost:8080/"
        },
        "id": "i9vwaHFaZ1kL",
        "outputId": "ca003443-4b6c-4969-c679-69380953761f"
      },
      "execution_count": 57,
      "outputs": [
        {
          "output_type": "stream",
          "name": "stdout",
          "text": [
            "(9557, 322) (23856, 321)\n"
          ]
        }
      ]
    },
    {
      "cell_type": "markdown",
      "source": [
        "* I want to mix electricity and energy features -> energy features"
      ],
      "metadata": {
        "id": "aYECEaP4Z2zy"
      }
    },
    {
      "cell_type": "code",
      "source": [
        "for col1 in ['public', 'planpri', 'noelec', 'coopele']:\n",
        "    for col2 in ['energcocinar1', 'energcocinar2', 'energcocinar3', 'energcocinar4']:\n",
        "        new_col_name = 'new_{}_x_{}'.format(col1, col2)\n",
        "        df_train[new_col_name] = df_train[col1] * df_train[col2]\n",
        "        df_test[new_col_name] = df_test[col1] * df_test[col2]"
      ],
      "metadata": {
        "id": "s_LmuwsxZ1hl"
      },
      "execution_count": 58,
      "outputs": []
    },
    {
      "cell_type": "markdown",
      "source": [
        "* I want to mix toilet and rubbish disposal features -> other_infra features"
      ],
      "metadata": {
        "id": "v3ES5y-RaIdp"
      }
    },
    {
      "cell_type": "code",
      "source": [
        "for col1 in ['sanitario1', 'sanitario2', 'sanitario3', 'sanitario5', 'sanitario6']:\n",
        "    for col2 in ['elimbasu1', 'elimbasu2', 'elimbasu3', 'elimbasu4', 'elimbasu5', 'elimbasu6']:\n",
        "        new_col_name = 'new_{}_x_{}'.format(col1, col2)\n",
        "        df_train[new_col_name] = df_train[col1] * df_train[col2]\n",
        "        df_test[new_col_name] = df_test[col1] * df_test[col2]"
      ],
      "metadata": {
        "id": "osL5k8KSZ1e0"
      },
      "execution_count": 59,
      "outputs": []
    },
    {
      "cell_type": "markdown",
      "source": [
        "* I want to mix toilet and water provision features -> water features"
      ],
      "metadata": {
        "id": "0kzgh0RIaLHt"
      }
    },
    {
      "cell_type": "code",
      "source": [
        "for col1 in ['abastaguadentro', 'abastaguafuera', 'abastaguano']:\n",
        "    for col2 in ['sanitario1', 'sanitario2', 'sanitario3', 'sanitario5', 'sanitario6']:\n",
        "        new_col_name = 'new_{}_x_{}'.format(col1, col2)\n",
        "        df_train[new_col_name] = df_train[col1] * df_train[col2]\n",
        "        df_test[new_col_name] = df_test[col1] * df_test[col2]"
      ],
      "metadata": {
        "id": "CjzcizqdZ1be"
      },
      "execution_count": 60,
      "outputs": []
    },
    {
      "cell_type": "code",
      "source": [
        "print(df_train.shape, df_test.shape)"
      ],
      "metadata": {
        "colab": {
          "base_uri": "https://localhost:8080/"
        },
        "id": "9XJiHz6nZ1W3",
        "outputId": "2de34710-4992-48b8-a2b8-6b6aed8f5fd2"
      },
      "execution_count": 61,
      "outputs": [
        {
          "output_type": "stream",
          "name": "stdout",
          "text": [
            "(9557, 383) (23856, 382)\n"
          ]
        }
      ]
    },
    {
      "cell_type": "markdown",
      "source": [
        "* I want mix education and area features -> education_zone_features"
      ],
      "metadata": {
        "id": "jrWRAzeLaPXQ"
      }
    },
    {
      "cell_type": "code",
      "source": [
        "for col1 in ['area1', 'area2']:\n",
        "    for col2 in ['instlevel1', 'instlevel2', 'instlevel3', 'instlevel4', 'instlevel5', 'instlevel6', 'instlevel7', 'instlevel8', 'instlevel9']:\n",
        "        new_col_name = 'new_{}_x_{}'.format(col1, col2)\n",
        "        df_train[new_col_name] = df_train[col1] * df_train[col2]\n",
        "        df_test[new_col_name] = df_test[col1] * df_test[col2]"
      ],
      "metadata": {
        "id": "axpN0TXVaQ5-"
      },
      "execution_count": 62,
      "outputs": []
    },
    {
      "cell_type": "markdown",
      "source": [
        "* Mix region and education"
      ],
      "metadata": {
        "id": "Zo7gUc8kaTXT"
      }
    },
    {
      "cell_type": "code",
      "source": [
        "for col1 in ['lugar1', 'lugar2', 'lugar3', 'lugar4', 'lugar5', 'lugar6']:\n",
        "    for col2 in ['instlevel1', 'instlevel2', 'instlevel3', 'instlevel4', 'instlevel5', 'instlevel6', 'instlevel7', 'instlevel8', 'instlevel9']:\n",
        "        new_col_name = 'new_{}_x_{}'.format(col1, col2)\n",
        "        df_train[new_col_name] = df_train[col1] * df_train[col2]\n",
        "        df_test[new_col_name] = df_test[col1] * df_test[col2]"
      ],
      "metadata": {
        "id": "zDo1tMuQaQ2-"
      },
      "execution_count": 63,
      "outputs": []
    },
    {
      "cell_type": "code",
      "source": [
        "print(df_train.shape, df_test.shape)"
      ],
      "metadata": {
        "colab": {
          "base_uri": "https://localhost:8080/"
        },
        "id": "rqH29buWaQ0Q",
        "outputId": "0ca69f46-aa48-4f58-dade-a4f1f2dcdb31"
      },
      "execution_count": 64,
      "outputs": [
        {
          "output_type": "stream",
          "name": "stdout",
          "text": [
            "(9557, 455) (23856, 454)\n"
          ]
        }
      ]
    },
    {
      "cell_type": "markdown",
      "source": [
        "* Multiply television / mobilephone / computer / tablet / refrigerator -> electornics features"
      ],
      "metadata": {
        "id": "-31wKDf4aWvg"
      }
    },
    {
      "cell_type": "code",
      "source": [
        "df_train['electronics'] = df_train['computer'] * df_train['mobilephone'] * df_train['television'] * df_train['v18q'] * df_train['refrig']\n",
        "df_test['electronics'] = df_test['computer'] * df_test['mobilephone'] * df_test['television'] * df_test['v18q'] * df_test['refrig']\n",
        "\n",
        "df_train['no_appliances'] = df_train['refrig'] + df_train['computer'] + df_train['television'] + df_train['mobilephone']\n",
        "df_test['no_appliances'] = df_test['refrig'] + df_test['computer'] + df_test['television'] + df_test['mobilephone']"
      ],
      "metadata": {
        "id": "8v1uXL_MaQud"
      },
      "execution_count": 65,
      "outputs": []
    },
    {
      "cell_type": "markdown",
      "source": [
        "* Mix wall material of roof, floor, wall"
      ],
      "metadata": {
        "id": "DBe-C0MXalVc"
      }
    },
    {
      "cell_type": "code",
      "source": [
        "for col1 in ['paredblolad', 'paredzocalo', 'paredpreb', 'pareddes', 'paredmad', 'paredzinc', 'paredfibras', 'paredother']:\n",
        "    for col2 in ['pisomoscer', 'pisocemento', 'pisoother', 'pisonatur', 'pisonotiene', 'pisomadera']:\n",
        "        new_col_name = 'new_{}_x_{}'.format(col1, col2)\n",
        "        df_train[new_col_name] = df_train[col1] * df_train[col2]\n",
        "        df_test[new_col_name] = df_test[col1] * df_test[col2]\n",
        "\n",
        "for col1 in ['pisomoscer', 'pisocemento', 'pisoother', 'pisonatur', 'pisonotiene', 'pisomadera']:\n",
        "    for col1 in ['techozinc', 'techoentrepiso', 'techocane', 'techootro']:\n",
        "        new_col_name = 'new_{}_x_{}'.format(col1, col2)\n",
        "        df_train[new_col_name] = df_train[col1] * df_train[col2]\n",
        "        df_test[new_col_name] = df_test[col1] * df_test[col2]\n",
        "        \n",
        "for col1 in ['paredblolad', 'paredzocalo', 'paredpreb', 'pareddes', 'paredmad', 'paredzinc', 'paredfibras', 'paredother']:\n",
        "    for col2 in ['techozinc', 'techoentrepiso', 'techocane', 'techootro']:\n",
        "        new_col_name = 'new_{}_x_{}'.format(col1, col2)\n",
        "        df_train[new_col_name] = df_train[col1] * df_train[col2]\n",
        "        df_test[new_col_name] = df_test[col1] * df_test[col2]        \n",
        "        \n",
        "for col1 in ['paredblolad', 'paredzocalo', 'paredpreb', 'pareddes', 'paredmad', 'paredzinc', 'paredfibras', 'paredother']:\n",
        "    for col2 in ['pisomoscer', 'pisocemento', 'pisoother', 'pisonatur', 'pisonotiene', 'pisomadera']:\n",
        "        for col3 in ['techozinc', 'techoentrepiso', 'techocane', 'techootro']:\n",
        "            new_col_name = 'new_{}_x_{}_x_{}'.format(col1, col2, col3)\n",
        "            df_train[new_col_name] = df_train[col1] * df_train[col2] * df_train[col3]\n",
        "            df_test[new_col_name] = df_test[col1] * df_test[col2] * df_train[col3]"
      ],
      "metadata": {
        "id": "l6teOPZVaQrq"
      },
      "execution_count": 66,
      "outputs": []
    },
    {
      "cell_type": "code",
      "source": [
        "print(df_train.shape, df_test.shape)"
      ],
      "metadata": {
        "colab": {
          "base_uri": "https://localhost:8080/"
        },
        "id": "rtGv_xQ7Z1TW",
        "outputId": "6e7bea1a-156e-44bc-ca49-80ccb4ad8c02"
      },
      "execution_count": 67,
      "outputs": [
        {
          "output_type": "stream",
          "name": "stdout",
          "text": [
            "(9557, 733) (23856, 732)\n"
          ]
        }
      ]
    },
    {
      "cell_type": "markdown",
      "source": [
        "Wow! without any aggreation features, we hvae 446 features for now. Actually mixing the materials of walls make thousands of features. I don't want to do that because of computational costs!"
      ],
      "metadata": {
        "id": "hm9r4MojatCm"
      }
    },
    {
      "cell_type": "markdown",
      "source": [
        "**Remove feature with only one value**"
      ],
      "metadata": {
        "id": "TktrHmZeat57"
      }
    },
    {
      "cell_type": "code",
      "source": [
        "cols_with_only_one_value = []\n",
        "for col in df_train.columns:\n",
        "    if col == 'Target':\n",
        "        continue\n",
        "    if df_train[col].value_counts().shape[0] == 1 or df_test[col].value_counts().shape[0] == 1:\n",
        "        print(col)\n",
        "        cols_with_only_one_value.append(col)"
      ],
      "metadata": {
        "colab": {
          "base_uri": "https://localhost:8080/"
        },
        "id": "-4DFmzxCak-6",
        "outputId": "8a44ead4-0f2f-4fa3-cf12-9775592283a1"
      },
      "execution_count": 68,
      "outputs": [
        {
          "output_type": "stream",
          "name": "stdout",
          "text": [
            "elimbasu5\n",
            "new_planpri_x_energcocinar1\n",
            "new_planpri_x_energcocinar2\n",
            "new_planpri_x_energcocinar3\n",
            "new_planpri_x_energcocinar4\n",
            "new_noelec_x_energcocinar2\n",
            "new_sanitario1_x_elimbasu4\n",
            "new_sanitario1_x_elimbasu5\n",
            "new_sanitario1_x_elimbasu6\n",
            "new_sanitario2_x_elimbasu4\n",
            "new_sanitario2_x_elimbasu5\n",
            "new_sanitario2_x_elimbasu6\n",
            "new_sanitario3_x_elimbasu5\n",
            "new_sanitario5_x_elimbasu4\n",
            "new_sanitario5_x_elimbasu5\n",
            "new_sanitario5_x_elimbasu6\n",
            "new_sanitario6_x_elimbasu2\n",
            "new_sanitario6_x_elimbasu4\n",
            "new_sanitario6_x_elimbasu5\n",
            "new_sanitario6_x_elimbasu6\n",
            "new_abastaguafuera_x_sanitario6\n",
            "new_abastaguano_x_sanitario2\n",
            "new_abastaguano_x_sanitario6\n",
            "new_paredblolad_x_pisonatur\n",
            "new_paredblolad_x_pisonotiene\n",
            "new_paredzocalo_x_pisoother\n",
            "new_paredzocalo_x_pisonatur\n",
            "new_paredpreb_x_pisonatur\n",
            "new_pareddes_x_pisoother\n",
            "new_pareddes_x_pisonatur\n",
            "new_paredmad_x_pisoother\n",
            "new_paredmad_x_pisonatur\n",
            "new_paredzinc_x_pisoother\n",
            "new_paredzinc_x_pisonatur\n",
            "new_paredfibras_x_pisoother\n",
            "new_paredfibras_x_pisonatur\n",
            "new_paredfibras_x_pisonotiene\n",
            "new_paredfibras_x_pisomadera\n",
            "new_paredother_x_pisoother\n",
            "new_paredother_x_pisonatur\n",
            "new_paredother_x_pisonotiene\n",
            "new_paredother_x_pisomadera\n",
            "new_techocane_x_pisomadera\n",
            "new_techootro_x_pisomadera\n",
            "new_paredzocalo_x_techoentrepiso\n",
            "new_paredzocalo_x_techocane\n",
            "new_paredzocalo_x_techootro\n",
            "new_paredpreb_x_techootro\n",
            "new_pareddes_x_techoentrepiso\n",
            "new_pareddes_x_techocane\n",
            "new_pareddes_x_techootro\n",
            "new_paredmad_x_techocane\n",
            "new_paredmad_x_techootro\n",
            "new_paredzinc_x_techoentrepiso\n",
            "new_paredzinc_x_techocane\n",
            "new_paredzinc_x_techootro\n",
            "new_paredfibras_x_techoentrepiso\n",
            "new_paredfibras_x_techootro\n",
            "new_paredother_x_techoentrepiso\n",
            "new_paredother_x_techocane\n",
            "new_paredother_x_techootro\n",
            "new_paredblolad_x_pisocemento_x_techocane\n",
            "new_paredblolad_x_pisocemento_x_techootro\n",
            "new_paredblolad_x_pisoother_x_techoentrepiso\n",
            "new_paredblolad_x_pisoother_x_techocane\n",
            "new_paredblolad_x_pisoother_x_techootro\n",
            "new_paredblolad_x_pisonatur_x_techozinc\n",
            "new_paredblolad_x_pisonatur_x_techoentrepiso\n",
            "new_paredblolad_x_pisonatur_x_techocane\n",
            "new_paredblolad_x_pisonatur_x_techootro\n",
            "new_paredblolad_x_pisonotiene_x_techozinc\n",
            "new_paredblolad_x_pisonotiene_x_techoentrepiso\n",
            "new_paredblolad_x_pisonotiene_x_techocane\n",
            "new_paredblolad_x_pisonotiene_x_techootro\n",
            "new_paredblolad_x_pisomadera_x_techocane\n",
            "new_paredblolad_x_pisomadera_x_techootro\n",
            "new_paredzocalo_x_pisomoscer_x_techoentrepiso\n",
            "new_paredzocalo_x_pisomoscer_x_techocane\n",
            "new_paredzocalo_x_pisomoscer_x_techootro\n",
            "new_paredzocalo_x_pisocemento_x_techoentrepiso\n",
            "new_paredzocalo_x_pisocemento_x_techocane\n",
            "new_paredzocalo_x_pisocemento_x_techootro\n",
            "new_paredzocalo_x_pisoother_x_techozinc\n",
            "new_paredzocalo_x_pisoother_x_techoentrepiso\n",
            "new_paredzocalo_x_pisoother_x_techocane\n",
            "new_paredzocalo_x_pisoother_x_techootro\n",
            "new_paredzocalo_x_pisonatur_x_techozinc\n",
            "new_paredzocalo_x_pisonatur_x_techoentrepiso\n",
            "new_paredzocalo_x_pisonatur_x_techocane\n",
            "new_paredzocalo_x_pisonatur_x_techootro\n",
            "new_paredzocalo_x_pisonotiene_x_techoentrepiso\n",
            "new_paredzocalo_x_pisonotiene_x_techocane\n",
            "new_paredzocalo_x_pisonotiene_x_techootro\n",
            "new_paredzocalo_x_pisomadera_x_techoentrepiso\n",
            "new_paredzocalo_x_pisomadera_x_techocane\n",
            "new_paredzocalo_x_pisomadera_x_techootro\n",
            "new_paredpreb_x_pisocemento_x_techoentrepiso\n",
            "new_paredpreb_x_pisocemento_x_techocane\n",
            "new_paredpreb_x_pisocemento_x_techootro\n",
            "new_paredpreb_x_pisoother_x_techoentrepiso\n",
            "new_paredpreb_x_pisoother_x_techocane\n",
            "new_paredpreb_x_pisoother_x_techootro\n",
            "new_paredpreb_x_pisonatur_x_techozinc\n",
            "new_paredpreb_x_pisonatur_x_techoentrepiso\n",
            "new_paredpreb_x_pisonatur_x_techocane\n",
            "new_paredpreb_x_pisonatur_x_techootro\n",
            "new_paredpreb_x_pisonotiene_x_techozinc\n",
            "new_paredpreb_x_pisonotiene_x_techoentrepiso\n",
            "new_paredpreb_x_pisonotiene_x_techocane\n",
            "new_paredpreb_x_pisonotiene_x_techootro\n",
            "new_paredpreb_x_pisomadera_x_techoentrepiso\n",
            "new_paredpreb_x_pisomadera_x_techocane\n",
            "new_paredpreb_x_pisomadera_x_techootro\n",
            "new_pareddes_x_pisomoscer_x_techozinc\n",
            "new_pareddes_x_pisomoscer_x_techoentrepiso\n",
            "new_pareddes_x_pisomoscer_x_techocane\n",
            "new_pareddes_x_pisomoscer_x_techootro\n",
            "new_pareddes_x_pisocemento_x_techoentrepiso\n",
            "new_pareddes_x_pisocemento_x_techocane\n",
            "new_pareddes_x_pisocemento_x_techootro\n",
            "new_pareddes_x_pisoother_x_techozinc\n",
            "new_pareddes_x_pisoother_x_techoentrepiso\n",
            "new_pareddes_x_pisoother_x_techocane\n",
            "new_pareddes_x_pisoother_x_techootro\n",
            "new_pareddes_x_pisonatur_x_techozinc\n",
            "new_pareddes_x_pisonatur_x_techoentrepiso\n",
            "new_pareddes_x_pisonatur_x_techocane\n",
            "new_pareddes_x_pisonatur_x_techootro\n",
            "new_pareddes_x_pisonotiene_x_techoentrepiso\n",
            "new_pareddes_x_pisonotiene_x_techocane\n",
            "new_pareddes_x_pisonotiene_x_techootro\n",
            "new_pareddes_x_pisomadera_x_techozinc\n",
            "new_pareddes_x_pisomadera_x_techoentrepiso\n",
            "new_pareddes_x_pisomadera_x_techocane\n",
            "new_pareddes_x_pisomadera_x_techootro\n",
            "new_paredmad_x_pisomoscer_x_techocane\n",
            "new_paredmad_x_pisomoscer_x_techootro\n",
            "new_paredmad_x_pisocemento_x_techoentrepiso\n",
            "new_paredmad_x_pisocemento_x_techocane\n",
            "new_paredmad_x_pisocemento_x_techootro\n",
            "new_paredmad_x_pisoother_x_techozinc\n",
            "new_paredmad_x_pisoother_x_techoentrepiso\n",
            "new_paredmad_x_pisoother_x_techocane\n",
            "new_paredmad_x_pisoother_x_techootro\n",
            "new_paredmad_x_pisonatur_x_techozinc\n",
            "new_paredmad_x_pisonatur_x_techoentrepiso\n",
            "new_paredmad_x_pisonatur_x_techocane\n",
            "new_paredmad_x_pisonatur_x_techootro\n",
            "new_paredmad_x_pisonotiene_x_techoentrepiso\n",
            "new_paredmad_x_pisonotiene_x_techocane\n",
            "new_paredmad_x_pisonotiene_x_techootro\n",
            "new_paredmad_x_pisomadera_x_techocane\n",
            "new_paredzinc_x_pisomoscer_x_techoentrepiso\n",
            "new_paredzinc_x_pisomoscer_x_techocane\n",
            "new_paredzinc_x_pisomoscer_x_techootro\n",
            "new_paredzinc_x_pisocemento_x_techoentrepiso\n",
            "new_paredzinc_x_pisocemento_x_techocane\n",
            "new_paredzinc_x_pisocemento_x_techootro\n",
            "new_paredzinc_x_pisoother_x_techozinc\n",
            "new_paredzinc_x_pisoother_x_techoentrepiso\n",
            "new_paredzinc_x_pisoother_x_techocane\n",
            "new_paredzinc_x_pisoother_x_techootro\n",
            "new_paredzinc_x_pisonatur_x_techozinc\n",
            "new_paredzinc_x_pisonatur_x_techoentrepiso\n",
            "new_paredzinc_x_pisonatur_x_techocane\n",
            "new_paredzinc_x_pisonatur_x_techootro\n",
            "new_paredzinc_x_pisonotiene_x_techoentrepiso\n",
            "new_paredzinc_x_pisonotiene_x_techocane\n",
            "new_paredzinc_x_pisonotiene_x_techootro\n",
            "new_paredzinc_x_pisomadera_x_techoentrepiso\n",
            "new_paredzinc_x_pisomadera_x_techocane\n",
            "new_paredzinc_x_pisomadera_x_techootro\n",
            "new_paredfibras_x_pisomoscer_x_techoentrepiso\n",
            "new_paredfibras_x_pisomoscer_x_techocane\n",
            "new_paredfibras_x_pisomoscer_x_techootro\n",
            "new_paredfibras_x_pisocemento_x_techoentrepiso\n",
            "new_paredfibras_x_pisocemento_x_techocane\n",
            "new_paredfibras_x_pisocemento_x_techootro\n",
            "new_paredfibras_x_pisoother_x_techozinc\n",
            "new_paredfibras_x_pisoother_x_techoentrepiso\n",
            "new_paredfibras_x_pisoother_x_techocane\n",
            "new_paredfibras_x_pisoother_x_techootro\n",
            "new_paredfibras_x_pisonatur_x_techozinc\n",
            "new_paredfibras_x_pisonatur_x_techoentrepiso\n",
            "new_paredfibras_x_pisonatur_x_techocane\n",
            "new_paredfibras_x_pisonatur_x_techootro\n",
            "new_paredfibras_x_pisonotiene_x_techozinc\n",
            "new_paredfibras_x_pisonotiene_x_techoentrepiso\n",
            "new_paredfibras_x_pisonotiene_x_techocane\n",
            "new_paredfibras_x_pisonotiene_x_techootro\n",
            "new_paredfibras_x_pisomadera_x_techozinc\n",
            "new_paredfibras_x_pisomadera_x_techoentrepiso\n",
            "new_paredfibras_x_pisomadera_x_techocane\n",
            "new_paredfibras_x_pisomadera_x_techootro\n",
            "new_paredother_x_pisomoscer_x_techozinc\n",
            "new_paredother_x_pisomoscer_x_techoentrepiso\n",
            "new_paredother_x_pisomoscer_x_techocane\n",
            "new_paredother_x_pisomoscer_x_techootro\n",
            "new_paredother_x_pisocemento_x_techoentrepiso\n",
            "new_paredother_x_pisocemento_x_techocane\n",
            "new_paredother_x_pisocemento_x_techootro\n",
            "new_paredother_x_pisoother_x_techozinc\n",
            "new_paredother_x_pisoother_x_techoentrepiso\n",
            "new_paredother_x_pisoother_x_techocane\n",
            "new_paredother_x_pisoother_x_techootro\n",
            "new_paredother_x_pisonatur_x_techozinc\n",
            "new_paredother_x_pisonatur_x_techoentrepiso\n",
            "new_paredother_x_pisonatur_x_techocane\n",
            "new_paredother_x_pisonatur_x_techootro\n",
            "new_paredother_x_pisonotiene_x_techozinc\n",
            "new_paredother_x_pisonotiene_x_techoentrepiso\n",
            "new_paredother_x_pisonotiene_x_techocane\n",
            "new_paredother_x_pisonotiene_x_techootro\n",
            "new_paredother_x_pisomadera_x_techozinc\n",
            "new_paredother_x_pisomadera_x_techoentrepiso\n",
            "new_paredother_x_pisomadera_x_techocane\n",
            "new_paredother_x_pisomadera_x_techootro\n"
          ]
        }
      ]
    },
    {
      "cell_type": "code",
      "source": [
        "df_train.drop(cols_with_only_one_value, axis=1, inplace=True)\n",
        "df_test.drop(cols_with_only_one_value, axis=1, inplace=True)"
      ],
      "metadata": {
        "id": "7x0KukMLak8F"
      },
      "execution_count": 69,
      "outputs": []
    },
    {
      "cell_type": "markdown",
      "source": [
        "**Check whether both train and test have same features**"
      ],
      "metadata": {
        "id": "3QVtOSJia1oI"
      }
    },
    {
      "cell_type": "code",
      "source": [
        "cols_train = np.array(sorted([col for col in df_train.columns if col != 'Target']))\n",
        "cols_test = np.array(sorted(df_test.columns))"
      ],
      "metadata": {
        "id": "OuXmYsVNak5Y"
      },
      "execution_count": 70,
      "outputs": []
    },
    {
      "cell_type": "code",
      "source": [
        "(cols_train == cols_test).sum() == len(cols_train)"
      ],
      "metadata": {
        "colab": {
          "base_uri": "https://localhost:8080/"
        },
        "id": "zvxjFr6zak2a",
        "outputId": "02ef9562-c409-4452-ea8f-7430e85659e9"
      },
      "execution_count": 71,
      "outputs": [
        {
          "output_type": "execute_result",
          "data": {
            "text/plain": [
              "True"
            ]
          },
          "metadata": {},
          "execution_count": 71
        }
      ]
    },
    {
      "cell_type": "markdown",
      "source": [
        "### 2-4.aggregation features"
      ],
      "metadata": {
        "id": "o3M_9jwka99X"
      }
    },
    {
      "cell_type": "markdown",
      "source": [
        "* In this competition, each samples are member of spectific household(idhogar). So let's aggregate based on 'idhogar' values."
      ],
      "metadata": {
        "id": "BTLdqMeKbCGh"
      }
    },
    {
      "cell_type": "markdown",
      "source": [
        "**Aggregations for family features**"
      ],
      "metadata": {
        "id": "jkgfzadhbDMX"
      }
    },
    {
      "cell_type": "code",
      "source": [
        "def max_min(x):\n",
        "    return x.max() - x.min()"
      ],
      "metadata": {
        "id": "4bd2E3zvakz9"
      },
      "execution_count": 72,
      "outputs": []
    },
    {
      "cell_type": "code",
      "source": [
        "agg_train = pd.DataFrame()\n",
        "agg_test = pd.DataFrame()\n",
        "\n",
        "for item in tqdm(family_size_features):\n",
        "    for i, function in enumerate(['mean','std','min','max','sum', 'count', max_min]):\n",
        "        group_train = df_train[item].groupby(df_train['idhogar']).agg(function)\n",
        "        group_test = df_test[item].groupby(df_test['idhogar']).agg(function)\n",
        "        if i == 6:\n",
        "            new_col = item + '_new_' + 'max_min'\n",
        "        else:\n",
        "            new_col = item + '_new_' + function\n",
        "        agg_train[new_col] = group_train\n",
        "        agg_test[new_col] = group_test\n",
        "\n",
        "print('new aggregate train set has {} rows, and {} features'.format(agg_train.shape[0], agg_train.shape[1]))\n",
        "print('new aggregate test set has {} rows, and {} features'.format(agg_test.shape[0], agg_test.shape[1]))"
      ],
      "metadata": {
        "colab": {
          "base_uri": "https://localhost:8080/"
        },
        "id": "JcXOTzxYakxa",
        "outputId": "28332d44-d144-4348-e3f1-138d5a88ff09"
      },
      "execution_count": 73,
      "outputs": [
        {
          "output_type": "stream",
          "name": "stderr",
          "text": [
            "100%|██████████| 15/15 [00:23<00:00,  1.54s/it]"
          ]
        },
        {
          "output_type": "stream",
          "name": "stdout",
          "text": [
            "new aggregate train set has 2988 rows, and 105 features\n",
            "new aggregate test set has 7352 rows, and 105 features\n"
          ]
        },
        {
          "output_type": "stream",
          "name": "stderr",
          "text": [
            "\n"
          ]
        }
      ]
    },
    {
      "cell_type": "code",
      "source": [
        "aggr_list = ['rez_esc', 'dis', 'male', 'female', \n",
        "                  'estadocivil1', 'estadocivil2', 'estadocivil3', 'estadocivil4', 'estadocivil5', 'estadocivil6', 'estadocivil7', \n",
        "                  'parentesco2', 'parentesco3', 'parentesco4', 'parentesco5', 'parentesco6', 'parentesco7', 'parentesco8', 'parentesco9', 'parentesco10', \n",
        "                  'parentesco11', 'parentesco12',\n",
        "                  'instlevel1', 'instlevel2', 'instlevel3', 'instlevel4', 'instlevel5', 'instlevel6', 'instlevel7', 'instlevel8', 'instlevel9',\n",
        "                 'epared1', 'epared2', 'epared3', 'etecho1', 'etecho2', 'etecho3', 'eviv1', 'eviv2', 'eviv3', 'refrig', 'television', 'mobilephone',\n",
        "            'area1', 'area2', 'v18q', 'edjef']"
      ],
      "metadata": {
        "id": "w26m3SV2aksK"
      },
      "execution_count": 74,
      "outputs": []
    },
    {
      "cell_type": "code",
      "source": [
        "for item in tqdm(aggr_list):\n",
        "    for function in ['count', 'sum']:\n",
        "        group_train = df_train[item].groupby(df_train['idhogar']).agg(function)\n",
        "        group_test = df_test[item].groupby(df_test['idhogar']).agg(function)\n",
        "        new_col = item + '_new1_' + function\n",
        "        agg_train[new_col] = group_train\n",
        "        agg_test[new_col] = group_test\n",
        "print('new aggregate train set has {} rows, and {} features'.format(agg_train.shape[0], agg_train.shape[1]))\n",
        "print('new aggregate test set has {} rows, and {} features'.format(agg_test.shape[0], agg_test.shape[1]))"
      ],
      "metadata": {
        "colab": {
          "base_uri": "https://localhost:8080/"
        },
        "id": "xt43Y-E8akm_",
        "outputId": "8b858ccf-49d6-4830-fdb4-e0af31c022e6"
      },
      "execution_count": 76,
      "outputs": [
        {
          "output_type": "stream",
          "name": "stderr",
          "text": [
            "100%|██████████| 47/47 [00:01<00:00, 34.89it/s]"
          ]
        },
        {
          "output_type": "stream",
          "name": "stdout",
          "text": [
            "new aggregate train set has 2988 rows, and 199 features\n",
            "new aggregate test set has 7352 rows, and 199 features\n"
          ]
        },
        {
          "output_type": "stream",
          "name": "stderr",
          "text": [
            "\n"
          ]
        }
      ]
    },
    {
      "cell_type": "code",
      "source": [
        "aggr_list = ['escolari', 'age', 'escolari_age', 'dependency', 'bedrooms', 'overcrowding', 'rooms', 'qmobilephone', 'v18q1']\n",
        "\n",
        "for item in tqdm(aggr_list):\n",
        "    for function in ['mean','std','min','max','sum', 'count', max_min]:\n",
        "        group_train = df_train[item].groupby(df_train['idhogar']).agg(function)\n",
        "        group_test = df_test[item].groupby(df_test['idhogar']).agg(function)\n",
        "        if i == 6:\n",
        "            new_col = item + '_new2_' + 'max_min'\n",
        "        else:\n",
        "            new_col = item + '_new2_' + function\n",
        "        agg_train[new_col] = group_train\n",
        "        agg_test[new_col] = group_test\n",
        "\n",
        "print('new aggregate train set has {} rows, and {} features'.format(agg_train.shape[0], agg_train.shape[1]))\n",
        "print('new aggregate test set has {} rows, and {} features'.format(agg_test.shape[0], agg_test.shape[1]))"
      ],
      "metadata": {
        "colab": {
          "base_uri": "https://localhost:8080/"
        },
        "id": "bdI5dbO3akkJ",
        "outputId": "236bbdc6-47c6-4bbe-abc8-916ea9b3fb8f"
      },
      "execution_count": 77,
      "outputs": [
        {
          "output_type": "stream",
          "name": "stderr",
          "text": [
            "100%|██████████| 9/9 [00:11<00:00,  1.23s/it]"
          ]
        },
        {
          "output_type": "stream",
          "name": "stdout",
          "text": [
            "new aggregate train set has 2988 rows, and 208 features\n",
            "new aggregate test set has 7352 rows, and 208 features\n"
          ]
        },
        {
          "output_type": "stream",
          "name": "stderr",
          "text": [
            "\n"
          ]
        }
      ]
    },
    {
      "cell_type": "code",
      "source": [
        "agg_test = agg_test.reset_index()\n",
        "agg_train = agg_train.reset_index()\n",
        "\n",
        "train_agg = pd.merge(df_train, agg_train, on='idhogar')\n",
        "test = pd.merge(df_test, agg_test, on='idhogar')\n",
        "\n",
        "#fill all na as 0\n",
        "train_agg.fillna(value=0, inplace=True)\n",
        "test.fillna(value=0, inplace=True)\n",
        "\n",
        "print('train shape:', train_agg.shape, 'test shape:', test.shape)"
      ],
      "metadata": {
        "colab": {
          "base_uri": "https://localhost:8080/"
        },
        "id": "PwqrTqSBbVen",
        "outputId": "43f88e04-6216-47da-bb11-d29ddfb78b2b"
      },
      "execution_count": 78,
      "outputs": [
        {
          "output_type": "stream",
          "name": "stdout",
          "text": [
            "train shape: (9557, 724) test shape: (23856, 723)\n"
          ]
        }
      ]
    },
    {
      "cell_type": "code",
      "source": [
        "aggr_list = ['rez_esc', 'dis', 'male', 'female', \n",
        "                  'estadocivil1', 'estadocivil2', 'estadocivil3', 'estadocivil4', 'estadocivil5', 'estadocivil6', 'estadocivil7', \n",
        "                  'parentesco2', 'parentesco3', 'parentesco4', 'parentesco5', 'parentesco6', 'parentesco7', 'parentesco8', 'parentesco9', 'parentesco10', \n",
        "                  'parentesco11', 'parentesco12',\n",
        "                  'instlevel1', 'instlevel2', 'instlevel3', 'instlevel4', 'instlevel5', 'instlevel6', 'instlevel7', 'instlevel8', 'instlevel9',\n",
        "                 'epared1', 'epared2', 'epared3', 'etecho1', 'etecho2', 'etecho3', 'eviv1', 'eviv2', 'eviv3', 'refrig', 'television', 'mobilephone',\n",
        "            'area1', 'area2', 'v18q', 'edjef']\n",
        "    \n",
        "for lugar in ['lugar1', 'lugar2', 'lugar3', 'lugar4', 'lugar5', 'lugar6']:\n",
        "    group_train = df_train[[lugar, 'idhogar'] + aggr_list].groupby([lugar, 'idhogar']).sum().reset_index()\n",
        "    group_train.columns = [lugar, 'idhogar'] + ['new3_{}_idhogar_{}'.format(lugar, col) for col in group_train][2:]\n",
        "\n",
        "    group_test = df_test[[lugar, 'idhogar'] + aggr_list].groupby([lugar, 'idhogar']).sum().reset_index()\n",
        "    group_test.columns = [lugar, 'idhogar'] + ['new3_{}_idhogar_{}'.format(lugar, col) for col in group_test][2:]\n",
        "\n",
        "    train_agg = pd.merge(train_agg, group_train, on=[lugar, 'idhogar'])\n",
        "    test = pd.merge(test, group_test, on=[lugar, 'idhogar'])\n",
        "    \n",
        "print('train shape:', train_agg.shape, 'test shape:', test.shape)"
      ],
      "metadata": {
        "colab": {
          "base_uri": "https://localhost:8080/"
        },
        "id": "Tk3jQat6bVZs",
        "outputId": "df9d50f5-c1fb-47b3-d763-ec29c43faccc"
      },
      "execution_count": 79,
      "outputs": [
        {
          "output_type": "stream",
          "name": "stdout",
          "text": [
            "train shape: (9557, 1006) test shape: (23856, 1005)\n"
          ]
        }
      ]
    },
    {
      "cell_type": "code",
      "source": [
        "aggr_list = ['rez_esc', 'dis', 'male', 'female', \n",
        "                  'estadocivil1', 'estadocivil2', 'estadocivil3', 'estadocivil4', 'estadocivil5', 'estadocivil6', 'estadocivil7', \n",
        "                  'parentesco2', 'parentesco3', 'parentesco4', 'parentesco5', 'parentesco6', 'parentesco7', 'parentesco8', 'parentesco9', 'parentesco10', \n",
        "                  'parentesco11', 'parentesco12',\n",
        "                  'instlevel1', 'instlevel2', 'instlevel3', 'instlevel4', 'instlevel5', 'instlevel6', 'instlevel7', 'instlevel8', 'instlevel9',\n",
        "                 'epared1', 'epared2', 'epared3', 'etecho1', 'etecho2', 'etecho3', 'eviv1', 'eviv2', 'eviv3', 'refrig', 'television', 'mobilephone',\n",
        "            'area1', 'area2', 'v18q', 'edjef']\n",
        "    \n",
        "for lugar in ['lugar1', 'lugar2', 'lugar3', 'lugar4', 'lugar5', 'lugar6']:\n",
        "    group_train = df_train[[lugar, 'idhogar'] + aggr_list].groupby([lugar, 'idhogar']).sum().reset_index()\n",
        "    group_train.columns = [lugar, 'idhogar'] + ['new4_{}_idhogar_{}'.format(lugar, col) for col in group_train][2:]\n",
        "\n",
        "    group_test = df_test[[lugar, 'idhogar'] + aggr_list].groupby([lugar, 'idhogar']).sum().reset_index()\n",
        "    group_test.columns = [lugar, 'idhogar'] + ['new4_{}_idhogar_{}'.format(lugar, col) for col in group_test][2:]\n",
        "\n",
        "    train_agg = pd.merge(train_agg, group_train, on=[lugar, 'idhogar'])\n",
        "    test = pd.merge(test, group_test, on=[lugar, 'idhogar'])\n",
        "    \n",
        "print('train shape:', train_agg.shape, 'test shape:', test.shape)"
      ],
      "metadata": {
        "colab": {
          "base_uri": "https://localhost:8080/"
        },
        "id": "48fxCY64bVSr",
        "outputId": "16f6e116-f94d-46e1-de06-d26ce7bd94f8"
      },
      "execution_count": 80,
      "outputs": [
        {
          "output_type": "stream",
          "name": "stdout",
          "text": [
            "train shape: (9557, 1288) test shape: (23856, 1287)\n"
          ]
        }
      ]
    },
    {
      "cell_type": "code",
      "source": [
        "cols_nums = ['age', 'meaneduc', 'dependency', \n",
        "             'hogar_nin', 'hogar_adul', 'hogar_mayor', 'hogar_total',\n",
        "             'bedrooms', 'overcrowding']\n",
        "\n",
        "for function in tqdm(['mean','std','min','max','sum', 'count', max_min]):\n",
        "    for lugar in ['lugar1', 'lugar2', 'lugar3', 'lugar4', 'lugar5', 'lugar6']:\n",
        "        group_train = df_train[[lugar, 'idhogar'] + aggr_list].groupby([lugar, 'idhogar']).agg(function).reset_index()\n",
        "        group_train.columns = [lugar, 'idhogar'] + ['new5_{}_idhogar_{}_{}'.format(lugar, col, function) for col in group_train][2:]\n",
        "\n",
        "        group_test = df_test[[lugar, 'idhogar'] + aggr_list].groupby([lugar, 'idhogar']).agg(function).reset_index()\n",
        "        group_test.columns = [lugar, 'idhogar'] + ['new5_{}_idhogar_{}_{}'.format(lugar, col, function) for col in group_test][2:]\n",
        "\n",
        "        train_agg = pd.merge(train_agg, group_train, on=[lugar, 'idhogar'])\n",
        "        test = pd.merge(test, group_test, on=[lugar, 'idhogar'])\n",
        "        \n",
        "print('train shape:', train_agg.shape, 'test shape:', test.shape)"
      ],
      "metadata": {
        "colab": {
          "base_uri": "https://localhost:8080/"
        },
        "id": "oAYn_W_obboY",
        "outputId": "57eb126e-6e33-4a52-e239-8e358f9b2042"
      },
      "execution_count": 81,
      "outputs": [
        {
          "output_type": "stream",
          "name": "stderr",
          "text": [
            "100%|██████████| 7/7 [06:23<00:00, 54.72s/it] "
          ]
        },
        {
          "output_type": "stream",
          "name": "stdout",
          "text": [
            "train shape: (9557, 3262) test shape: (23856, 3261)\n"
          ]
        },
        {
          "output_type": "stream",
          "name": "stderr",
          "text": [
            "\n"
          ]
        }
      ]
    },
    {
      "cell_type": "markdown",
      "source": [
        "* According to data descriptions,ONLY the heads of household are used in scoring.\n",
        "* All household members are included in test + the sample submission, but only heads of households are scored."
      ],
      "metadata": {
        "id": "GA3N4Y_-bgIR"
      }
    },
    {
      "cell_type": "code",
      "source": [
        "train = train_agg.query('parentesco1==1')"
      ],
      "metadata": {
        "id": "nrHx7LgVbbmU"
      },
      "execution_count": 82,
      "outputs": []
    },
    {
      "cell_type": "code",
      "source": [
        "train['dependency'].replace(np.inf, 0, inplace=True)\n",
        "test['dependency'].replace(np.inf, 0, inplace=True)"
      ],
      "metadata": {
        "id": "MC-UE4sqbbhF"
      },
      "execution_count": 83,
      "outputs": []
    },
    {
      "cell_type": "code",
      "source": [
        "submission = test[['Id']]\n",
        "\n",
        "#Remove useless feature to reduce dimension\n",
        "train.drop(columns=['idhogar','Id', 'agesq', 'hogar_adul', 'SQBescolari', 'SQBage', 'SQBhogar_total', 'SQBedjefe', 'SQBhogar_nin', 'SQBovercrowding', 'SQBdependency', 'SQBmeaned'], inplace=True)\n",
        "test.drop(columns=['idhogar','Id',  'agesq', 'hogar_adul', 'SQBescolari', 'SQBage', 'SQBhogar_total', 'SQBedjefe', 'SQBhogar_nin', 'SQBovercrowding', 'SQBdependency', 'SQBmeaned'], inplace=True)\n",
        "\n",
        "correlation = train.corr()\n",
        "correlation = correlation['Target'].sort_values(ascending=False)"
      ],
      "metadata": {
        "id": "hDAlLO6ibbbM"
      },
      "execution_count": 84,
      "outputs": []
    },
    {
      "cell_type": "code",
      "source": [
        "print('final_data size', train.shape, test.shape)"
      ],
      "metadata": {
        "colab": {
          "base_uri": "https://localhost:8080/"
        },
        "id": "fH4APBBHbbV2",
        "outputId": "69740dcc-3872-4055-cfe4-280d10cf2dcf"
      },
      "execution_count": 85,
      "outputs": [
        {
          "output_type": "stream",
          "name": "stdout",
          "text": [
            "final_data size (2973, 3250) (23856, 3249)\n"
          ]
        }
      ]
    },
    {
      "cell_type": "code",
      "source": [
        "print(f'The most 20 positive feature: \\n{correlation.head(40)}')"
      ],
      "metadata": {
        "colab": {
          "base_uri": "https://localhost:8080/"
        },
        "id": "Jh67blbYbbRb",
        "outputId": "d4d41a4e-1904-4b80-fcf2-8ca8e5dcf3b1"
      },
      "execution_count": 86,
      "outputs": [
        {
          "output_type": "stream",
          "name": "stdout",
          "text": [
            "The most 20 positive feature: \n",
            "Target                                1.000000\n",
            "new5_lugar3_idhogar_edjef_max         0.334254\n",
            "new5_lugar2_idhogar_edjef_max         0.334254\n",
            "new5_lugar5_idhogar_edjef_max         0.334254\n",
            "new5_lugar4_idhogar_edjef_max         0.334254\n",
            "new5_lugar6_idhogar_edjef_max         0.334254\n",
            "new5_lugar1_idhogar_edjef_max         0.334254\n",
            "new5_lugar2_idhogar_edjef_mean        0.333873\n",
            "new5_lugar4_idhogar_edjef_mean        0.333873\n",
            "new5_lugar3_idhogar_edjef_mean        0.333873\n",
            "new5_lugar1_idhogar_edjef_mean        0.333873\n",
            "new5_lugar5_idhogar_edjef_mean        0.333873\n",
            "new5_lugar6_idhogar_edjef_mean        0.333873\n",
            "new5_lugar3_idhogar_edjef_min         0.333791\n",
            "new5_lugar4_idhogar_edjef_min         0.333791\n",
            "new5_lugar5_idhogar_edjef_min         0.333791\n",
            "new5_lugar6_idhogar_edjef_min         0.333791\n",
            "edjef                                 0.333791\n",
            "new5_lugar2_idhogar_edjef_min         0.333791\n",
            "new5_lugar1_idhogar_edjef_min         0.333791\n",
            "escolari                              0.333791\n",
            "meaneduc                              0.331489\n",
            "new5_lugar5_idhogar_instlevel8_max    0.317815\n",
            "new5_lugar2_idhogar_instlevel8_max    0.317815\n",
            "new5_lugar6_idhogar_instlevel8_max    0.317815\n",
            "new5_lugar3_idhogar_instlevel8_max    0.317815\n",
            "new5_lugar1_idhogar_instlevel8_max    0.317815\n",
            "new5_lugar4_idhogar_instlevel8_max    0.317815\n",
            "phones-per-capita                     0.299026\n",
            "new5_lugar6_idhogar_instlevel8_std    0.298251\n",
            "new5_lugar5_idhogar_instlevel8_std    0.298251\n",
            "new5_lugar1_idhogar_instlevel8_std    0.298251\n",
            "new5_lugar2_idhogar_instlevel8_std    0.298251\n",
            "new5_lugar3_idhogar_instlevel8_std    0.298251\n",
            "new5_lugar4_idhogar_instlevel8_std    0.298251\n",
            "new_epared3_x_eviv3                   0.298196\n",
            "cielorazo                             0.295249\n",
            "new4_lugar2_idhogar_instlevel8        0.294277\n",
            "instlevel8_new1_sum                   0.294277\n",
            "new4_lugar1_idhogar_instlevel8        0.294277\n",
            "Name: Target, dtype: float64\n"
          ]
        }
      ]
    },
    {
      "cell_type": "code",
      "source": [
        "print(f'The most 20 negative feature: \\n{correlation.tail(20)}')"
      ],
      "metadata": {
        "colab": {
          "base_uri": "https://localhost:8080/"
        },
        "id": "yP2GKmDbbbMB",
        "outputId": "1604e3b0-a53f-43a0-a9c8-56cf1be8b886"
      },
      "execution_count": 87,
      "outputs": [
        {
          "output_type": "stream",
          "name": "stdout",
          "text": [
            "The most 20 negative feature: \n",
            "new5_lugar5_idhogar_television_<function max_min at 0x7f4030809dd0>    NaN\n",
            "new5_lugar5_idhogar_mobilephone_<function max_min at 0x7f4030809dd0>   NaN\n",
            "new5_lugar5_idhogar_area1_<function max_min at 0x7f4030809dd0>         NaN\n",
            "new5_lugar5_idhogar_area2_<function max_min at 0x7f4030809dd0>         NaN\n",
            "new5_lugar5_idhogar_v18q_<function max_min at 0x7f4030809dd0>          NaN\n",
            "new5_lugar6_idhogar_epared1_<function max_min at 0x7f4030809dd0>       NaN\n",
            "new5_lugar6_idhogar_epared2_<function max_min at 0x7f4030809dd0>       NaN\n",
            "new5_lugar6_idhogar_epared3_<function max_min at 0x7f4030809dd0>       NaN\n",
            "new5_lugar6_idhogar_etecho1_<function max_min at 0x7f4030809dd0>       NaN\n",
            "new5_lugar6_idhogar_etecho2_<function max_min at 0x7f4030809dd0>       NaN\n",
            "new5_lugar6_idhogar_etecho3_<function max_min at 0x7f4030809dd0>       NaN\n",
            "new5_lugar6_idhogar_eviv1_<function max_min at 0x7f4030809dd0>         NaN\n",
            "new5_lugar6_idhogar_eviv2_<function max_min at 0x7f4030809dd0>         NaN\n",
            "new5_lugar6_idhogar_eviv3_<function max_min at 0x7f4030809dd0>         NaN\n",
            "new5_lugar6_idhogar_refrig_<function max_min at 0x7f4030809dd0>        NaN\n",
            "new5_lugar6_idhogar_television_<function max_min at 0x7f4030809dd0>    NaN\n",
            "new5_lugar6_idhogar_mobilephone_<function max_min at 0x7f4030809dd0>   NaN\n",
            "new5_lugar6_idhogar_area1_<function max_min at 0x7f4030809dd0>         NaN\n",
            "new5_lugar6_idhogar_area2_<function max_min at 0x7f4030809dd0>         NaN\n",
            "new5_lugar6_idhogar_v18q_<function max_min at 0x7f4030809dd0>          NaN\n",
            "Name: Target, dtype: float64\n"
          ]
        }
      ]
    },
    {
      "cell_type": "markdown",
      "source": [
        "## 4.Feature Selection using shap"
      ],
      "metadata": {
        "id": "WDaziqNUbtEf"
      }
    },
    {
      "cell_type": "code",
      "source": [
        "binary_cat_features = [col for col in train.columns if train[col].value_counts().shape[0] == 2]\n",
        "object_features = ['edjefe', 'edjefa']\n",
        "\n",
        "categorical_feats = binary_cat_features + object_features"
      ],
      "metadata": {
        "id": "6Ob0uMwnbbHF"
      },
      "execution_count": 88,
      "outputs": []
    },
    {
      "cell_type": "code",
      "source": [
        "def evaluate_macroF1_lgb(truth, predictions):  \n",
        "    # this follows the discussion in https://github.com/Microsoft/LightGBM/issues/1483\n",
        "    pred_labels = predictions.reshape(len(np.unique(truth)),-1).argmax(axis=0)\n",
        "    f1 = f1_score(truth, pred_labels, average='macro')\n",
        "    return ('macroF1', f1, True) "
      ],
      "metadata": {
        "id": "iNcGjqI0b0kY"
      },
      "execution_count": 89,
      "outputs": []
    },
    {
      "cell_type": "code",
      "source": [
        "y = train['Target']\n",
        "train.drop(columns=['Target'], inplace=True)"
      ],
      "metadata": {
        "id": "Gh6PhNPgb0gn"
      },
      "execution_count": 90,
      "outputs": []
    },
    {
      "cell_type": "code",
      "source": [
        "def print_execution_time(start):\n",
        "    end = time.time()\n",
        "    hours, rem = divmod(end-start, 3600)\n",
        "    minutes, seconds = divmod(rem, 60)\n",
        "    print('*'*20, \"Execution ended in {:0>2}h {:0>2}m {:05.2f}s\".format(int(hours),int(minutes),seconds), '*'*20)"
      ],
      "metadata": {
        "id": "82F5z3wAb64Q"
      },
      "execution_count": 91,
      "outputs": []
    },
    {
      "cell_type": "code",
      "source": [
        "def extract_good_features_using_shap_LGB(params, SEED):\n",
        "    clf = lgb.LGBMClassifier(objective='multiclass',\n",
        "                             random_state=1989,\n",
        "                             max_depth=params['max_depth'], \n",
        "                             learning_rate=params['learning_rate'],  \n",
        "                             silent=True, \n",
        "                             metric='multi_logloss',\n",
        "                             n_jobs=-1, n_estimators=10000, \n",
        "                             class_weight='balanced',\n",
        "                             colsample_bytree = params['colsample_bytree'], \n",
        "                             min_split_gain= params['min_split_gain'], \n",
        "                             bagging_freq = params['bagging_freq'],\n",
        "                             min_child_weight=params['min_child_weight'],\n",
        "                             num_leaves = params['num_leaves'], \n",
        "                             subsample = params['subsample'],\n",
        "                             reg_alpha= params['reg_alpha'],\n",
        "                             reg_lambda= params['reg_lambda'],\n",
        "                             num_class=len(np.unique(y)),\n",
        "                             bagging_seed=SEED,\n",
        "                             seed=SEED,\n",
        "                            )\n",
        "\n",
        "    kfold = 5\n",
        "    kf = StratifiedKFold(n_splits=kfold, shuffle=True)\n",
        "    feat_importance_df  = pd.DataFrame()\n",
        "\n",
        "    for i, (train_index, test_index) in enumerate(kf.split(train, y)):\n",
        "        print('='*30, '{} of {} folds'.format(i+1, kfold), '='*30)\n",
        "        start = time.time()\n",
        "        X_train, X_val = train.iloc[train_index], train.iloc[test_index]\n",
        "        y_train, y_val = y.iloc[train_index], y.iloc[test_index]\n",
        "        clf.fit(X_train, y_train, eval_set=[(X_train, y_train), (X_val, y_val)], eval_metric=evaluate_macroF1_lgb, categorical_feature=categorical_feats,\n",
        "                early_stopping_rounds=500, verbose=500)\n",
        "        shap_values = shap.TreeExplainer(clf.booster_).shap_values(X_train)\n",
        "        fold_importance_df  = pd.DataFrame()\n",
        "        fold_importance_df['feature'] = X_train.columns\n",
        "        fold_importance_df['shap_values'] = abs(np.array(shap_values)[:, :].mean(1).mean(0))\n",
        "        fold_importance_df['feat_imp'] = clf.feature_importances_\n",
        "        feat_importance_df = pd.concat([feat_importance_df, fold_importance_df])\n",
        "        print_execution_time(start)\n",
        "\n",
        "    feat_importance_df_shap = feat_importance_df.groupby('feature').mean().sort_values('shap_values', ascending=False).reset_index()\n",
        "#     feat_importance_df_shap['shap_cumsum'] = feat_importance_df_shap['shap_values'].cumsum() / feat_importance_df_shap['shap_values'].sum()\n",
        "#     good_features = feat_importance_df_shap.loc[feat_importance_df_shap['shap_cumsum'] < 0.999].feature\n",
        "    return feat_importance_df_shap"
      ],
      "metadata": {
        "id": "DWaqeCLQb6w3"
      },
      "execution_count": 92,
      "outputs": []
    },
    {
      "cell_type": "code",
      "source": [
        "total_shap_df  = pd.DataFrame()\n",
        "NUM_ITERATIONS = 50\n",
        "for SEED in range(NUM_ITERATIONS):\n",
        "    print('#'*40, '{} of {} iterations'.format(SEED+1, NUM_ITERATIONS), '#' * 40)\n",
        "    params = {'max_depth': np.random.choice([5, 6, 7, 8, 10, 12, -1]),\n",
        "             'learning_rate': np.random.rand() * 0.02,\n",
        "              'colsample_bytree': np.random.rand() * (1 - 0.5) + 0.5,\n",
        "              'subsample': np.random.rand() * (1 - 0.5) + 0.5,\n",
        "              'min_split_gain': np.random.rand() * 0.2,\n",
        "              'num_leaves': np.random.choice([32, 48, 64]),\n",
        "              'reg_alpha': np.random.rand() * 2,\n",
        "              'reg_lambda': np.random.rand() *2,\n",
        "              'bagging_freq': np.random.randint(4) +1,\n",
        "              'min_child_weight': np.random.randint(100) + 20\n",
        "             }\n",
        "    temp_shap_df = extract_good_features_using_shap_LGB(params, SEED)\n",
        "    total_shap_df = pd.concat([total_shap_df, temp_shap_df])"
      ],
      "metadata": {
        "colab": {
          "base_uri": "https://localhost:8080/"
        },
        "id": "uUJsUP2Hb0ca",
        "outputId": "9fe00124-a54c-436b-e487-f8a6ff2cd46f"
      },
      "execution_count": null,
      "outputs": [
        {
          "output_type": "stream",
          "name": "stdout",
          "text": [
            "######################################## 1 of 50 iterations ########################################\n",
            "============================== 1 of 5 folds ==============================\n",
            "Training until validation scores don't improve for 500 rounds.\n",
            "[500]\ttraining's multi_logloss: 1.21613\ttraining's macroF1: 0.515065\tvalid_1's multi_logloss: 1.20589\tvalid_1's macroF1: 0.388454\n",
            "Early stopping, best iteration is:\n",
            "[372]\ttraining's multi_logloss: 1.24977\ttraining's macroF1: 0.503308\tvalid_1's multi_logloss: 1.23788\tvalid_1's macroF1: 0.401572\n",
            "******************** Execution ended in 00h 01m 33.32s ********************\n",
            "============================== 2 of 5 folds ==============================\n",
            "Training until validation scores don't improve for 500 rounds.\n",
            "[500]\ttraining's multi_logloss: 1.22421\ttraining's macroF1: 0.500332\tvalid_1's multi_logloss: 1.19259\tvalid_1's macroF1: 0.390208\n",
            "Early stopping, best iteration is:\n",
            "[29]\ttraining's multi_logloss: 1.3733\ttraining's macroF1: 0.458795\tvalid_1's multi_logloss: 1.36864\tvalid_1's macroF1: 0.404263\n",
            "******************** Execution ended in 00h 00m 56.59s ********************\n",
            "============================== 3 of 5 folds ==============================\n",
            "Training until validation scores don't improve for 500 rounds.\n",
            "[500]\ttraining's multi_logloss: 1.21861\ttraining's macroF1: 0.504471\tvalid_1's multi_logloss: 1.19176\tvalid_1's macroF1: 0.40242\n",
            "[1000]\ttraining's multi_logloss: 1.1252\ttraining's macroF1: 0.531742\tvalid_1's multi_logloss: 1.10849\tvalid_1's macroF1: 0.425014\n",
            "[1500]\ttraining's multi_logloss: 1.06193\ttraining's macroF1: 0.555688\tvalid_1's multi_logloss: 1.06733\tvalid_1's macroF1: 0.423099\n",
            "Early stopping, best iteration is:\n",
            "[1036]\ttraining's multi_logloss: 1.11974\ttraining's macroF1: 0.534465\tvalid_1's multi_logloss: 1.10445\tvalid_1's macroF1: 0.432524\n",
            "******************** Execution ended in 00h 02m 53.13s ********************\n",
            "============================== 4 of 5 folds ==============================\n",
            "Training until validation scores don't improve for 500 rounds.\n",
            "[500]\ttraining's multi_logloss: 1.21887\ttraining's macroF1: 0.515109\tvalid_1's multi_logloss: 1.21386\tvalid_1's macroF1: 0.379716\n",
            "[1000]\ttraining's multi_logloss: 1.1245\ttraining's macroF1: 0.545865\tvalid_1's multi_logloss: 1.1351\tvalid_1's macroF1: 0.404517\n",
            "[1500]\ttraining's multi_logloss: 1.06012\ttraining's macroF1: 0.565961\tvalid_1's multi_logloss: 1.09544\tvalid_1's macroF1: 0.411568\n",
            "Early stopping, best iteration is:\n",
            "[1410]\ttraining's multi_logloss: 1.07027\ttraining's macroF1: 0.561423\tvalid_1's multi_logloss: 1.10116\tvalid_1's macroF1: 0.418168\n",
            "******************** Execution ended in 00h 03m 31.62s ********************\n",
            "============================== 5 of 5 folds ==============================\n",
            "Training until validation scores don't improve for 500 rounds.\n",
            "[500]\ttraining's multi_logloss: 1.21956\ttraining's macroF1: 0.502079\tvalid_1's multi_logloss: 1.18964\tvalid_1's macroF1: 0.406631\n",
            "[1000]\ttraining's multi_logloss: 1.12503\ttraining's macroF1: 0.52052\tvalid_1's multi_logloss: 1.10602\tvalid_1's macroF1: 0.414428\n",
            "Early stopping, best iteration is:\n",
            "[656]\ttraining's multi_logloss: 1.1853\ttraining's macroF1: 0.503143\tvalid_1's multi_logloss: 1.15639\tvalid_1's macroF1: 0.427242\n",
            "******************** Execution ended in 00h 02m 17.09s ********************\n",
            "######################################## 2 of 50 iterations ########################################\n",
            "============================== 1 of 5 folds ==============================\n",
            "Training until validation scores don't improve for 500 rounds.\n",
            "[500]\ttraining's multi_logloss: 1.19145\ttraining's macroF1: 0.581141\tvalid_1's multi_logloss: 1.19421\tvalid_1's macroF1: 0.423309\n",
            "Early stopping, best iteration is:\n",
            "[6]\ttraining's multi_logloss: 1.38321\ttraining's macroF1: 0.47348\tvalid_1's multi_logloss: 1.38235\tvalid_1's macroF1: 0.469374\n",
            "******************** Execution ended in 00h 00m 47.92s ********************\n",
            "============================== 2 of 5 folds ==============================\n",
            "Training until validation scores don't improve for 500 rounds.\n",
            "[500]\ttraining's multi_logloss: 1.19008\ttraining's macroF1: 0.58189\tvalid_1's multi_logloss: 1.18989\tvalid_1's macroF1: 0.422009\n",
            "Early stopping, best iteration is:\n",
            "[193]\ttraining's multi_logloss: 1.29565\ttraining's macroF1: 0.566266\tvalid_1's multi_logloss: 1.28823\tvalid_1's macroF1: 0.4345\n",
            "******************** Execution ended in 00h 01m 09.97s ********************\n",
            "============================== 3 of 5 folds ==============================\n",
            "Training until validation scores don't improve for 500 rounds.\n",
            "[500]\ttraining's multi_logloss: 1.19152\ttraining's macroF1: 0.589252\tvalid_1's multi_logloss: 1.18243\tvalid_1's macroF1: 0.412016\n",
            "Early stopping, best iteration is:\n",
            "[9]\ttraining's multi_logloss: 1.3815\ttraining's macroF1: 0.501905\tvalid_1's multi_logloss: 1.38029\tvalid_1's macroF1: 0.449009\n",
            "******************** Execution ended in 00h 00m 48.79s ********************\n",
            "============================== 4 of 5 folds ==============================\n",
            "Training until validation scores don't improve for 500 rounds.\n",
            "[500]\ttraining's multi_logloss: 1.1877\ttraining's macroF1: 0.583025\tvalid_1's multi_logloss: 1.17402\tvalid_1's macroF1: 0.387715\n",
            "Early stopping, best iteration is:\n",
            "[15]\ttraining's multi_logloss: 1.37817\ttraining's macroF1: 0.514405\tvalid_1's multi_logloss: 1.37667\tvalid_1's macroF1: 0.426291\n",
            "******************** Execution ended in 00h 00m 56.70s ********************\n",
            "============================== 5 of 5 folds ==============================\n",
            "Training until validation scores don't improve for 500 rounds.\n",
            "[500]\ttraining's multi_logloss: 1.1848\ttraining's macroF1: 0.585161\tvalid_1's multi_logloss: 1.19475\tvalid_1's macroF1: 0.354552\n",
            "Early stopping, best iteration is:\n",
            "[64]\ttraining's multi_logloss: 1.35228\ttraining's macroF1: 0.550177\tvalid_1's multi_logloss: 1.34996\tvalid_1's macroF1: 0.379376\n",
            "******************** Execution ended in 00h 00m 54.77s ********************\n",
            "######################################## 3 of 50 iterations ########################################\n",
            "============================== 1 of 5 folds ==============================\n",
            "Training until validation scores don't improve for 500 rounds.\n",
            "[500]\ttraining's multi_logloss: 1.00521\ttraining's macroF1: 0.536587\tvalid_1's multi_logloss: 1.04956\tvalid_1's macroF1: 0.397671\n",
            "[1000]\ttraining's multi_logloss: 0.905926\ttraining's macroF1: 0.584716\tvalid_1's multi_logloss: 1.03978\tvalid_1's macroF1: 0.403956\n",
            "Early stopping, best iteration is:\n",
            "[601]\ttraining's multi_logloss: 0.980208\ttraining's macroF1: 0.553309\tvalid_1's multi_logloss: 1.04524\tvalid_1's macroF1: 0.414352\n",
            "******************** Execution ended in 00h 01m 28.31s ********************\n",
            "============================== 2 of 5 folds ==============================\n",
            "Training until validation scores don't improve for 500 rounds.\n",
            "[500]\ttraining's multi_logloss: 0.993126\ttraining's macroF1: 0.536423\tvalid_1's multi_logloss: 1.0747\tvalid_1's macroF1: 0.382828\n",
            "Early stopping, best iteration is:\n",
            "[442]\ttraining's multi_logloss: 1.00837\ttraining's macroF1: 0.530619\tvalid_1's multi_logloss: 1.07438\tvalid_1's macroF1: 0.402772\n",
            "******************** Execution ended in 00h 01m 17.36s ********************\n",
            "============================== 3 of 5 folds ==============================\n",
            "Training until validation scores don't improve for 500 rounds.\n",
            "[500]\ttraining's multi_logloss: 0.999072\ttraining's macroF1: 0.546931\tvalid_1's multi_logloss: 1.0784\tvalid_1's macroF1: 0.35893\n",
            "Early stopping, best iteration is:\n",
            "[30]\ttraining's multi_logloss: 1.31035\ttraining's macroF1: 0.455668\tvalid_1's multi_logloss: 1.28599\tvalid_1's macroF1: 0.395499\n",
            "******************** Execution ended in 00h 00m 44.46s ********************\n",
            "============================== 4 of 5 folds ==============================\n",
            "Training until validation scores don't improve for 500 rounds.\n",
            "[500]\ttraining's multi_logloss: 1.00137\ttraining's macroF1: 0.552669\tvalid_1's multi_logloss: 1.04062\tvalid_1's macroF1: 0.432957\n",
            "[1000]\ttraining's multi_logloss: 0.904326\ttraining's macroF1: 0.596532\tvalid_1's multi_logloss: 1.03234\tvalid_1's macroF1: 0.442138\n",
            "Early stopping, best iteration is:\n",
            "[698]\ttraining's multi_logloss: 0.956624\ttraining's macroF1: 0.570384\tvalid_1's multi_logloss: 1.0339\tvalid_1's macroF1: 0.446848\n",
            "******************** Execution ended in 00h 01m 36.79s ********************\n",
            "============================== 5 of 5 folds ==============================\n",
            "Training until validation scores don't improve for 500 rounds.\n",
            "[500]\ttraining's multi_logloss: 1.00684\ttraining's macroF1: 0.551163\tvalid_1's multi_logloss: 1.04479\tvalid_1's macroF1: 0.437216\n",
            "[1000]\ttraining's multi_logloss: 0.907074\ttraining's macroF1: 0.594782\tvalid_1's multi_logloss: 1.02978\tvalid_1's macroF1: 0.451512\n",
            "[1500]\ttraining's multi_logloss: 0.840223\ttraining's macroF1: 0.625384\tvalid_1's multi_logloss: 1.02935\tvalid_1's macroF1: 0.443798\n",
            "Early stopping, best iteration is:\n",
            "[1078]\ttraining's multi_logloss: 0.895405\ttraining's macroF1: 0.596841\tvalid_1's multi_logloss: 1.02852\tvalid_1's macroF1: 0.446867\n",
            "******************** Execution ended in 00h 02m 08.41s ********************\n",
            "######################################## 4 of 50 iterations ########################################\n",
            "============================== 1 of 5 folds ==============================\n",
            "Training until validation scores don't improve for 500 rounds.\n",
            "[500]\ttraining's multi_logloss: 1.19727\ttraining's macroF1: 0.621222\tvalid_1's multi_logloss: 1.21073\tvalid_1's macroF1: 0.389907\n",
            "Early stopping, best iteration is:\n",
            "[5]\ttraining's multi_logloss: 1.38386\ttraining's macroF1: 0.506214\tvalid_1's multi_logloss: 1.38357\tvalid_1's macroF1: 0.404297\n",
            "******************** Execution ended in 00h 00m 59.03s ********************\n",
            "============================== 2 of 5 folds ==============================\n",
            "Training until validation scores don't improve for 500 rounds.\n",
            "[500]\ttraining's multi_logloss: 1.19718\ttraining's macroF1: 0.597709\tvalid_1's multi_logloss: 1.22198\tvalid_1's macroF1: 0.37595\n",
            "Early stopping, best iteration is:\n",
            "[49]\ttraining's multi_logloss: 1.3631\ttraining's macroF1: 0.569878\tvalid_1's multi_logloss: 1.36324\tvalid_1's macroF1: 0.38998\n",
            "******************** Execution ended in 00h 01m 04.36s ********************\n",
            "============================== 3 of 5 folds ==============================\n",
            "Training until validation scores don't improve for 500 rounds.\n",
            "[500]\ttraining's multi_logloss: 1.19853\ttraining's macroF1: 0.603067\tvalid_1's multi_logloss: 1.21656\tvalid_1's macroF1: 0.390563\n",
            "Early stopping, best iteration is:\n",
            "[191]\ttraining's multi_logloss: 1.3031\ttraining's macroF1: 0.588182\tvalid_1's multi_logloss: 1.30599\tvalid_1's macroF1: 0.403544\n",
            "******************** Execution ended in 00h 01m 22.91s ********************\n",
            "============================== 4 of 5 folds ==============================\n",
            "Training until validation scores don't improve for 500 rounds.\n",
            "[500]\ttraining's multi_logloss: 1.2004\ttraining's macroF1: 0.596384\tvalid_1's multi_logloss: 1.20594\tvalid_1's macroF1: 0.413792\n",
            "Early stopping, best iteration is:\n",
            "[34]\ttraining's multi_logloss: 1.37023\ttraining's macroF1: 0.565948\tvalid_1's multi_logloss: 1.3689\tvalid_1's macroF1: 0.425954\n",
            "******************** Execution ended in 00h 01m 01.03s ********************\n",
            "============================== 5 of 5 folds ==============================\n",
            "Training until validation scores don't improve for 500 rounds.\n",
            "[500]\ttraining's multi_logloss: 1.20851\ttraining's macroF1: 0.601999\tvalid_1's multi_logloss: 1.20223\tvalid_1's macroF1: 0.445507\n",
            "Early stopping, best iteration is:\n",
            "[321]\ttraining's multi_logloss: 1.26212\ttraining's macroF1: 0.582715\tvalid_1's multi_logloss: 1.25399\tvalid_1's macroF1: 0.458366\n",
            "******************** Execution ended in 00h 01m 41.81s ********************\n",
            "######################################## 5 of 50 iterations ########################################\n",
            "============================== 1 of 5 folds ==============================\n",
            "Training until validation scores don't improve for 500 rounds.\n",
            "[500]\ttraining's multi_logloss: 0.936592\ttraining's macroF1: 0.598961\tvalid_1's multi_logloss: 1.0536\tvalid_1's macroF1: 0.402335\n",
            "[1000]\ttraining's multi_logloss: 0.812\ttraining's macroF1: 0.65398\tvalid_1's multi_logloss: 1.0439\tvalid_1's macroF1: 0.394892\n",
            "Early stopping, best iteration is:\n",
            "[634]\ttraining's multi_logloss: 0.895951\ttraining's macroF1: 0.609939\tvalid_1's multi_logloss: 1.04862\tvalid_1's macroF1: 0.414816\n",
            "******************** Execution ended in 00h 01m 58.76s ********************\n",
            "============================== 2 of 5 folds ==============================\n",
            "Training until validation scores don't improve for 500 rounds.\n",
            "[500]\ttraining's multi_logloss: 0.934881\ttraining's macroF1: 0.591037\tvalid_1's multi_logloss: 1.04659\tvalid_1's macroF1: 0.394575\n",
            "[1000]\ttraining's multi_logloss: 0.813953\ttraining's macroF1: 0.656648\tvalid_1's multi_logloss: 1.02965\tvalid_1's macroF1: 0.422426\n",
            "[1500]\ttraining's multi_logloss: 0.733493\ttraining's macroF1: 0.695956\tvalid_1's multi_logloss: 1.02124\tvalid_1's macroF1: 0.428614\n",
            "[2000]\ttraining's multi_logloss: 0.674562\ttraining's macroF1: 0.723244\tvalid_1's multi_logloss: 1.01685\tvalid_1's macroF1: 0.422156\n",
            "Early stopping, best iteration is:\n",
            "[1671]\ttraining's multi_logloss: 0.711552\ttraining's macroF1: 0.71184\tvalid_1's multi_logloss: 1.01952\tvalid_1's macroF1: 0.435165\n",
            "******************** Execution ended in 00h 03m 43.23s ********************\n",
            "============================== 3 of 5 folds ==============================\n",
            "Training until validation scores don't improve for 500 rounds.\n",
            "[500]\ttraining's multi_logloss: 0.927963\ttraining's macroF1: 0.58257\tvalid_1's multi_logloss: 1.04912\tvalid_1's macroF1: 0.371832\n",
            "[1000]\ttraining's multi_logloss: 0.803422\ttraining's macroF1: 0.650332\tvalid_1's multi_logloss: 1.03819\tvalid_1's macroF1: 0.393955\n",
            "[1500]\ttraining's multi_logloss: 0.722976\ttraining's macroF1: 0.698717\tvalid_1's multi_logloss: 1.03244\tvalid_1's macroF1: 0.401539\n",
            "[2000]\ttraining's multi_logloss: 0.664442\ttraining's macroF1: 0.728128\tvalid_1's multi_logloss: 1.03233\tvalid_1's macroF1: 0.395868\n",
            "Early stopping, best iteration is:\n",
            "[1612]\ttraining's multi_logloss: 0.70827\ttraining's macroF1: 0.705706\tvalid_1's multi_logloss: 1.03232\tvalid_1's macroF1: 0.408742\n",
            "******************** Execution ended in 00h 03m 36.04s ********************\n",
            "============================== 4 of 5 folds ==============================\n",
            "Training until validation scores don't improve for 500 rounds.\n",
            "[500]\ttraining's multi_logloss: 0.942406\ttraining's macroF1: 0.599703\tvalid_1's multi_logloss: 1.01135\tvalid_1's macroF1: 0.453972\n",
            "[1000]\ttraining's multi_logloss: 0.815906\ttraining's macroF1: 0.66256\tvalid_1's multi_logloss: 0.998347\tvalid_1's macroF1: 0.438506\n",
            "Early stopping, best iteration is:\n",
            "[513]\ttraining's multi_logloss: 0.938056\ttraining's macroF1: 0.599808\tvalid_1's multi_logloss: 1.01073\tvalid_1's macroF1: 0.456765\n",
            "******************** Execution ended in 00h 01m 50.32s ********************\n",
            "============================== 5 of 5 folds ==============================\n",
            "Training until validation scores don't improve for 500 rounds.\n",
            "[500]\ttraining's multi_logloss: 0.943037\ttraining's macroF1: 0.588668\tvalid_1's multi_logloss: 1.04097\tvalid_1's macroF1: 0.426376\n",
            "Early stopping, best iteration is:\n",
            "[125]\ttraining's multi_logloss: 1.15624\ttraining's macroF1: 0.512296\tvalid_1's multi_logloss: 1.14083\tvalid_1's macroF1: 0.43324\n",
            "******************** Execution ended in 00h 01m 08.89s ********************\n",
            "######################################## 6 of 50 iterations ########################################\n",
            "============================== 1 of 5 folds ==============================\n",
            "Training until validation scores don't improve for 500 rounds.\n",
            "[500]\ttraining's multi_logloss: 0.84816\ttraining's macroF1: 0.675824\tvalid_1's multi_logloss: 0.981755\tvalid_1's macroF1: 0.431713\n",
            "[1000]\ttraining's multi_logloss: 0.668891\ttraining's macroF1: 0.753063\tvalid_1's multi_logloss: 0.961596\tvalid_1's macroF1: 0.42694\n",
            "Early stopping, best iteration is:\n",
            "[787]\ttraining's multi_logloss: 0.733114\ttraining's macroF1: 0.728139\tvalid_1's multi_logloss: 0.967206\tvalid_1's macroF1: 0.438709\n",
            "******************** Execution ended in 00h 02m 35.65s ********************\n",
            "============================== 2 of 5 folds ==============================\n",
            "Training until validation scores don't improve for 500 rounds.\n",
            "[500]\ttraining's multi_logloss: 0.849278\ttraining's macroF1: 0.681846\tvalid_1's multi_logloss: 0.996173\tvalid_1's macroF1: 0.422844\n",
            "Early stopping, best iteration is:\n",
            "[431]\ttraining's multi_logloss: 0.884248\ttraining's macroF1: 0.664214\tvalid_1's multi_logloss: 1.00652\tvalid_1's macroF1: 0.446085\n",
            "******************** Execution ended in 00h 02m 01.30s ********************\n",
            "============================== 3 of 5 folds ==============================\n",
            "Training until validation scores don't improve for 500 rounds.\n",
            "[500]\ttraining's multi_logloss: 0.846118\ttraining's macroF1: 0.677924\tvalid_1's multi_logloss: 1.00821\tvalid_1's macroF1: 0.420673\n",
            "Early stopping, best iteration is:\n",
            "[20]\ttraining's multi_logloss: 1.33182\ttraining's macroF1: 0.516948\tvalid_1's multi_logloss: 1.32256\tvalid_1's macroF1: 0.435456\n",
            "******************** Execution ended in 00h 00m 59.55s ********************\n",
            "============================== 4 of 5 folds ==============================\n",
            "Training until validation scores don't improve for 500 rounds.\n",
            "[500]\ttraining's multi_logloss: 0.847575\ttraining's macroF1: 0.682425\tvalid_1's multi_logloss: 1.04167\tvalid_1's macroF1: 0.397967\n",
            "Early stopping, best iteration is:\n",
            "[43]\ttraining's multi_logloss: 1.28024\ttraining's macroF1: 0.538974\tvalid_1's multi_logloss: 1.27489\tvalid_1's macroF1: 0.42385\n",
            "******************** Execution ended in 00h 01m 04.44s ********************\n",
            "============================== 5 of 5 folds ==============================\n",
            "Training until validation scores don't improve for 500 rounds.\n",
            "[500]\ttraining's multi_logloss: 0.839131\ttraining's macroF1: 0.695552\tvalid_1's multi_logloss: 1.00288\tvalid_1's macroF1: 0.437838\n",
            "Early stopping, best iteration is:\n",
            "[319]\ttraining's multi_logloss: 0.948503\ttraining's macroF1: 0.65145\tvalid_1's multi_logloss: 1.02988\tvalid_1's macroF1: 0.455632\n",
            "******************** Execution ended in 00h 01m 39.03s ********************\n",
            "######################################## 7 of 50 iterations ########################################\n",
            "============================== 1 of 5 folds ==============================\n",
            "Training until validation scores don't improve for 500 rounds.\n",
            "[500]\ttraining's multi_logloss: 1.02027\ttraining's macroF1: 0.541351\tvalid_1's multi_logloss: 1.07556\tvalid_1's macroF1: 0.378574\n",
            "[1000]\ttraining's multi_logloss: 0.921344\ttraining's macroF1: 0.576341\tvalid_1's multi_logloss: 1.06045\tvalid_1's macroF1: 0.402954\n",
            "[1500]\ttraining's multi_logloss: 0.856246\ttraining's macroF1: 0.609396\tvalid_1's multi_logloss: 1.06249\tvalid_1's macroF1: 0.392148\n",
            "Early stopping, best iteration is:\n",
            "[1109]\ttraining's multi_logloss: 0.90538\ttraining's macroF1: 0.585783\tvalid_1's multi_logloss: 1.0586\tvalid_1's macroF1: 0.410683\n",
            "******************** Execution ended in 00h 01m 21.17s ********************\n",
            "============================== 2 of 5 folds ==============================\n",
            "Training until validation scores don't improve for 500 rounds.\n",
            "[500]\ttraining's multi_logloss: 1.0222\ttraining's macroF1: 0.552656\tvalid_1's multi_logloss: 1.04078\tvalid_1's macroF1: 0.414863\n",
            "Early stopping, best iteration is:\n",
            "[412]\ttraining's multi_logloss: 1.0489\ttraining's macroF1: 0.540023\tvalid_1's multi_logloss: 1.04921\tvalid_1's macroF1: 0.426859\n",
            "******************** Execution ended in 00h 00m 47.17s ********************\n",
            "============================== 3 of 5 folds ==============================\n",
            "Training until validation scores don't improve for 500 rounds.\n",
            "[500]\ttraining's multi_logloss: 1.03201\ttraining's macroF1: 0.546169\tvalid_1's multi_logloss: 1.08387\tvalid_1's macroF1: 0.394545\n",
            "Early stopping, best iteration is:\n",
            "[236]\ttraining's multi_logloss: 1.12985\ttraining's macroF1: 0.507663\tvalid_1's multi_logloss: 1.12444\tvalid_1's macroF1: 0.406664\n",
            "******************** Execution ended in 00h 00m 38.03s ********************\n",
            "============================== 4 of 5 folds ==============================\n",
            "Training until validation scores don't improve for 500 rounds.\n",
            "[500]\ttraining's multi_logloss: 1.03457\ttraining's macroF1: 0.548254\tvalid_1's multi_logloss: 1.03748\tvalid_1's macroF1: 0.442972\n",
            "Early stopping, best iteration is:\n",
            "[357]\ttraining's multi_logloss: 1.0809\ttraining's macroF1: 0.53392\tvalid_1's multi_logloss: 1.05446\tvalid_1's macroF1: 0.462091\n",
            "******************** Execution ended in 00h 00m 45.44s ********************\n",
            "============================== 5 of 5 folds ==============================\n",
            "Training until validation scores don't improve for 500 rounds.\n",
            "[500]\ttraining's multi_logloss: 1.02705\ttraining's macroF1: 0.552699\tvalid_1's multi_logloss: 1.01868\tvalid_1's macroF1: 0.385069\n",
            "Early stopping, best iteration is:\n",
            "[29]\ttraining's multi_logloss: 1.33043\ttraining's macroF1: 0.465438\tvalid_1's multi_logloss: 1.30376\tvalid_1's macroF1: 0.4121\n",
            "******************** Execution ended in 00h 00m 27.81s ********************\n",
            "######################################## 8 of 50 iterations ########################################\n",
            "============================== 1 of 5 folds ==============================\n",
            "Training until validation scores don't improve for 500 rounds.\n",
            "[500]\ttraining's multi_logloss: 1.02394\ttraining's macroF1: 0.558426\tvalid_1's multi_logloss: 1.08498\tvalid_1's macroF1: 0.412432\n",
            "[1000]\ttraining's multi_logloss: 0.900639\ttraining's macroF1: 0.60548\tvalid_1's multi_logloss: 1.0666\tvalid_1's macroF1: 0.396322\n",
            "Early stopping, best iteration is:\n",
            "[629]\ttraining's multi_logloss: 0.984058\ttraining's macroF1: 0.568511\tvalid_1's multi_logloss: 1.07529\tvalid_1's macroF1: 0.415502\n",
            "******************** Execution ended in 00h 02m 29.00s ********************\n",
            "============================== 2 of 5 folds ==============================\n",
            "Training until validation scores don't improve for 500 rounds.\n",
            "[500]\ttraining's multi_logloss: 1.03311\ttraining's macroF1: 0.579981\tvalid_1's multi_logloss: 1.0478\tvalid_1's macroF1: 0.422339\n",
            "Early stopping, best iteration is:\n",
            "[233]\ttraining's multi_logloss: 1.15645\ttraining's macroF1: 0.532991\tvalid_1's multi_logloss: 1.12931\tvalid_1's macroF1: 0.427882\n",
            "******************** Execution ended in 00h 01m 38.07s ********************\n",
            "============================== 3 of 5 folds ==============================\n",
            "Training until validation scores don't improve for 500 rounds.\n",
            "[500]\ttraining's multi_logloss: 1.01988\ttraining's macroF1: 0.564951\tvalid_1's multi_logloss: 1.04712\tvalid_1's macroF1: 0.405349\n",
            "[1000]\ttraining's multi_logloss: 0.896503\ttraining's macroF1: 0.61051\tvalid_1's multi_logloss: 1.01387\tvalid_1's macroF1: 0.398104\n",
            "Early stopping, best iteration is:\n",
            "[604]\ttraining's multi_logloss: 0.987119\ttraining's macroF1: 0.575509\tvalid_1's multi_logloss: 1.0344\tvalid_1's macroF1: 0.41786\n",
            "******************** Execution ended in 00h 02m 23.66s ********************\n",
            "============================== 4 of 5 folds ==============================\n",
            "Training until validation scores don't improve for 500 rounds.\n",
            "[500]\ttraining's multi_logloss: 1.01244\ttraining's macroF1: 0.549665\tvalid_1's multi_logloss: 1.1134\tvalid_1's macroF1: 0.357812\n",
            "Early stopping, best iteration is:\n",
            "[110]\ttraining's multi_logloss: 1.23508\ttraining's macroF1: 0.477123\tvalid_1's multi_logloss: 1.25016\tvalid_1's macroF1: 0.362885\n",
            "******************** Execution ended in 00h 01m 22.20s ********************\n",
            "============================== 5 of 5 folds ==============================\n",
            "Training until validation scores don't improve for 500 rounds.\n",
            "[500]\ttraining's multi_logloss: 1.01572\ttraining's macroF1: 0.568242\tvalid_1's multi_logloss: 1.06066\tvalid_1's macroF1: 0.400103\n",
            "[1000]\ttraining's multi_logloss: 0.894808\ttraining's macroF1: 0.623129\tvalid_1's multi_logloss: 1.04137\tvalid_1's macroF1: 0.390686\n",
            "Early stopping, best iteration is:\n",
            "[540]\ttraining's multi_logloss: 1.00282\ttraining's macroF1: 0.570688\tvalid_1's multi_logloss: 1.05681\tvalid_1's macroF1: 0.410641\n",
            "******************** Execution ended in 00h 02m 15.12s ********************\n",
            "######################################## 9 of 50 iterations ########################################\n",
            "============================== 1 of 5 folds ==============================\n",
            "Training until validation scores don't improve for 500 rounds.\n",
            "[500]\ttraining's multi_logloss: 1.32956\ttraining's macroF1: 0.441415\tvalid_1's multi_logloss: 1.30525\tvalid_1's macroF1: 0.368846\n",
            "Early stopping, best iteration is:\n",
            "[44]\ttraining's multi_logloss: 1.38062\ttraining's macroF1: 0.434031\tvalid_1's multi_logloss: 1.37789\tvalid_1's macroF1: 0.388857\n",
            "******************** Execution ended in 00h 00m 39.53s ********************\n",
            "============================== 2 of 5 folds ==============================\n",
            "Training until validation scores don't improve for 500 rounds.\n",
            "[500]\ttraining's multi_logloss: 1.32922\ttraining's macroF1: 0.441321\tvalid_1's multi_logloss: 1.31147\tvalid_1's macroF1: 0.359546\n",
            "Early stopping, best iteration is:\n",
            "[232]\ttraining's multi_logloss: 1.35761\ttraining's macroF1: 0.442518\tvalid_1's multi_logloss: 1.3477\tvalid_1's macroF1: 0.381893\n",
            "******************** Execution ended in 00h 00m 54.81s ********************\n",
            "============================== 3 of 5 folds ==============================\n",
            "Training until validation scores don't improve for 500 rounds.\n",
            "[500]\ttraining's multi_logloss: 1.3288\ttraining's macroF1: 0.455333\tvalid_1's multi_logloss: 1.31604\tvalid_1's macroF1: 0.357405\n",
            "Early stopping, best iteration is:\n",
            "[2]\ttraining's multi_logloss: 1.38604\ttraining's macroF1: 0.391696\tvalid_1's multi_logloss: 1.38594\tvalid_1's macroF1: 0.365408\n",
            "******************** Execution ended in 00h 00m 37.26s ********************\n",
            "============================== 4 of 5 folds ==============================\n",
            "Training until validation scores don't improve for 500 rounds.\n",
            "[500]\ttraining's multi_logloss: 1.33263\ttraining's macroF1: 0.437904\tvalid_1's multi_logloss: 1.31044\tvalid_1's macroF1: 0.404619\n",
            "Early stopping, best iteration is:\n",
            "[10]\ttraining's multi_logloss: 1.38508\ttraining's macroF1: 0.426152\tvalid_1's multi_logloss: 1.38452\tvalid_1's macroF1: 0.427389\n",
            "******************** Execution ended in 00h 00m 36.51s ********************\n",
            "============================== 5 of 5 folds ==============================\n",
            "Training until validation scores don't improve for 500 rounds.\n",
            "[500]\ttraining's multi_logloss: 1.32892\ttraining's macroF1: 0.43814\tvalid_1's multi_logloss: 1.31709\tvalid_1's macroF1: 0.384065\n",
            "[1000]\ttraining's multi_logloss: 1.2848\ttraining's macroF1: 0.450269\tvalid_1's multi_logloss: 1.26797\tvalid_1's macroF1: 0.397836\n",
            "Early stopping, best iteration is:\n",
            "[611]\ttraining's multi_logloss: 1.31818\ttraining's macroF1: 0.44121\tvalid_1's multi_logloss: 1.3049\tvalid_1's macroF1: 0.403489\n",
            "******************** Execution ended in 00h 01m 22.43s ********************\n",
            "######################################## 10 of 50 iterations ########################################\n",
            "============================== 1 of 5 folds ==============================\n",
            "Training until validation scores don't improve for 500 rounds.\n",
            "[500]\ttraining's multi_logloss: 1.18197\ttraining's macroF1: 0.473383\tvalid_1's multi_logloss: 1.13614\tvalid_1's macroF1: 0.456099\n",
            "[1000]\ttraining's multi_logloss: 1.08948\ttraining's macroF1: 0.510038\tvalid_1's multi_logloss: 1.06832\tvalid_1's macroF1: 0.437541\n",
            "Early stopping, best iteration is:\n",
            "[584]\ttraining's multi_logloss: 1.16184\ttraining's macroF1: 0.484427\tvalid_1's multi_logloss: 1.11836\tvalid_1's macroF1: 0.466603\n",
            "******************** Execution ended in 00h 02m 04.98s ********************\n",
            "============================== 2 of 5 folds ==============================\n",
            "Training until validation scores don't improve for 500 rounds.\n"
          ]
        }
      ]
    },
    {
      "cell_type": "code",
      "source": [
        "shap_sorted_df = total_shap_df.groupby('feature').mean().sort_values('shap_values', ascending=False).reset_index()\n",
        "feat_imp_sorted_df = total_shap_df.groupby('feature').mean().sort_values('feat_imp', ascending=False).reset_index()\n",
        "features_top_shap = shap_sorted_df['feature'][:500]\n",
        "features_top_feat_imp = feat_imp_sorted_df['feature'][:500]\n",
        "top_features = pd.Series(features_top_shap.tolist() + features_top_feat_imp.tolist())\n",
        "top_features = top_features.unique()"
      ],
      "metadata": {
        "id": "ACu0qCUsb0YR"
      },
      "execution_count": null,
      "outputs": []
    },
    {
      "cell_type": "markdown",
      "source": [
        "## 4.Model development"
      ],
      "metadata": {
        "id": "txMqfBoAcWDW"
      }
    },
    {
      "cell_type": "code",
      "source": [
        "new_train = train[top_features].copy()\n",
        "new_test = test[top_features].copy()"
      ],
      "metadata": {
        "id": "RdLumx6Ib0Un"
      },
      "execution_count": null,
      "outputs": []
    },
    {
      "cell_type": "code",
      "source": [
        "print('new_train shape:', new_train.shape, 'new_test shape:', new_test.shape)"
      ],
      "metadata": {
        "id": "NKztCq4fb0Pz"
      },
      "execution_count": null,
      "outputs": []
    },
    {
      "cell_type": "code",
      "source": [
        "new_categorical_feats = [col for col in top_features if col in categorical_feats]"
      ],
      "metadata": {
        "id": "_qAGjStDbz5E"
      },
      "execution_count": null,
      "outputs": []
    },
    {
      "cell_type": "code",
      "source": [
        "def LGB_OOF(params, categorical_feats, N_FOLDs, SEED=1989):\n",
        "    clf = lgb.LGBMClassifier(objective='multiclass',\n",
        "                             random_state=1989,\n",
        "                             max_depth=params['max_depth'], \n",
        "                             learning_rate=params['learning_rate'],  \n",
        "                             silent=True, \n",
        "                             metric='multi_logloss',\n",
        "                             n_jobs=-1, n_estimators=10000, \n",
        "                             class_weight='balanced',\n",
        "                             colsample_bytree = params['colsample_bytree'], \n",
        "                             min_split_gain= params['min_split_gain'], \n",
        "                             bagging_freq = params['bagging_freq'],\n",
        "                             min_child_weight=params['min_child_weight'],\n",
        "                             num_leaves = params['num_leaves'], \n",
        "                             subsample = params['subsample'],\n",
        "                             reg_alpha= params['reg_alpha'],\n",
        "                             reg_lambda= params['reg_lambda'],\n",
        "                             num_class=len(np.unique(y)),\n",
        "                             bagging_seed=SEED,\n",
        "                             seed=SEED,\n",
        "                            )\n",
        "\n",
        "    kfold = 10\n",
        "    kf = StratifiedKFold(n_splits=kfold, shuffle=True)\n",
        "    feat_importance_df  = pd.DataFrame()\n",
        "    predicts_result = []\n",
        "\n",
        "    for i, (train_index, test_index) in enumerate(kf.split(new_train, y)):\n",
        "        print('='*30, '{} of {} folds'.format(i+1, kfold), '='*30)\n",
        "        start = time.time()\n",
        "        X_train, X_val = new_train.iloc[train_index], new_train.iloc[test_index]\n",
        "        y_train, y_val = y.iloc[train_index], y.iloc[test_index]\n",
        "        clf.fit(X_train, y_train, eval_set=[(X_train, y_train), (X_val, y_val)], eval_metric=evaluate_macroF1_lgb,categorical_feature=new_categorical_feats,\n",
        "                early_stopping_rounds=500, verbose=500)\n",
        "        shap_values = shap.TreeExplainer(clf.booster_).shap_values(X_train)\n",
        "        fold_importance_df  = pd.DataFrame()\n",
        "        fold_importance_df['feature'] = X_train.columns\n",
        "        fold_importance_df['shap_values'] = abs(np.array(shap_values)[:, :].mean(1).mean(0))\n",
        "        fold_importance_df['feat_imp'] = clf.feature_importances_\n",
        "        feat_importance_df = pd.concat([feat_importance_df, fold_importance_df])\n",
        "        predicts_result.append(clf.predict(new_test))\n",
        "        print_execution_time(start)\n",
        "    return predicts_result, feat_importance_df"
      ],
      "metadata": {
        "id": "ZP8ToP3ccbnc"
      },
      "execution_count": null,
      "outputs": []
    },
    {
      "cell_type": "code",
      "source": [
        "params = {'max_depth': 6,\n",
        "         'learning_rate': 0.002,\n",
        "          'colsample_bytree': 0.8,\n",
        "          'subsample': 0.8,\n",
        "          'min_split_gain': 0.02,\n",
        "          'num_leaves': 48,\n",
        "          'reg_alpha': 0.04,\n",
        "          'reg_lambda': 0.073,\n",
        "          'bagging_freq': 2,\n",
        "          'min_child_weight': 40\n",
        "         }\n",
        "\n",
        "N_Folds = 20\n",
        "SEED = 1989\n",
        "predicts_result, feat_importance_df = LGB_OOF(params, new_categorical_feats, N_Folds, SEED=1989)"
      ],
      "metadata": {
        "id": "T2IiSPvJcb9i"
      },
      "execution_count": null,
      "outputs": []
    },
    {
      "cell_type": "code",
      "source": [
        "fig, ax = plt.subplots(1, 2, figsize=(20, 20))\n",
        "feat_importance_df_shap = feat_importance_df.groupby('feature').mean().sort_values('shap_values', ascending=False).reset_index()\n",
        "\n",
        "num_features = 50\n",
        "sns.barplot(x=feat_importance_df_shap.shap_values[:num_features], y=feat_importance_df_shap.feature[:num_features], ax=ax[0])\n",
        "ax[0].set_title('Feature importance based on shap values')\n",
        "\n",
        "feat_importance_df = feat_importance_df.groupby('feature').mean().sort_values('feat_imp', ascending=False).reset_index()\n",
        "\n",
        "num_features = 50\n",
        "sns.barplot(x=feat_importance_df.shap_values[:num_features], y=feat_importance_df.feature[:num_features], ax=ax[1])\n",
        "ax[1].set_title('Feaure importance based on feature importance from lgbm')\n",
        "plt.show()"
      ],
      "metadata": {
        "id": "QxsdAzEYcfhb"
      },
      "execution_count": null,
      "outputs": []
    },
    {
      "cell_type": "code",
      "source": [
        "submission['Target'] = np.array(predicts_result).mean(axis=0).round().astype(int)\n",
        "submission.to_csv('submission_with_new_feature_set.csv', index = False)"
      ],
      "metadata": {
        "id": "-HCdYVX-chkJ"
      },
      "execution_count": null,
      "outputs": []
    },
    {
      "cell_type": "markdown",
      "source": [
        "Randomized search"
      ],
      "metadata": {
        "id": "_LfE__Q9cjls"
      }
    },
    {
      "cell_type": "code",
      "source": [
        "optimized_param = None\n",
        "lowest_cv = 1000\n",
        "total_iteration = 100\n",
        "for i in range(total_iteration):\n",
        "    print('-'*20, 'For {} of {} iterations'.format(i+1, total_iteration), '-'*20)\n",
        "    learning_rate = np.random.rand() * 0.02\n",
        "    n_folds = 3\n",
        "\n",
        "    num_class = len(np.unique(y))\n",
        "\n",
        "    params = {}\n",
        "    params['application'] = 'multiclass'\n",
        "    params['metric'] = 'multi_logloss'\n",
        "    params['num_class'] = num_class\n",
        "    params['class_weight'] = 'balanced'\n",
        "    params['num_leaves'] = np.random.randint(24, 48)\n",
        "    params['max_depth'] = np.random.randint(5, 8)\n",
        "    params['min_child_weight'] = np.random.randint(5, 50)\n",
        "    params['min_split_gain'] = np.random.rand() * 0.09\n",
        "    params['colsample_bytree'] = np.random.rand() * (0.9 - 0.1) + 0.1\n",
        "    params['subsample'] = np.random.rand() * (1 - 0.8) + 0.8\n",
        "    params['bagging_freq'] = np.random.randint(1, 5)\n",
        "    params['bagging_seed'] = np.random.randint(1, 5)\n",
        "    params['reg_alpha'] = np.random.rand() * 2\n",
        "    params['reg_lambda'] = np.random.rand() * 2\n",
        "    params['learning_rate'] = np.random.rand() * 0.02\n",
        "    params['seed']  =1989\n",
        "\n",
        "    d_train = lgb.Dataset(data=new_train, label=y.values-1, categorical_feature=new_categorical_feats, free_raw_data=False)\n",
        "    cv_results = lgb.cv(params=params, train_set=d_train, num_boost_round=10000, categorical_feature=new_categorical_feats,\n",
        "                        nfold=n_folds, stratified=True, shuffle=True, early_stopping_rounds=1, verbose_eval=1000)\n",
        "\n",
        "    min_cv_results = min(cv_results['multi_logloss-mean'])\n",
        "\n",
        "    if min_cv_results < lowest_cv:\n",
        "        lowest_cv = min_cv_results\n",
        "        optimized_param = params"
      ],
      "metadata": {
        "id": "FDdFR6TocizV"
      },
      "execution_count": null,
      "outputs": []
    },
    {
      "cell_type": "code",
      "source": [
        "N_Folds = 20\n",
        "SEED = 1989\n",
        "predicts_result, feat_importance_df = LGB_OOF(optimized_param, new_categorical_feats, N_Folds, SEED=1989)"
      ],
      "metadata": {
        "id": "Pzw9836xcnTQ"
      },
      "execution_count": null,
      "outputs": []
    },
    {
      "cell_type": "code",
      "source": [
        "submission['Target'] = np.array(predicts_result).mean(axis=0).round().astype(int)"
      ],
      "metadata": {
        "id": "DizVsyOfcrAp"
      },
      "execution_count": null,
      "outputs": []
    }
  ]
}